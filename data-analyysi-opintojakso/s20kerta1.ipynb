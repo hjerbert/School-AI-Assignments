{
 "cells": [
  {
   "cell_type": "markdown",
   "metadata": {},
   "source": [
    "# Datan analysointi S2020, kerta 1\n",
    "\n",
    "\n",
    "<a href=\"#105\">perus-Pythonin tietorakenteet</a>  \n",
    "<a href=\"#104\">Lista</a>  \n",
    "<a href=\"#103\">Tuple (monikko)</a>  \n",
    "<a href=\"#102\">Sanakirja (Dictionary)</a>  \n",
    "<a href=\"#2\">Numpy-kirjaston tuonti</a>  \n",
    "<a href=\"#3\">NumPy-taulukko (array)</a>  \n",
    "<a href=\"#4\">NumPy-taulukon siivuttaminen (slicing)</a>  \n",
    "<a href=\"#5\">Laskutoimitukset NumPy-taulukoilla</a>  \n",
    "<a href=\"#6\">NumPy-taulukko vs. lista</a>  \n",
    "<a href=\"#7\">NumPy-taulukon suodatus Boolean-taulukolla</a>  \n",
    "<a href=\"#8\">NumPy-taulukon lajittelu</a>  \n",
    "<a href=\"#9\">pandas-kirjasto</a>  \n",
    "<a href=\"#10\">pandas-kirjaston tuonti</a>  \n",
    "<a href=\"#11\">pandas-Series</a>  \n",
    "<a href=\"#12\">pandas-DataFrame</a>  \n",
    "<a href=\"#13\">Uudelleenindeksointi (reindex)</a>  \n",
    "<a href=\"#14\">Rivien tai sarakkeiden poistaminen (drop)</a>  \n",
    "<a href=\"#15\">Valinta ja suodatus</a>  \n",
    "<a href=\"#16\">loc- ja iloc -operaattorit</a>  \n",
    "<a href=\"#17\">ja/tai/isin</a>  \n",
    "<a href=\"#18\">DataFramen lajittelu</a>  \n",
    "<a href=\"#19\">head, tail, sample</a>\n",
    "\n",
    "\n",
    "Kurssilla tehdään Python 3.x :llä datan analysointia käyttäen pääasiassa **pandas**-laajennuskirjastoa. Ympäristönä käytetään Anacondan Jupyter notebookia. \n",
    "\n",
    "Pythonin perussyntaksi oletetaan pohjatiedoksi, lyhyt materiaali asian kertaamiseen löytyy:  \n",
    " [.ipynb-muodossa](https://student.labranet.jamk.fi/~huoptu/datananal_s20/kerta1/s20kerta0.ipynb)  \n",
    " [.html-muodossa](https://student.labranet.jamk.fi/~huoptu/datananal_s20/kerta1/s20kerta0.html)\n",
    " \n",
    " \n",
    "<a id=\"105\"></a> \n",
    " ## perus-Pythonin tietorakenteita\n",
    " \n",
    " Kertauksena Pythonin sisäänrakennettuja tietorakenteita:\n",
    " <a id=\"104\"></a> \n",
    " ### Lista\n",
    "Pythonissa on muutamia erityyppisiä (sisäänrakennettuja) tietorakenteita, joista yleisin on lista (**List**)\n",
    "\n",
    "Lista määritellään hakasulkujen sisään ja alkiot erotetaan pilkulla. Listan alkiot voivat olla eri tietotyyppiä tai vaikka toisia listoja.\n",
    "```\n",
    "lista1 = [1, 2.2, 'kissa', 3, [False, True]]\n",
    "```\n",
    "\n",
    "Listan alkioihin viitataan indekseillä ihan kuten merkkijonoissakin\n",
    "```\n",
    "lista[1] # palauttaa toisen alkion (1. on paikassa 0)\n",
    "lista[2:5] # palauttaa 5-2 = 3 merkin merkkijonon, jossa merkit paikoista 2, 3 ja 4. Siis paikka 5 ei tule mukaan.\n",
    "lista[:5] # sama kuin [0:5]\n",
    "lista[5:] # sama kuin [5:loppuun asti]\n",
    "lista[-3:-1] # negatiivinen indeksi luetaan lopusta, viimeinen merkki on -1 (ei tule tässä mukaan)\n",
    "lista[:-3] # kolme viimeistä merkkiä jää pois\n",
    "lista[1:-3] # toisesta neljänneksi viimeiseen (kolmanneksi viimeinen ei tule mukaan) \n",
    "```\n",
    "\n",
    "Kolmantena lukuna voidaan antaa *askel*, esim lista[1:5:2] antaa alkiot paikoista 1 ja 3 eli kahden välein. Tätä käytetään  usein negatiivisella askeleella listan kääntämiseksi toisin päin lista[::-1]\n",
    "\n",
    "Listat ovat dynaamisia, eli niitä voi muokata luomisen jälkeen.\n",
    "[Metodeja listojen käsittelyyn](https://docs.python.org/3/library/stdtypes.html#typesseq-mutable)\n",
    " "
   ]
  },
  {
   "cell_type": "code",
   "execution_count": 5,
   "metadata": {},
   "outputs": [
    {
     "name": "stdout",
     "output_type": "stream",
     "text": [
      "2\n",
      "[3, 4, 5]\n",
      "[1, 2, 3, 4, 5]\n",
      "[6, 7, 8]\n",
      "[6, 7]\n",
      "[1, 2, 3, 4, 5]\n",
      "[2, 3, 4, 5]\n",
      "----------\n",
      "\n",
      "[2, 4]\n",
      "[6, 4]\n",
      "[8, 7, 6, 5, 4, 3, 2, 1]\n"
     ]
    }
   ],
   "source": [
    "lista = [1, 2, 3, 4, 5, 6, 7, 8]\n",
    "\n",
    "print(lista[1]) # palauttaa toisen alkion (1. on paikassa 0)\n",
    "print(lista[2:5]) # palauttaa 5-2 = 3 merkin merkkijonon, jossa merkit paikoista 2, 3 ja 4. Siis paikka 5 ei tule mukaan.\n",
    "print(lista[:5]) # sama kuin [0:5]\n",
    "print(lista[5:]) # sama kuin [5:loppuun asti]\n",
    "print(lista[-3:-1]) # negatiivinen indeksi luetaan lopusta, viimeinen merkki on -1 (ei tule tässä mukaan)\n",
    "print(lista[:-3]) # kolme viimeistä merkkiä jää pois\n",
    "print(lista[1:-3]) # toisesta neljänneksi viimeiseen (kolmanneksi viimeinen ei tule mukaan)\n",
    "\n",
    "print('----------\\n')\n",
    "\n",
    "print(lista[1:5:2]) # toisesta viidenteen kahden välein\n",
    "print(lista[5:1:-2]) # kuudennesta kolmanteen -kahden välein\n",
    "print(lista[::-1]) # koko lista nurinpäin\n",
    "\n"
   ]
  },
  {
   "cell_type": "code",
   "execution_count": 6,
   "metadata": {},
   "outputs": [
    {
     "name": "stdout",
     "output_type": "stream",
     "text": [
      "[1, 2.2, 'kissa', 3, [False, True]]\n",
      "------------\n",
      "\n",
      "False\n",
      "------------\n",
      "\n",
      "[1, 300000000.0, 'kissa', 3, [False, True]]\n",
      "------------\n",
      "\n",
      "[1, 300000000.0, 'kissa', 'koira', 3, [False, True]]\n",
      "------------\n",
      "\n",
      "[1, 300000000.0, 'kissa', 'koira', [False, True]]\n",
      "------------\n",
      "\n",
      "1 tyyppiä <class 'int'>\n",
      "300000000.0 tyyppiä <class 'float'>\n",
      "kissa tyyppiä <class 'str'>\n",
      "koira tyyppiä <class 'str'>\n",
      "[False, True] tyyppiä <class 'list'>\n"
     ]
    }
   ],
   "source": [
    "# esimerkkikoodia\n",
    "lista1 = [1, 2.2, 'kissa', 3, [False, True]]\n",
    "print(lista1)\n",
    "\n",
    "print('------------\\n')\n",
    "\n",
    "print(lista1[-1][0])\n",
    "\n",
    "print('------------\\n')\n",
    "\n",
    "# muutetaan yksi alkio\n",
    "lista1[1] = 3e8\n",
    "print(lista1)\n",
    "\n",
    "print('------------\\n')\n",
    "\n",
    "# lisätään yksi alkio väliin\n",
    "lista1.insert(3, 'koira')\n",
    "print(lista1)\n",
    "\n",
    "print('------------\\n')\n",
    "\n",
    "#poistetaan 2. viimeinen alkio\n",
    "del lista1[-2]\n",
    "print(lista1)\n",
    "\n",
    "print('------------\\n')\n",
    "\n",
    "# läpikäydään lista\n",
    "for i in lista1:\n",
    "  print(str(i) + \" tyyppiä \" + str(type(i)))"
   ]
  },
  {
   "cell_type": "markdown",
   "metadata": {},
   "source": [
    " <a id=\"103\"></a> \n",
    "### Tuple (monikko)\n",
    "Tuplet ovat rakenteeltaan samanlaisia kuin listat, mutta niissä on yksi merkittävä ero: ne\n",
    "ovat alkioiltaan kiinteitä, eli tupleilla ei ole metodeja eikä muitakaan tapoja manipuloida niitä. \n",
    "\n",
    "Tuple määritellään tavallisten sulkujen sisään kun lista määritellään hakasulkujen sisään.\n",
    "\n",
    "```\n",
    "lista_2 = ['kissa', 'koira', 'kana'] # Tämä on lista\n",
    "tuple_2 = ('kissa', 'koira', 'kana') # Tämä on tuple\n",
    "```\n",
    "\n",
    "Tupleja käytetään usein  silloin, kun halutaan varmistaa, että esimerkiksi funktiolle annettu listamainen parametri ei tule muuttumaan missään vaiheessa."
   ]
  },
  {
   "cell_type": "markdown",
   "metadata": {},
   "source": [
    " <a id=\"102\"></a> \n",
    "### Sanakirja (Dictionary)\n",
    "Sanakirja (Dictionary, usein myös associative array) on järjestämätön taulukko, jossa alkioihin viitataan uniikeilla avaimilla. Sanakirja sisältää kaksi päätyyppiä, avaimet (key) ja arvot (value). Sanakirjan tapauksessa päätyypeistä\n",
    "avaimen tulee olla ainutlaatuinen, eli sanakirja ei voi sisältää kahta samaa avainta.\n",
    "\n",
    "Sanakirjan määrittely\n",
    "```\n",
    "sanakirja1 = {'kortti' : 'Visa', 'raja' : 2000, 'nimi' : 'Varis'}\n",
    "\n",
    "\n",
    "```\n",
    "\n",
    "Sanakirjan alkioon viitataan antamalla indeksin sijasta alkion avain\n",
    "\n",
    "```\n",
    "print(sanakirja1['raja'])\n",
    "```\n",
    "\n",
    "Läpikäyntiin on useita vaihtoehtoja:\n",
    "* *for x in sanakirja1*  käy läpi avaimet, kuten myös *for x in sanakirja1.keys()*\n",
    "* *for x in sanakirja1.values():* käy läpi arvot\n",
    "* *for x,y in sanakirja1.items():* käy läpi sekä avaimet että arvot\n",
    "\n",
    "\n",
    "Sanakirjan voi luoda myös hieman erilaisella syntaksilla\n",
    "```\n",
    "sanakirja1 = dict(kortti = 'Visa', raja =  2000, nimi = 'Varis')\n",
    "```"
   ]
  },
  {
   "cell_type": "code",
   "execution_count": 7,
   "metadata": {},
   "outputs": [
    {
     "name": "stdout",
     "output_type": "stream",
     "text": [
      "2000\n",
      "------------\n",
      "\n",
      "kortti\n",
      "raja\n",
      "nimi\n",
      "------------\n",
      "\n",
      "kortti\n",
      "raja\n",
      "nimi\n",
      "------------\n",
      "\n",
      "Visa\n",
      "2000\n",
      "Varis\n",
      "------------\n",
      "\n",
      "Visa\n",
      "2000\n",
      "Varis\n",
      "------------\n",
      "\n",
      "kortti : Visa\n",
      "raja : 2000\n",
      "nimi : Varis\n",
      "------------\n",
      "\n",
      "kortti : Visa\n",
      "raja : 2000\n",
      "nimi : Varis\n",
      "loppuu : 11/19\n"
     ]
    }
   ],
   "source": [
    "sanakirja1 = {'kortti' : 'Visa', 'raja' : 2000, 'nimi' : 'Varis'}\n",
    "\n",
    "\n",
    "print(sanakirja1['raja'])\n",
    "\n",
    "print('------------\\n')\n",
    "\n",
    "for x in sanakirja1:\n",
    "  print(x)\n",
    "\n",
    "print('------------\\n')\n",
    "\n",
    "for x in sanakirja1.keys():\n",
    "  print(x)\n",
    "\n",
    "print('------------\\n')\n",
    "\n",
    "for x in sanakirja1:\n",
    "  print(sanakirja1[x])\n",
    "\n",
    "print('------------\\n')\n",
    "\n",
    "for x in sanakirja1.values():\n",
    "  print(x)\n",
    "\n",
    "print('------------\\n')\n",
    "\n",
    "for x,y in sanakirja1.items():\n",
    "  print(x + \" : \" + str(y))\n",
    "\n",
    "print('------------\\n')\n",
    "\n",
    "sanakirja1['loppuu'] = '11/19'\n",
    "\n",
    "for x,y in sanakirja1.items():\n",
    "  print(x + \" : \" + str(y))\n"
   ]
  },
  {
   "cell_type": "markdown",
   "metadata": {},
   "source": [
    "<a id=\"1\"></a>\n",
    "## NumPy-kirjasto\n",
    "\n",
    "NumPy-kirjasto sisältää numeerisen laskennan työkaluja, tärkeimpänä **ndarray (tai array)**, eli taulukko, jolla voidaan kuvata vektoreita, matriiseja ja mitä tahansa moniulotteisia taulukoita. Numpy-taulukot mahdollistavat numeerisen laskennan eri tavoilla kuin tavalliset listat (ndarray = n-dimensional array).\n",
    "\n",
    "Lisäksi NumPy sisältää lukuisia funktioita taulukoiden käsittelyyn, matriisilaskentaan ja tilastolliseen laskentaan.  Numpy-taulukoiden ja –funktioiden toteutukset on hiottu erittäin nopeiksi.\n",
    "\n",
    "[NumPy-sivut](https://docs.scipy.org/doc/numpy/user/index.html)\n",
    "\n",
    "<a id=\"2\"></a>\n",
    "### Numpy-kirjaston tuonti\n",
    "numpy-kirjasto otetaan käyttöön koodissa `import numpy` -käskyllä. Vakiintunut käytäntö on käyttää aliasta `np`:\n",
    "\n",
    "`import numpy as np`\n",
    "\n",
    "Tämän jälkeen koodissa NumPyn funktioita voi kutsua lyhennettä `np` käyttäen.\n",
    "\n",
    "<a id=\"3\"></a>\n",
    "### NumPy-taulukko (array)\n",
    "Taulukoita (array) voi luoda  Pythonin listoista (tai tupleista) numpy.array-funktiolla. \n"
   ]
  },
  {
   "cell_type": "code",
   "execution_count": 8,
   "metadata": {},
   "outputs": [],
   "source": [
    "import numpy as np\n",
    "\n",
    "# Luodaan yksiulotteinen neljan alkion taulukko (eli vektori)\n",
    "\n",
    "vektori = np.array([10, 20, 30, 40])"
   ]
  },
  {
   "cell_type": "markdown",
   "metadata": {},
   "source": [
    "Taulukon alkiohin viittaaminen toimii kuten listojen kanssa:"
   ]
  },
  {
   "cell_type": "code",
   "execution_count": 9,
   "metadata": {
    "scrolled": true
   },
   "outputs": [],
   "source": [
    "eka = vektori[0] # 10\n",
    "toka = vektori[1] # 20\n",
    "vika_1 = vektori[3] # 40\n",
    "vika_2 = vektori[-1] # 40, viimeinen alkio\n",
    "vika_2 = vektori[-2] # 30, toiseksi viimeinen alkio"
   ]
  },
  {
   "cell_type": "markdown",
   "metadata": {},
   "source": [
    "Toisin kuin listat, NumPy-taulukot eivät kuitenkaan voi sisältää eri tyyppisiä alkioita. Jos luontiin käytettävän listan alkiot ovat eri tyyppisiä, NumPy muuttaa kaikki alkiot \"yleisimmäksi\" datatyypiksi."
   ]
  },
  {
   "cell_type": "code",
   "execution_count": 10,
   "metadata": {},
   "outputs": [
    {
     "name": "stdout",
     "output_type": "stream",
     "text": [
      "[1.  3.  3.1]\n",
      "['1' '2.1' '3']\n"
     ]
    }
   ],
   "source": [
    "lista1 = [1, 3, 3.1]\n",
    "nptaulukko1 = np.array(lista1)\n",
    "print(nptaulukko1)  # kaikki floateja\n",
    "\n",
    "lista2 = [1, 2.1, \"3\"]\n",
    "nptaulukko2 = np.array(lista2)\n",
    "print(nptaulukko2)  # kaikki stringejä"
   ]
  },
  {
   "cell_type": "markdown",
   "metadata": {},
   "source": [
    "Kaksiulotteisen NumPy-taulukon eli matriisin, voi luoda samalla tavalla listojen listasta:"
   ]
  },
  {
   "cell_type": "code",
   "execution_count": 11,
   "metadata": {},
   "outputs": [
    {
     "name": "stdout",
     "output_type": "stream",
     "text": [
      "[[10 20 30]\n",
      " [40 50 60]]\n"
     ]
    }
   ],
   "source": [
    "matriisi = np.array([[10, 20, 30],\n",
    "                     [40, 50, 60]])\n",
    "\n",
    "print(matriisi)"
   ]
  },
  {
   "cell_type": "markdown",
   "metadata": {},
   "source": [
    "Kaksiulotteisten NumPy-taulukkojen alkioihin voi viitata taulukko[rivi, sarake] -merkinnällä. Myös tavallisista listoista tuttu merkintä taulukko[rivi][sarake] toimii, mutta on kömpelömpi.\n"
   ]
  },
  {
   "cell_type": "code",
   "execution_count": 12,
   "metadata": {},
   "outputs": [
    {
     "name": "stdout",
     "output_type": "stream",
     "text": [
      "60\n"
     ]
    }
   ],
   "source": [
    "ekan_eka = matriisi[0, 0] # 10\n",
    "tokan_toka = matriisi[1, 1] # 50\n",
    "tokan_vika = matriisi[1, -1] # 60\n",
    "tokan_vika2 = matriisi[1][-1] # 60\n",
    "\n",
    "print(tokan_vika)\n"
   ]
  },
  {
   "cell_type": "markdown",
   "metadata": {},
   "source": [
    "Vastaavasti matriisi voi olla myös useampiulotteinen:"
   ]
  },
  {
   "cell_type": "code",
   "execution_count": 13,
   "metadata": {},
   "outputs": [
    {
     "name": "stdout",
     "output_type": "stream",
     "text": [
      "9\n",
      "[[[ 1  2  3]\n",
      "  [ 4  5  6]]\n",
      "\n",
      " [[ 7  8  9]\n",
      "  [10 11 12]]]\n"
     ]
    }
   ],
   "source": [
    "kolmed_matr = np.array([[[1, 2, 3],\n",
    "                         [4, 5, 6]],\n",
    "                        [[7, 8, 9],\n",
    "                         [10, 11, 12]]])\n",
    "print(kolmed_matr[1,0,2])\n",
    "print(kolmed_matr)"
   ]
  },
  {
   "cell_type": "markdown",
   "metadata": {},
   "source": [
    "Taulukon voi tehdä myös valmiilla NumPyn alustusfunktioilla:\n",
    "* `numpy.zeros` tekee taulukon jossa kaikki alkiot on nollia\n",
    "* `numpy.arange` toimii kuten for-silmukan kanssa käytettävä range-funktio\n",
    "* `numpy.linspace` täyttää taulukon tasavälein olevilla liukuluvuilla \n",
    "\n"
   ]
  },
  {
   "cell_type": "code",
   "execution_count": 14,
   "metadata": {},
   "outputs": [
    {
     "name": "stdout",
     "output_type": "stream",
     "text": [
      "[0. 0. 0. 0. 0. 0. 0. 0. 0. 0.]\n",
      "------------\n",
      "\n",
      "[[0. 0. 0.]\n",
      " [0. 0. 0.]\n",
      " [0. 0. 0.]\n",
      " [0. 0. 0.]\n",
      " [0. 0. 0.]]\n",
      "------------\n",
      "\n",
      "[ 1  2  3  4  5  6  7  8  9 10]\n",
      "------------\n",
      "\n",
      "[  0  10  20  30  40  50  60  70  80  90 100]\n",
      "------------\n",
      "\n",
      "[10  9  8  7  6  5  4  3  2  1]\n",
      "------------\n",
      "\n",
      "[ 0.   2.5  5.   7.5 10. ]\n"
     ]
    }
   ],
   "source": [
    "print(np.zeros(10))\n",
    "\n",
    "print('------------\\n')\n",
    "\n",
    "print(np.zeros([5, 3])) # toimisi myös tuplella np.zeros((5, 3))\n",
    "\n",
    "print('------------\\n')\n",
    "\n",
    "print(np.arange(1, 11)) # alku, loppu. Loppu ei tule mukaan\n",
    "\n",
    "print('------------\\n')\n",
    "\n",
    "print(np.arange(0, 101, 10)) # alku, loppu, askel\n",
    "\n",
    "print('------------\\n')\n",
    "\n",
    "print(np.arange(10, 0, -1)) # alku, loppu, askel\n",
    "\n",
    "print('------------\\n')\n",
    "\n",
    "print(np.linspace(0, 10, 5)) # alku, loppu, lukujen määrä\n"
   ]
  },
  {
   "cell_type": "markdown",
   "metadata": {},
   "source": [
    "<a id=\"4\"></a>\n",
    "### NumPy-taulukon siivuttaminen (slicing)\n",
    "NumPy-taulukoiden siivuttaminen toimii samaan tapaan kuin listojen siivuttaminen. Merkinnässä [start:stop:askel], \n",
    "stop-alkio ei siis kuulu enää siivuun. askel-osuus ei ole pakollinen."
   ]
  },
  {
   "cell_type": "code",
   "execution_count": 15,
   "metadata": {},
   "outputs": [
    {
     "name": "stdout",
     "output_type": "stream",
     "text": [
      "[ 10  20  30  40  50  60  70  80  90 100]\n",
      "------------\n",
      "\n",
      "[30 40 50]\n",
      "------------\n",
      "\n",
      "[90 80 70 60 50]\n",
      "------------\n",
      "\n",
      "[10 20 30]\n",
      "------------\n",
      "\n",
      "[[ 1  2  3  4]\n",
      " [ 5  6  7  8]\n",
      " [ 9 10 11 12]]\n",
      "------------\n",
      "\n",
      "[6 7]\n",
      "------------\n",
      "\n",
      "[11 12]\n"
     ]
    }
   ],
   "source": [
    "vektori = np.arange(10, 110, 10)\n",
    "print(vektori)\n",
    "\n",
    "print('------------\\n')\n",
    "\n",
    "siivu1 = vektori[2:5]\n",
    "print(siivu1)\n",
    "\n",
    "print('------------\\n')\n",
    "\n",
    "print(vektori[-2:3:-1])\n",
    "\n",
    "print('------------\\n')\n",
    "\n",
    "print(vektori[:3])\n",
    "\n",
    "print('------------\\n')\n",
    "\n",
    "\n",
    "matriisi = np.array([[1, 2, 3, 4],\n",
    "                     [5, 6, 7, 8],\n",
    "                     [9, 10, 11, 12]])\n",
    "print(matriisi)\n",
    "\n",
    "print('------------\\n')\n",
    "\n",
    "print(matriisi[1, 1:3])\n",
    "\n",
    "print('------------\\n')\n",
    "\n",
    "print(matriisi[2, -2:])"
   ]
  },
  {
   "cell_type": "markdown",
   "metadata": {},
   "source": [
    "NumPy-tarjoaa myös käytännöllisen `:` -indeksoinnin. `:` -indeksi tarkoittaa kyseisen ulottuvuuden kaikkia indeksejä:"
   ]
  },
  {
   "cell_type": "code",
   "execution_count": 16,
   "metadata": {
    "scrolled": false
   },
   "outputs": [
    {
     "name": "stdout",
     "output_type": "stream",
     "text": [
      "------------\n",
      "\n",
      "[ 3  7 11]\n",
      "------------\n",
      "\n",
      "[5 6 7 8]\n",
      "------------\n",
      "\n",
      "[5 6 7 8]\n"
     ]
    }
   ],
   "source": [
    "M = np.array([[1, 2, 3, 4],\n",
    "              [5, 6, 7, 8],\n",
    "              [9, 10, 11, 12]])\n",
    "\n",
    "print('------------\\n')\n",
    "\n",
    "# Matriisin M kaikkien rivien kolmas sarake\n",
    "print(M[:, 2]) # array([ 3,  7, 11])\n",
    "\n",
    "print('------------\\n')\n",
    "\n",
    "# Matriisin M toisen rivin kaikki sarakkeet\n",
    "print(M[1, :]) # array([5, 6, 7, 8])\n",
    "\n",
    "print('------------\\n')\n",
    "\n",
    "# Tätä vastaa myös lyhennetty merkintä, jossa sarakkeet voi jättää pois\n",
    "print(M[1])    # array([5, 6, 7, 8])\n"
   ]
  },
  {
   "cell_type": "code",
   "execution_count": 17,
   "metadata": {},
   "outputs": [
    {
     "name": "stdout",
     "output_type": "stream",
     "text": [
      "[ 10  20  30  40  50  60  70  80  90 100]\n",
      "[100  90  80  70  60  50  40  30  20  10]\n"
     ]
    }
   ],
   "source": [
    "# yksiulotteisen taulukon (myöhemmin myös pandas Serieksen/DataFramen) kääntäminen toisin päin:\n",
    "\n",
    "vektori = np.arange(10, 110, 10)\n",
    "print(vektori)\n",
    "\n",
    "print(vektori[::-1])\n"
   ]
  },
  {
   "cell_type": "markdown",
   "metadata": {},
   "source": [
    "NumPy-taulukoiden siivuttaminen on toteutuu siis paljon yksinkertaisemmalla syntaksilla kuin python-listojen:"
   ]
  },
  {
   "cell_type": "code",
   "execution_count": 18,
   "metadata": {
    "scrolled": true
   },
   "outputs": [
    {
     "name": "stdout",
     "output_type": "stream",
     "text": [
      "['a', 'c']\n",
      "------------\n",
      "\n",
      "['a' 'c']\n"
     ]
    }
   ],
   "source": [
    "# kaivetaan \"2D\"-python listasta \"1. sarake\"\n",
    "x = [[\"a\", \"b\"], [\"c\", \"d\"]]\n",
    "print([x[0][0], x[1][0]])\n",
    "\n",
    "print('------------\\n')\n",
    "\n",
    "# sama NumPy-taulukolla\n",
    "np_x = np.array(x)\n",
    "print(np_x[:,0])"
   ]
  },
  {
   "cell_type": "markdown",
   "metadata": {},
   "source": [
    "Siivuttaminen ei kuitenkaan anna uutta taulukkoa vaan eräänlaisen \"näkymän\" (view) alkuperäiseen taulukkoon (tämä liittyy muistin käsittelyn optimointiin). Niinpä näkymään tehtävät muutokset vaikuttavat myös alkuperäiseen taulukkoon:"
   ]
  },
  {
   "cell_type": "code",
   "execution_count": 19,
   "metadata": {
    "scrolled": true
   },
   "outputs": [
    {
     "name": "stdout",
     "output_type": "stream",
     "text": [
      "[3 4 5]\n",
      "------------\n",
      "\n",
      "[ 3 10  5]\n",
      "[ 1  2  3 10  5  6  7  8]\n",
      "------------\n",
      "\n",
      "[  6 100   8]\n",
      "[ 1  2  3 10  5  6  7  8]\n"
     ]
    }
   ],
   "source": [
    "taul1 = np.array([1, 2, 3, 4, 5, 6, 7, 8])\n",
    "taul2 = taul1[2:5]\n",
    "\n",
    "print(taul2)  # [3 4 5]\n",
    "\n",
    "print('------------\\n')\n",
    "\n",
    "taul2[1] = 10\n",
    "\n",
    "print(taul2) # [ 3 10  5]\n",
    "print(taul1)  # myös taul1 on muuttunut!  [ 1  2  3 10  5  6  7  8]\n",
    "\n",
    "\n",
    "print('------------\\n')\n",
    "\n",
    "# uuden taulukon saa copy()-funktiolla\n",
    "\n",
    "taul3 = taul1[5:8].copy()\n",
    "taul3[1] = 100\n",
    "\n",
    "print(taul3)\n",
    "print(taul1)  # ei ole muuttunut\n"
   ]
  },
  {
   "cell_type": "markdown",
   "metadata": {},
   "source": [
    "<a id=\"5\"></a>\n",
    "### Laskutoimitukset NumPy-taulukoilla\n",
    "\n",
    "NymPy-taulukoiden ja niistä johdettujen pandasin tietorakenteiden suurin hyöty on **vektorisoidut laskutoimitukset**. Niiden ansiosta operaatiot voidaan tehdä koko taulukolle kerralla, ilman että alkioita pitäisi käydä läpi for-silmukalla tms. \n",
    "\n",
    "NumPy-taulukon voi kertoa/jakaa/summata yms. skalaariarvon (luvun) kanssa, jolloin NumPy tekee operaation jokaiselle alkiolle erikseen:"
   ]
  },
  {
   "cell_type": "code",
   "execution_count": 20,
   "metadata": {},
   "outputs": [
    {
     "name": "stdout",
     "output_type": "stream",
     "text": [
      "[ 6  8 12 14 16]\n",
      "---------------\n",
      "\n",
      "[ 0.5  4.5 24.5 40.5 60.5]\n"
     ]
    }
   ],
   "source": [
    "vektori = np.array([1, 3, 7, 9, 11]) \n",
    "v2 = vektori + 5\n",
    "print(v2)\n",
    "\n",
    "print(\"---------------\\n\")\n",
    "\n",
    "v3 = (vektori ** 2)/2\n",
    "print(v3)\n"
   ]
  },
  {
   "cell_type": "markdown",
   "metadata": {},
   "source": [
    "NumPy-taulukoita voi myos lisätä, kertoa ja jakaa keskenään. \n",
    "Operaatiot tehdaan alkioittain, joten taulukoiden dimensioiden tulee täsmätä."
   ]
  },
  {
   "cell_type": "code",
   "execution_count": 21,
   "metadata": {},
   "outputs": [
    {
     "name": "stdout",
     "output_type": "stream",
     "text": [
      "[ 1.5  2.   8.   9.1 14. ]\n",
      "---------------\n",
      "\n",
      "[ 0.5 -3.   7.   0.9 33. ]\n",
      "---------------\n",
      "\n",
      "[4.00000000e+00 9.00000000e+00 4.90000000e+01 8.10000000e+03\n",
      " 1.34444444e+01]\n",
      "---------------\n",
      "\n"
     ]
    },
    {
     "ename": "ValueError",
     "evalue": "operands could not be broadcast together with shapes (5,) (3,) ",
     "output_type": "error",
     "traceback": [
      "\u001b[1;31m---------------------------------------------------------------------------\u001b[0m",
      "\u001b[1;31mValueError\u001b[0m                                Traceback (most recent call last)",
      "\u001b[1;32m<ipython-input-21-29e97fe377df>\u001b[0m in \u001b[0;36m<module>\u001b[1;34m\u001b[0m\n\u001b[0;32m     14\u001b[0m \u001b[0mprint\u001b[0m\u001b[1;33m(\u001b[0m\u001b[1;34m\"---------------\\n\"\u001b[0m\u001b[1;33m)\u001b[0m\u001b[1;33m\u001b[0m\u001b[1;33m\u001b[0m\u001b[0m\n\u001b[0;32m     15\u001b[0m \u001b[1;33m\u001b[0m\u001b[0m\n\u001b[1;32m---> 16\u001b[1;33m \u001b[0mprint\u001b[0m\u001b[1;33m(\u001b[0m\u001b[0mvektori1\u001b[0m \u001b[1;33m+\u001b[0m \u001b[0mnp\u001b[0m\u001b[1;33m.\u001b[0m\u001b[0marray\u001b[0m\u001b[1;33m(\u001b[0m\u001b[1;33m[\u001b[0m\u001b[1;36m3\u001b[0m\u001b[1;33m,\u001b[0m\u001b[1;36m4\u001b[0m\u001b[1;33m,\u001b[0m\u001b[1;36m5\u001b[0m\u001b[1;33m]\u001b[0m\u001b[1;33m)\u001b[0m\u001b[1;33m)\u001b[0m \u001b[1;31m# virheilmoitus\u001b[0m\u001b[1;33m\u001b[0m\u001b[1;33m\u001b[0m\u001b[0m\n\u001b[0m",
      "\u001b[1;31mValueError\u001b[0m: operands could not be broadcast together with shapes (5,) (3,) "
     ]
    }
   ],
   "source": [
    "vektori1 = np.array([1, 3, 7, 9, 11]) \n",
    "vektori2 = np.array([0.5 , -1, 1, 0.1, 3])\n",
    "\n",
    "print(vektori1 + vektori2)\n",
    "\n",
    "print(\"---------------\\n\")\n",
    "\n",
    "print(vektori1 * vektori2)\n",
    "\n",
    "print(\"---------------\\n\")\n",
    "\n",
    "print((vektori1 / vektori2)**2)\n",
    "\n",
    "print(\"---------------\\n\")\n",
    "\n",
    "print(vektori1 + np.array([3,4,5])) # virheilmoitus"
   ]
  },
  {
   "cell_type": "markdown",
   "metadata": {},
   "source": [
    "Seuraavassa matriisin M jokainen rivi kerrotaan alkioittain vektorilla a (kyseessä ei ole matriisien matriisitulo)."
   ]
  },
  {
   "cell_type": "code",
   "execution_count": null,
   "metadata": {},
   "outputs": [],
   "source": [
    "M = np.array([[1, 2, 3, 4],\n",
    "              [5, 6, 7, 8],\n",
    "              [9, 10, 11, 12]])\n",
    "a = np.array([1, 2, 3, 4])\n",
    "print(M * a)"
   ]
  },
  {
   "cell_type": "markdown",
   "metadata": {},
   "source": [
    "NumPyn omia matemaattisia funktioita käyttäen voidaan laskutoimitukset tehdä alkoittain NumPy-taulukolle"
   ]
  },
  {
   "cell_type": "code",
   "execution_count": null,
   "metadata": {},
   "outputs": [],
   "source": [
    "import math\n",
    "vektori  = np.arange(0,370,10)\n",
    "print(np.radians(vektori))\n",
    "print('\\n')\n",
    "print(np.sin(np.radians(vektori)))\n"
   ]
  },
  {
   "cell_type": "markdown",
   "metadata": {},
   "source": [
    "Myös Jupyter notebookissa on yksinkertainen toiminto käytettävissä olevien funktioiden listaamiseen: kirjoitetaan `np.` ja painetaan sarkainnäppäintä, jolloin saadaan lista funktioista.\n",
    "\n",
    "![funktiolista](http://student.labranet.jamk.fi/~varpe/datananals2019/kerta1/funktiolista.png)"
   ]
  },
  {
   "cell_type": "markdown",
   "metadata": {},
   "source": [
    "`len()`-funktiolla saa taulukon alkioiden lukumäärän\n",
    "\n",
    "NumPy sisältää myös taulukolle tehtäviä tilastollisia funktioita:\n",
    "* `numpy.sum` laskee alkoiden summan\n",
    "* `numpy.prod` laskee alkoiden tulon\n",
    "* `numpy.mean` laskee alkoiden keskiarvon\n",
    "* `numpy.median` laskee alkoiden mediaanin\n",
    "* `numpy.std` laskee alkoiden keskihajonnan\n",
    "* `numpy.amax` antaa suurimman arvon\n",
    "* `numpy.amin` antaa pienimmän arvon\n",
    "\n",
    "näitä voi kutsua myös tyyliin `taulukko.sum()`\n"
   ]
  },
  {
   "cell_type": "code",
   "execution_count": null,
   "metadata": {
    "scrolled": false
   },
   "outputs": [],
   "source": [
    "taul = np.array([1, 56, 5, 10, 11, 2])\n",
    "print(\"alkioita:\", len(taul))\n",
    "print(\"keskiarvo:\", np.mean(taul))\n",
    "print(\"mediaani:\", np.median(taul))\n",
    "print(\"suurin:\", np.max(taul))\n",
    "print(\"pienin:\", np.amin(taul))\n",
    "print(\"summa:\", np.sum(taul))\n",
    "print(\"summa, toinen tapa:\", taul.sum())"
   ]
  },
  {
   "cell_type": "markdown",
   "metadata": {},
   "source": [
    "<a id=\"6\"></a>\n",
    "### NumPy-taulukko vs. lista\n",
    "NumPy-taulukoilla laskeminen eroaa siis periaatteltaan vastaavista operaatioista Python-listoilla:"
   ]
  },
  {
   "cell_type": "code",
   "execution_count": 22,
   "metadata": {},
   "outputs": [
    {
     "name": "stdout",
     "output_type": "stream",
     "text": [
      "[1, 2, 3, 10, 20, 30]\n",
      "[1, 2, 3, 1, 2, 3]\n",
      "---------------\n",
      "[11 22 33]\n",
      "[20 40 60]\n"
     ]
    }
   ],
   "source": [
    "l1 = [1, 2, 3]\n",
    "l2 = [10, 20, 30]\n",
    "print(l1+l2)\n",
    "print(l1*2)\n",
    "\n",
    "print(15*'-')\n",
    "\n",
    "np_l1 = np.array(l1)\n",
    "np_l2 = np.array(l2)\n",
    "print(np_l1+np_l2)\n",
    "print(np_l2*2)\n"
   ]
  },
  {
   "cell_type": "markdown",
   "metadata": {},
   "source": [
    "Jos Python-listassa haluaisi kertoa kaikki alkiot kahdella, pitäisi käyttää for-silmukkaa"
   ]
  },
  {
   "cell_type": "code",
   "execution_count": null,
   "metadata": {},
   "outputs": [],
   "source": [
    "l1 = [1, 2, 3]\n",
    "l2 = []\n",
    "for i in l1:\n",
    "  l2.append(i*2)\n",
    "\n",
    "print(l2)\n",
    "\n",
    "# voidaan käyttää myös list comprehension -rakennetta:\n",
    "l3 = {x * 2 for x in l1}\n",
    "print(l3)"
   ]
  },
  {
   "cell_type": "markdown",
   "metadata": {},
   "source": [
    "<a id=\"7\"></a>\n",
    "### NumPy-taulukon suodatus Boolean-taulukolla\n",
    "NumPy-taulukkoa voi suodattaa antamalla \"siivutukseen\" samanmittainen Boolean-taulukko, jossa jokainen alkio on joko True tai False:"
   ]
  },
  {
   "cell_type": "code",
   "execution_count": null,
   "metadata": {},
   "outputs": [],
   "source": [
    "arr = np.array([1, 2, 3, 4, 5, 6])\n",
    "arr2 = np.array([True, False, False, True, True, False])\n",
    "print(arr[arr2])"
   ]
  },
  {
   "cell_type": "markdown",
   "metadata": {},
   "source": [
    "True/False -taulukon saa helposti NumPy-taulukosta esim. vertailuoperaattoreilla"
   ]
  },
  {
   "cell_type": "code",
   "execution_count": null,
   "metadata": {},
   "outputs": [],
   "source": [
    "arr = np.array([1, 2, 3, 4, 5, 6])\n",
    "arr2 = arr % 2 == 0 # jakojäännös on 0, eli parillinen luku\n",
    "print(arr2)"
   ]
  },
  {
   "cell_type": "markdown",
   "metadata": {},
   "source": [
    "Yhdistämällä nämä kaksi juttua nähdään, että NumPy-taulukkoa voi suodattaa helposti:"
   ]
  },
  {
   "cell_type": "code",
   "execution_count": null,
   "metadata": {},
   "outputs": [],
   "source": [
    "arr = np.array([1, 2, 3, 4, 5, 6])\n",
    "arr3 = arr[arr % 2 == 0]\n",
    "arr4 = arr[arr > 2]\n",
    "print(arr3)\n",
    "print(arr4)"
   ]
  },
  {
   "cell_type": "code",
   "execution_count": null,
   "metadata": {},
   "outputs": [],
   "source": [
    "# oletetaan että tyypit ja lukemat vastaavat järjestyksessä toisiaan:\n",
    "\n",
    "tyypit = np.array(['A', 'C', 'B', 'A', 'A', 'D', 'B', 'C'])\n",
    "lukemat = np.array([15, 21, 13, 32, 34, 45, 6, 1])\n",
    "\n",
    "# valitaan lukemat tyypeistä A\n",
    "print(lukemat[tyypit == 'A'])\n",
    "\n",
    "# valitaan lukemat tyypeistä A ja B. \n",
    "# Avainsanat and tai or eivät toimi Boolean-listoilla, vaan pitää käyttää & tai |\n",
    "print(lukemat[(tyypit == 'A') | (tyypit == 'B')])\n"
   ]
  },
  {
   "cell_type": "markdown",
   "metadata": {},
   "source": [
    "Boolean-taulukon avulla voidaan myös muuttaa vain suodatettuja arvoja:"
   ]
  },
  {
   "cell_type": "code",
   "execution_count": null,
   "metadata": {},
   "outputs": [],
   "source": [
    "taul1 = np.array([1, 2, 3, 4, 5, 6])\n",
    "\n",
    "# suodatetaan parilliset luvut ja muutetaan ne nolliksi\n",
    "\n",
    "taul2 = taul1 % 2 == 0\n",
    "print(taul2)  # Boolean-taulukko\n",
    "\n",
    "\n",
    "taul1[taul2] = 0   # tai suoraan taul1[taul1 % 2 == 0] = 0\n",
    "\n",
    "print(taul1)\n"
   ]
  },
  {
   "cell_type": "markdown",
   "metadata": {},
   "source": [
    "Boolean-taulukolla suodattaminen antaa kopion taulukosta/taulukon osasta, ei näkymää kuten siivuttaminen:"
   ]
  },
  {
   "cell_type": "code",
   "execution_count": 23,
   "metadata": {},
   "outputs": [
    {
     "name": "stdout",
     "output_type": "stream",
     "text": [
      "[2 4 6]\n",
      "[100   4   6]\n",
      "[1 2 3 4 5 6]\n"
     ]
    }
   ],
   "source": [
    "taul1 = np.array([1, 2, 3, 4, 5, 6])\n",
    "\n",
    "taul2 =  taul1[taul1 % 2 == 0]\n",
    "print(taul2)\n",
    "\n",
    "taul2[0] = 100\n",
    "\n",
    "print(taul2)\n",
    "print(taul1)"
   ]
  },
  {
   "cell_type": "markdown",
   "metadata": {},
   "source": [
    "<a id=\"8\"></a>\n",
    "### NumPy-taulukon lajittelu\n",
    "`taulukko.sort()` lajittelee taulukon, `numpy.sort(taulukko)` antaa taulukosta lajitellun kopion.\n",
    "Kumpaankaan lajittelutapaan ei ole mahdollista määrittää järjestystä nouseva/laskeva. Usein käytetään kikkaa `taulukko[::-1]` kääntämään taulukon alkoiden järjestys.\n"
   ]
  },
  {
   "cell_type": "code",
   "execution_count": null,
   "metadata": {
    "scrolled": true
   },
   "outputs": [],
   "source": [
    "taul1 = np.array([3, 5, 1, -2, 0, 4])\n",
    "print(taul1)\n",
    "\n",
    "taul1.sort()\n",
    "print(taul1)\n",
    "\n",
    "print('\\n----------\\n')\n",
    "\n",
    "taul1 = np.array([3, 5, 1, -2, 0, 4])\n",
    "print(taul1)\n",
    "\n",
    "print('\\n----------\\n')\n",
    "\n",
    "taul2 = np.sort(taul1)\n",
    "print(taul2)\n",
    "print(taul1)\n",
    "\n",
    "print('\\n----------\\n')\n",
    "\n",
    "taul3 = np.sort(taul1)[::-1]\n",
    "print(taul3)\n",
    "\n"
   ]
  },
  {
   "cell_type": "markdown",
   "metadata": {},
   "source": [
    "<a id=\"9\"></a>\n",
    "## pandas-kirjasto \n",
    "Pythonin käytetyin kirjasto data-analyysissa on **pandas**. pandas tarjoaa nopeat, helpot ja monipuoliset välineet taulukkomuotoisen datan käsittelyyn, erityisesti Series- ja DataFrame-tietorakenteet. pandas on rakennettu NumPyn pohjalle, joten NumPy-taulukon käsittelyn periaatteet toimivat myös pandasissa,(mm. alkioittan tehtävät laskutoimitukset ilman for-silmukoita).\n",
    "\n",
    "Suurin ero kirjastojen välillä on pandasin käyttökelpoisuus taulukkomuotoisen, mahdollisesti heterogeenisen datan kanssa, kun NumPy soveltuu parhaiten numeriseen homogeenisen datan käsittelyyn.\n",
    "\n",
    "[pandas-sivut](http://pandas.pydata.org/pandas-docs/stable/)\n",
    "\n",
    "<a id=\"10\"></a>\n",
    "### pandas-kirjaston tuonti\n",
    "pandas-kirjasto otetaan käyttöön koodissa `import pandas` -käskyllä. Vakiintunut käytäntö on käyttää aliasta `pd`:\n",
    "\n",
    "`import pandas as pd`\n",
    "\n",
    "Tämän jälkeen koodissa NumPyn funktioita voi kutsua lyhennettä `pd` käyttäen.\n",
    "\n",
    "<a id=\"11\"></a>\n",
    "## pandas-Series\n",
    "Series on yksiulotteinen listan tyyppinen datarakenne, jossa alkoiden lisäksi niille on määritelty indeksi (index), eli eräänlaiset nimikkeet (label). \n",
    "\n",
    "Yksinkertaisin Series saadaan tehtyä tavallisesta listasta (tai NumPy-taulukosta):\n"
   ]
  },
  {
   "cell_type": "code",
   "execution_count": null,
   "metadata": {},
   "outputs": [],
   "source": [
    "import pandas as pd\n",
    "\n",
    "ser1 = pd.Series([1, 5, 3.4, 6, 8])\n",
    "print(ser1)"
   ]
  },
  {
   "cell_type": "markdown",
   "metadata": {},
   "source": [
    "Tulosteessa´ensimmäinen sarake on indeksi. Koska Seriesiä määriettäessä ei määriteltu indeksiä, pandas teki sen luvuista 0, 1, 2 jne.\n",
    "\n",
    "Seriesin arvot saa taulukkona values-funktiolla ja indeksin index-funktiolla:"
   ]
  },
  {
   "cell_type": "code",
   "execution_count": null,
   "metadata": {},
   "outputs": [],
   "source": [
    "ser1 = pd.Series([1, 5, 3.4, 6, 8])\n",
    "print(ser1.values)\n",
    "print(ser1.index)\n"
   ]
  },
  {
   "cell_type": "markdown",
   "metadata": {},
   "source": [
    "Seriesiä luodessa voidaan määritellä myös indeksi:"
   ]
  },
  {
   "cell_type": "code",
   "execution_count": null,
   "metadata": {},
   "outputs": [],
   "source": [
    "ser1 = pd.Series([1, 5, 3.4, 6, 8], index=[2, 4 ,6 ,8, 10])\n",
    "print(ser1)\n",
    "\n",
    "print('\\n------------------\\n')\n",
    "\n",
    "ser2 = pd.Series([\"a\", \"b\", \"dd\", 6, \"joo\"], index=['a', 'b' ,'c' ,'d', 'e'])\n",
    "print(ser2)\n",
    "\n",
    "print('\\n------------------\\n')\n"
   ]
  },
  {
   "cell_type": "markdown",
   "metadata": {},
   "source": [
    "pandas Seriesin voi tehdä myös Python-sanakirjasta (dict), jolloin indeksiksi tulee sanakirjan avaimet lajitellussa järjestyksessä:"
   ]
  },
  {
   "cell_type": "code",
   "execution_count": null,
   "metadata": {
    "scrolled": true
   },
   "outputs": [],
   "source": [
    "kaupungit = {'Rovaniemi': 62000, 'Jyväskylä': 140000, 'Helsinki': 645000 , 'Kuopio': 118000}\n",
    "             \n",
    "ser1 = pd.Series(kaupungit)\n",
    "            \n",
    "print(ser1)"
   ]
  },
  {
   "cell_type": "markdown",
   "metadata": {},
   "source": [
    "Indeksin voi antaa myös erikseen. Alla vakiluvut-sanakirjasta ei löydy avainta Oulu, jolloin sen arvoksi tulee NaN (Not a Number), joka on pandasin tapa kuvata puuttuvaa arvoa. Ja koska Rovaniemeä ei löydy annetusta indeksistä, sitä ei oteta Seriesiin.  \n",
    "\n",
    "Tietotyypiksi tulee nyt liukuluku (float64), koska puuttuvaa arvoa NaN käsitellään liukulukuna."
   ]
  },
  {
   "cell_type": "code",
   "execution_count": null,
   "metadata": {},
   "outputs": [],
   "source": [
    "vakiluvut = {'Rovaniemi': 62000, 'Jyväskylä': 140000, 'Helsinki': 645000 , 'Kuopio': 118000}\n",
    "kaupungit = ['Helsinki', 'Kuopio', 'Oulu', 'Jyväskylä']\n",
    "\n",
    "ser1 = pd.Series(vakiluvut, index=kaupungit)\n",
    "\n",
    "print(ser1)\n"
   ]
  },
  {
   "cell_type": "markdown",
   "metadata": {},
   "source": [
    "Indeksin labelia voi käyttää arvojen valitsemiseen Seriesistä:"
   ]
  },
  {
   "cell_type": "code",
   "execution_count": null,
   "metadata": {},
   "outputs": [],
   "source": [
    "ser2 = pd.Series(np.linspace(0, 10 ,5), index=['a', 'b' ,'c' ,'d', 'e'])\n",
    "print(ser2)\n",
    "\n",
    "print('\\n------------------\\n')\n",
    "\n",
    "print(ser2['c']) \n",
    "\n",
    "print('\\n------------------\\n')\n",
    "\n",
    "print(ser2[['c', 'a', 'd']])\n",
    "\n",
    "print('\\n------------------\\n')\n",
    "\n",
    "ser2[['d', 'a']]  = 100\n",
    "print(ser2)\n"
   ]
  },
  {
   "cell_type": "markdown",
   "metadata": {},
   "source": [
    "Kun aritmeettiset operaatiot yhdistävät NumPy-taulukot \"paikkojen\" mukaan (ensimmäiset alkiot, toiset alkiot jne), Seriesit yhdistyvät indeksien mukaan vaikka rivit olisi eri järjestyksessä:"
   ]
  },
  {
   "cell_type": "code",
   "execution_count": null,
   "metadata": {
    "scrolled": true
   },
   "outputs": [],
   "source": [
    "vakiluvut = pd.Series({'Rovaniemi': 62000, 'Jyväskylä': 140000, 'Helsinki': 645000 , 'Kuopio': 118000})\n",
    "pintaalat = pd.Series({'Iisalmi': 872, 'Helsinki': 215, 'Jyväskylä': 1466, 'Kuopio': 4326})\n",
    "\n",
    "print(vakiluvut)\n",
    "\n",
    "print('-----------------\\n')\n",
    "\n",
    "\n",
    "print(pintaalat)\n",
    "\n",
    "print('-----------------\\n')\n",
    "\n",
    "vaentiheydet = vakiluvut/pintaalat\n",
    "\n",
    "print(vaentiheydet)"
   ]
  },
  {
   "cell_type": "markdown",
   "metadata": {},
   "source": [
    "Sekä Seriesillä että sen indeksillä on `name`-attribuutti:"
   ]
  },
  {
   "cell_type": "code",
   "execution_count": null,
   "metadata": {},
   "outputs": [],
   "source": [
    "vakiluvut = pd.Series({'Rovaniemi': 62000, 'Jyväskylä': 140000, 'Helsinki': 645000 , 'Kuopio': 118000})\n",
    "vakiluvut.name = \"Väkiluku\"\n",
    "vakiluvut.index.name = \"Kaupunki\"\n",
    "print(vakiluvut)"
   ]
  },
  {
   "cell_type": "markdown",
   "metadata": {},
   "source": [
    "<a id=\"12\"></a>\n",
    "## pandas-DataFrame\n",
    "Datan analysoinnissa hyödyllisin tietorakenne on **DataFrame**, joka on suorakulmion muotoinen datataulukko. DataFrame koostuu riveistä ja sarakkeista, sarakkeita voidaan ajatella Serieseinä, joilla on sama indeksi (rivi-indeksi, riviotsikot). Sarakkeiden nimistä (sarakeotsikoista) muodostuu \"sarake-indeksi\".\n",
    "\n",
    "Jatkossa DataFramet luodaan tiedostoista dataa lukemalla, mutta tehdään aluksi muuten: yksi tapa luoda DataFrame on käyttää sanakirjaa samanmittaisista listoista, NumPy-taulukoista tai Seriesista:"
   ]
  },
  {
   "cell_type": "code",
   "execution_count": null,
   "metadata": {},
   "outputs": [],
   "source": [
    "data = {'nimi': ['Rovaniemi', 'Jyväskylä', 'Helsinki', 'Kuopio'],\n",
    "         'väkiluku': [62000, 140000, 645000 , 118000],\n",
    "         'pinta-ala': [8016, 1466, 215 , 4326],\n",
    "         'maakunta': ['Lappi', 'Keski-Suomi', 'Uusimaa', 'Pohjois-Savo']}\n",
    "\n",
    "df = pd.DataFrame(data)\n",
    "\n",
    "print(df)  # indeksi luotiin automaattisesti, sarakkeet lajiteltiin aakkosjärjestykseen\n",
    "\n",
    "df # Jupyter näyttää DataFramen hienona taulukkona ilman print-komentoa. \n",
    "   # Tämän jälkeen ei voi kuitenkaan tulostaa mitään samassa koodilohkossa\n",
    "    "
   ]
  },
  {
   "cell_type": "code",
   "execution_count": null,
   "metadata": {},
   "outputs": [],
   "source": [
    "data = {'nimi': ['Rovaniemi', 'Jyväskylä', 'Helsinki', 'Kuopio'],\n",
    "         'väkiluku': [62000, 140000, 645000 , 118000],\n",
    "         'pinta-ala': [8016, 1466, 215 , 4326],\n",
    "         'maakunta': ['Lappi', 'Keski-Suomi', 'Uusimaa', 'Pohjois-Savo']}\n",
    "\n",
    "df = pd.DataFrame(data, columns=['nimi', 'väkiluku', 'pinta-ala', 'työttömyys'])\n",
    "\n",
    "df  # luodessa annetulla columns-parametrilla määritetään sarakkeet"
   ]
  },
  {
   "cell_type": "code",
   "execution_count": null,
   "metadata": {},
   "outputs": [],
   "source": [
    "data = { 'väkiluku': [62000, 140000, 645000 , 118000],\n",
    "         'pinta-ala': [8016, 1466, 215 , 4326],\n",
    "         'maakunta': ['Lappi', 'Keski-Suomi', 'Uusimaa', 'Pohjois-Savo']}\n",
    "\n",
    "df = pd.DataFrame(data, index=['Rovaniemi', 'Jyväskylä', 'Helsinki', 'Kuopio'])\n",
    "\n",
    "print(df)  # index annettu luodessa\n",
    "\n",
    "print('\\n--------------\\n')\n",
    "\n",
    "print(df.columns) #tulostaa sarakenimet"
   ]
  },
  {
   "cell_type": "markdown",
   "metadata": {},
   "source": [
    "Sarakkeen voi \"poimia\" Seriesina kahdella tavalla: `df['sarake']` tai `df.sarake`.  \n",
    "Suositeltavampi on ensimmäinen tapa, koska jos sarakkeen nimessä on välilyönti/väliviiiva, toinen tapa ei toimi.  \n",
    "Seriesin nimeksi tulee sarakkeen otsikko."
   ]
  },
  {
   "cell_type": "code",
   "execution_count": null,
   "metadata": {},
   "outputs": [],
   "source": [
    "data = { 'väkiluku': [62000, 140000, 645000 , 118000],\n",
    "         'pinta-ala': [8016, 1466, 215 , 4326],\n",
    "         'maakunta': ['Lappi', 'Keski-Suomi', 'Uusimaa', 'Pohjois-Savo']}\n",
    "\n",
    "df = pd.DataFrame(data, index=['Rovaniemi', 'Jyväskylä', 'Helsinki', 'Kuopio'])\n",
    "\n",
    "print(df)\n",
    "\n",
    "print('\\n----------------\\n')\n",
    "\n",
    "ser1 = df['pinta-ala']\n",
    "print(ser1)  # index annettu luodessa\n",
    "\n",
    "print('\\n----------------\\n')\n",
    "\n",
    "ser2 = df.maakunta\n",
    "print(ser2)"
   ]
  },
  {
   "cell_type": "markdown",
   "metadata": {},
   "source": [
    "Rivin voi poimia `loc`-attribuutilla (alempana tästä lisää):"
   ]
  },
  {
   "cell_type": "code",
   "execution_count": null,
   "metadata": {},
   "outputs": [],
   "source": [
    "print(df.loc['Rovaniemi'])"
   ]
  },
  {
   "cell_type": "markdown",
   "metadata": {},
   "source": [
    "Sarakkeita voi muokata tai lisätä (jos sarakenimeä ei löydy) sijoitusoperaatiolla:"
   ]
  },
  {
   "cell_type": "code",
   "execution_count": null,
   "metadata": {},
   "outputs": [],
   "source": [
    "data = { 'väkiluku': [62000, 140000, 645000 , 118000],\n",
    "         'pinta-ala': [8016, 1466, 215 , 4326],\n",
    "         'maakunta': ['Lappi', 'Keski-Suomi', 'Uusimaa', np.nan]}  #'Pohjois-Savo'\n",
    "\n",
    "df = pd.DataFrame(data, index=['Rovaniemi', 'Jyväskylä', 'Helsinki', 'Kuopio'])\n",
    "\n",
    "\n",
    "df['uusisarake'] = 15\n",
    "print(df)\n",
    "\n",
    "print('\\n--------------------\\n')\n",
    "\n",
    "df['uusisarake'] = np.arange(0,4)  # np.arange(0,4) antaa NumPy-taulukon [0, 1, 2, 3]\n",
    "print(df)\n",
    "\n",
    "print('\\n--------------------\\n')\n",
    "\n",
    "\n",
    "df['väentiheys'] = df['väkiluku']/df['pinta-ala']\n",
    "print(df)\n",
    "\n",
    "\n",
    "print('\\n--------------------\\n')\n",
    "\n",
    "df['iso'] = df['väkiluku'] >100000 # antaa Boolean-tyyppisen Seriesin, jossa arvot sen mukaan onko väkiluku >100000\n",
    "print(df)\n",
    "\n",
    "\n",
    "\n",
    "print('\\n--------------------\\n')\n",
    "joukkueet = pd.Series({'Helsinki': 'HIFK' , 'Jyväskylä': 'Jyp', 'Kuopio': 'KalPa'})\n",
    "df['joukkue'] = joukkueet              \n",
    "print(df)"
   ]
  },
  {
   "cell_type": "markdown",
   "metadata": {},
   "source": [
    "DataFramen voi luoda myös sisäkkäisistä sanakirjoista. Tällöin ulommat avaimet menevät sarakeotsikoiksi ja sisemmät riviotsikoiksi (indeksiksi). Rivit ja sarakkeet voi vaihtaa päittäin T-metodilla (transpose).\n",
    "\n",
    "\n",
    "Tässä Jukurien ja Sportin sarakkeet tulee desimaalilukuina, koska puuttuvaa arvoa kuvaavaa NaN (Not a Number) käsitellään desimaalilukuna."
   ]
  },
  {
   "cell_type": "code",
   "execution_count": null,
   "metadata": {},
   "outputs": [],
   "source": [
    "df = pd.DataFrame({'Jyp': {2014: 5, 2015: 3,  2016: 4,  2017: 3 , 2018: 5 , 2019: 10},\n",
    "                   'Sport' : {2015: 14, 2016: 10, 2017: 14, 2018: 15 , 2019:11},\n",
    "                    'Jukurit' : {2017: 11, 2018: 13, 2019:14}   \n",
    "                  })\n",
    "\n",
    "print(df)\n",
    "\n",
    "print('\\n---------\\n')\n",
    "\n",
    "df2 = df.T # transpoosi eli rivit ja sarakkeet vaihdettu toisin päin\n",
    "\n",
    "print(df2)\n",
    "\n"
   ]
  },
  {
   "cell_type": "markdown",
   "metadata": {},
   "source": [
    "<a id=\"13\"></a>\n",
    "### Uudelleenindeksointi (reindex)\n",
    "`reindex`-metodilla voidaan DataFramesta (tai Seriesista) ottaa annetun uuden indeksin mukaiset rivit. "
   ]
  },
  {
   "cell_type": "code",
   "execution_count": null,
   "metadata": {},
   "outputs": [],
   "source": [
    "df = pd.DataFrame({'Jyp': {2014: 5, 2015: 3,  2016: 4,  2017: 3 , 2018: 5 , 2019: 10},\n",
    "                   'Sport' : {2015: 14, 2016: 10, 2017: 14, 2018: 15 , 2019:11},\n",
    "                    'Jukurit' : {2017: 11, 2018: 13, 2019:14}   \n",
    "                  })\n",
    "\n",
    "print(df)\n",
    "\n",
    "print('\\n---------\\n')\n",
    "\n",
    "df2 = df.reindex([2020, 2019, 2018, 2017])\n",
    "\n",
    "\n",
    "print(df2)"
   ]
  },
  {
   "cell_type": "markdown",
   "metadata": {},
   "source": [
    "Parametrilla `columns` voidaan uudelleenindeksoida sarakkeiden mukaan:"
   ]
  },
  {
   "cell_type": "code",
   "execution_count": null,
   "metadata": {},
   "outputs": [],
   "source": [
    "df = pd.DataFrame({'Jyp': {2014: 5, 2015: 3,  2016: 4,  2017: 3 , 2018: 5 , 2019: 10},\n",
    "                   'Sport' : {2015: 14, 2016: 10, 2017: 14, 2018: 15 , 2019:11},\n",
    "                    'Jukurit' : {2017: 11, 2018: 13, 2019:14}   \n",
    "                  })\n",
    "\n",
    "\n",
    "print(df)\n",
    "\n",
    "print('\\n---------\\n')\n",
    "\n",
    "df2 = df.reindex(columns = ['Tappara', 'Jukurit', 'Jyp'])\n",
    "\n",
    "print(df2)\n",
    "\n"
   ]
  },
  {
   "cell_type": "markdown",
   "metadata": {},
   "source": [
    "<a id=\"14\"></a>\n",
    "### Rivien tai sarakkeiden poistaminen (drop)\n",
    "`drop`-metodilla voi poistaa rivejä (oletus) tai sarakkeita parametrilla `axis=1`:"
   ]
  },
  {
   "cell_type": "code",
   "execution_count": null,
   "metadata": {},
   "outputs": [],
   "source": [
    "df = pd.DataFrame({'Jyp': {2014: 5, 2015: 3,  2016: 4,  2017: 3 , 2018: 5 , 2019: 10},\n",
    "                   'Sport' : {2015: 14, 2016: 10, 2017: 14, 2018: 15 , 2019:11},\n",
    "                    'Jukurit' : {2017: 11, 2018: 13, 2019:14}   \n",
    "                  })\n",
    "\n",
    "\n",
    "print(df)\n",
    "\n",
    "print('\\n---------\\n')\n",
    "\n",
    "\n",
    "df.drop(2015)\n",
    "\n",
    "print(df)  # ei tapahdu mitään koska poistaminen eti tapahdu alkuperäiseen DataFrameen\n",
    "\n",
    "\n",
    "print('\\n---------\\n')\n",
    "\n",
    "df2 =  df.drop(2015)\n",
    "print(df2)\n"
   ]
  },
  {
   "cell_type": "code",
   "execution_count": null,
   "metadata": {},
   "outputs": [],
   "source": [
    "print(df.drop([2015, 2016]))\n",
    "\n",
    "print('\\n---------\\n')\n",
    "\n",
    "print(df.drop('Jyp', axis=1))\n",
    "\n",
    "\n",
    "print('\\n---------\\n')\n",
    "\n",
    "df.drop(2015, inplace = True)  # tällä tekee suoraan alkuperäiseen DataFrameen\n",
    "\n",
    "print(df) "
   ]
  },
  {
   "cell_type": "markdown",
   "metadata": {},
   "source": [
    "`drop`-metodi antaa siis uuden DataFramen (tai Seriesin), josta rivit on poistettu. Parametrilla `inplace=True` saadaan poistaminen tehtyä alkuperäiselle DataFramelle."
   ]
  },
  {
   "cell_type": "markdown",
   "metadata": {},
   "source": [
    "<a id=\"15\"></a>\n",
    "### Valinta ja suodatus\n",
    "**Seriesissa** valitseminen menee samaan tyyliin kuin NumPy-taulukoissa, mutta voit käyttää myös Seriesin indeksiä valintaan. \n",
    "Viimeinen esimerkki näyttää että indeksiä käytettäessä siivutus `['s':'d']` sisällyttää myös loppuindeksin mukaisen alkion, tosin kuin \"paikkoja\" eli rivinumeroita käyttävä `[2:4]`"
   ]
  },
  {
   "cell_type": "code",
   "execution_count": null,
   "metadata": {},
   "outputs": [],
   "source": [
    "ser1 = pd.Series(np.arange(0,12,2), index=['p','s','v','d','j','f'])\n",
    "print(ser1)\n",
    "\n",
    "print('---------')\n",
    "\n",
    "print(ser1['s']) # indeksin s\n",
    "\n",
    "print('---------')\n",
    "\n",
    "print(ser1[2]) # rivinro 2\n",
    "\n",
    "print('---------')\n",
    "\n",
    "print(ser1[2:4])  # rivit 2 ja 3, 4 ei mukana\n",
    "\n",
    "print('---------')\n",
    "\n",
    "print(ser1[['j', 'v']]) # indeksistä j ja v\n",
    "\n",
    "print('---------')\n",
    "\n",
    "print(ser1[[0,5]]) # rivinrot 0 ja 5\n",
    "\n",
    "print('---------')\n",
    "\n",
    "print(ser1['s':'d'])  # d myös mukana\n"
   ]
  },
  {
   "cell_type": "markdown",
   "metadata": {},
   "source": [
    "**DataFramessa** `df[sarake]` -tyylinen syntaksi antaa perustapauksissa sarakkeen tai sarakkeita:"
   ]
  },
  {
   "cell_type": "code",
   "execution_count": null,
   "metadata": {},
   "outputs": [],
   "source": [
    "#import pandas as pd\n",
    "df = pd.DataFrame({'Jyp': {2014: 5, 2015: 3,  2016: 4,  2017: 3 , 2018: 5 , 2019: 10},\n",
    "                   'Sport' : {2015: 14, 2016: 10, 2017: 14, 2018: 15 , 2019:11},\n",
    "                    'Jukurit' : {2017: 11, 2018: 13, 2019:14}   \n",
    "                  })\n",
    "\n",
    "print(df)\n",
    "\n",
    "print('\\n---------\\n')\n",
    "\n",
    "print(df['Jyp'])\n",
    "\n",
    "print('\\n---------\\n')\n",
    "\n",
    "print(df[['Jyp', 'Sport']])\n",
    "\n",
    "print('\\n---------\\n')\n",
    "\n",
    "# erona reindex:iin on se, että tässä tulee virhe, jos saraketta ei ole\n",
    "\n",
    "print(df[['Tappara', 'Jyp', 'Sport']])\n"
   ]
  },
  {
   "cell_type": "markdown",
   "metadata": {},
   "source": [
    "Tässä on kuitenkin jotain eikoistapauksia:  \n",
    "* `df[2]` ei toimi jos sarakeotsikoissa ei ole 2:sta  \n",
    "* `df[1:3]` antaakin **rivit** 1 ja 2 (loppurivi 3 ei ole mukana)\n",
    "* Boolean-taulukolla suodattaminen eli `df[df['Jyp']<4]` antaa ehdon täyttävät **rivit**\n",
    "\n"
   ]
  },
  {
   "cell_type": "code",
   "execution_count": null,
   "metadata": {},
   "outputs": [],
   "source": [
    "df = pd.DataFrame({'Jyp': {2014: 5, 2015: 3,  2016: 4,  2017: 3 , 2018: 5 , 2019: 10},\n",
    "                   'Sport' : {2015: 14, 2016: 10, 2017: 14, 2018: 15 , 2019:11},\n",
    "                    'Jukurit' : {2017: 11, 2018: 13, 2019:14}   \n",
    "                  })\n",
    "\n",
    "print(df)\n",
    "\n",
    "print('\\n---------\\n')\n",
    "\n",
    "print(df[:2]) # rivit paikoissa 0 ja 1\n",
    "\n",
    "print('\\n---------\\n')\n",
    "\n",
    "print(df[df['Jyp']<4]) # ne rivit, joissa Jyp<4, kaikki sarakkeet\n",
    "\n",
    "print('\\n---------\\n')\n",
    "\n",
    "print(df['Jyp']<4) # tämä antaa True/False-Seriesin, joka df[df['Jyp']<4]:ssa suodattaa rivit indeksin mukaan\n",
    "\n",
    "print('\\n---------\\n')\n",
    "\n",
    "print(df[df['Jyp']<4]['Jyp'])  # antaa Serieksen koska vain 1 sarake\n",
    "\n",
    "print('\\n---------\\n')\n",
    "\n",
    "print(df['Jyp'][df['Jyp']<4])  # sama kuin edellinen\n"
   ]
  },
  {
   "cell_type": "markdown",
   "metadata": {},
   "source": [
    "Boolean-taulukon voi tehdä myös koko DataFramesta. Tämän avulla voi helposti muuttaa tietyn ehdon täyttäviä arvoja:"
   ]
  },
  {
   "cell_type": "code",
   "execution_count": null,
   "metadata": {},
   "outputs": [],
   "source": [
    "df = pd.DataFrame({'Jyp': {2014: 5, 2015: 3,  2016: 4,  2017: 3 , 2018: 5 , 2019: 10},\n",
    "                   'Sport' : {2015: 14, 2016: 10, 2017: 14, 2018: 15 , 2019:11},\n",
    "                    'Jukurit' : {2017: 11, 2018: 13, 2019:14}   \n",
    "                  })\n",
    "\n",
    "print(df)\n",
    "\n",
    "print('\\n---------\\n')\n",
    "\n",
    "print(df>3) # True/False -dataframe\n",
    "\n",
    "print('\\n---------\\n')\n",
    "\n",
    "df[df>3] = \"ei mitalia\"\n",
    "print(df)\n",
    "\n"
   ]
  },
  {
   "cell_type": "markdown",
   "metadata": {},
   "source": [
    "<a id=\"16\"></a>\n",
    "### loc- ja iloc -operaattorit\n",
    "Riviotsikoiden mukaan valintaa voi tehdä `loc`-operaattorilla, joka tarjoaa NumPy-tyylisen merkintätavan `df.loc[rivi,sarake]`.  \n",
    "**loc** käyttää rivi- ja sarakeotsikkoja, kun taas **iloc** vastaavasti rivi- ja sarakenumeroita (1. rivi = 0 jne). "
   ]
  },
  {
   "cell_type": "code",
   "execution_count": null,
   "metadata": {},
   "outputs": [],
   "source": [
    "df = pd.DataFrame({'Jyp': {2014: 5, 2015: 3,  2016: 4,  2017: 3 , 2018: 5 , 2019: 10},\n",
    "                   'Sport' : {2015: 14, 2016: 10, 2017: 14, 2018: 15 , 2019:11},\n",
    "                    'Jukurit' : {2017: 11, 2018: 13, 2019:14}   \n",
    "                  })\n",
    "print(df)\n",
    "\n",
    "print('\\n---------\\n')\n",
    "\n",
    "print(df.loc[2015, 'Jyp'])\n",
    "\n",
    "print('\\n---------\\n')\n",
    "\n",
    "print(df.loc[[2015, 2016], ['Jyp', 'Sport']])\n",
    "\n",
    "print('\\n---------\\n')\n",
    "\n",
    "print(df.iloc[[1,2], 2])\n",
    "\n",
    "print('\\n---------\\n')\n",
    "\n",
    "\n",
    "df.iloc[[1,2], 2] = 100\n",
    "print(df)\n",
    "\n"
   ]
  },
  {
   "cell_type": "markdown",
   "metadata": {},
   "source": [
    "Siivutus toimii myös loc- ja iloc-operaattoreilla. Huomaa että otsikoilla siivutettaessa (loc) myös loppurivi/sarake on mukana, rivi/sarakenumeroilla (iloc) ei ole. \n",
    "\n",
    "Pelkkä `:` tarkoittaa kaikkia rivejä/sarakkeita.\n",
    "\n",
    "Sarake-osan voi jättää myös pois, jolloin tutkitaan vain rivejä. Jos halutaan tutkia vain sarakkeita, rivi-osan voi merkitä `:`"
   ]
  },
  {
   "cell_type": "code",
   "execution_count": null,
   "metadata": {},
   "outputs": [],
   "source": [
    "df = pd.DataFrame({'Jyp': {2014: 5, 2015: 3,  2016: 4,  2017: 3 , 2018: 5 , 2019: 10},\n",
    "                   'Sport' : {2015: 14, 2016: 10, 2017: 14, 2018: 15 , 2019:11},\n",
    "                    'Jukurit' : {2017: 11, 2018: 13, 2019:14}   \n",
    "                  })\n",
    "\n",
    "print(df)\n",
    "\n",
    "print('\\n---------\\n')\n",
    "\n",
    "print(df.loc[:2015, 'Jyp'])   # 2015-rivi on mukana.\n",
    "\n",
    "print('\\n---------\\n')\n",
    "\n",
    "print(df.loc[2016:2018, ['Jyp', 'Sport']])\n",
    "\n",
    "df2 = df.loc[2016:2018, ['Jyp', 'Sport']]\n",
    "\n",
    "print('\\n---------\\n')\n",
    "\n",
    "print(df.iloc[0:3, :]) # 4. rivi (rivi nro 3) ei mukana\n",
    "\n",
    "print('\\n---------\\n')\n"
   ]
  },
  {
   "cell_type": "markdown",
   "metadata": {},
   "source": [
    "Myös Boolean-taulukkoa voi käyttää valitsemiseen loc-operaattorilla:"
   ]
  },
  {
   "cell_type": "code",
   "execution_count": null,
   "metadata": {},
   "outputs": [],
   "source": [
    "df = pd.DataFrame({'Jyp': {2014: 5, 2015: 3,  2016: 4,  2017: 3 , 2018: 5 , 2019: 10},\n",
    "                   'Sport' : {2015: 14, 2016: 10, 2017: 14, 2018: 15 , 2019:11},\n",
    "                    'Jukurit' : {2017: 11, 2018: 13, 2019:14}   \n",
    "                  })\n",
    "\n",
    "print(df)\n",
    "\n",
    "print('\\n---------\\n')\n",
    "\n",
    "# kaikki rivit, joissa Jyp < 4. Kaikki sarakkeet\n",
    "print(df[df['Jyp']<4]) \n",
    "\n",
    "print('\\n---------\\n')\n",
    "\n",
    "# kaikki rivit, joissa Jyp < 4. Sarakkeet Jyp ja Jukurit\n",
    "print(df.loc[df['Jyp']<4, ['Jyp', 'Jukurit']]) \n",
    "\n",
    "\n",
    "# samoin menisi näin:\n",
    "# print(df[df['Jyp']<4][['Jyp', 'Jukurit']]) \n",
    "\n",
    "\n",
    "print('\\n---------\\n')\n",
    "\n",
    "# kaikki sarakkeet, joissa 2017-sija on > 10. Kaikki rivit.\n",
    "print(df.loc[ : , df.loc[2017]>10]) \n",
    "\n",
    "print('\\n---------\\n')\n",
    "\n",
    "# rivit, joissa Sport>10, sarakkeet joissa 2017>10\n",
    "print(df.loc[df['Sport']>10 , df.loc[2017]>10]) \n",
    "\n",
    "print('\\n---------\\n')\n",
    "\n",
    "# 2 viimeistä saraketta, rivit, joissa Jyp<4 \n",
    "print(df.iloc[:,-2:][df['Jyp']<4]) \n",
    "\n"
   ]
  },
  {
   "cell_type": "markdown",
   "metadata": {},
   "source": [
    "`loc`-operaattoorin ja \"suoran\" suodatuksen ero nähdään alla:   \n",
    "jos tehdään jotain suodatuksen antamalle \"DataFramen osalle\", `loc`antaa näkymän alkuperäiseen DataFrameen, kun taas \"suora\" suodatus antaa kopion siitä.  \n",
    "\n",
    "Tästä tuleekin varoitus  \n",
    "\n",
    "    A value is trying to be set on a copy of a slice from a DataFrame.\n",
    "    Try using .loc[row_indexer,col_indexer] = value instead_"
   ]
  },
  {
   "cell_type": "code",
   "execution_count": null,
   "metadata": {},
   "outputs": [],
   "source": [
    "\n",
    "df = pd.DataFrame({'Jyp': {2014: 5, 2015: 3,  2016: 4,  2017: 3 , 2018: 5 , 2019: 10},\n",
    "                   'Sport' : {2015: 14, 2016: 10, 2017: 14, 2018: 15 , 2019:11},\n",
    "                    'Jukurit' : {2017: 11, 2018: 13, 2019:14}   \n",
    "                  })\n",
    "\n",
    "print(df)\n",
    "\n",
    "print('\\n---------\\n')\n",
    "\n",
    "df[df['Jyp']<4]['Jyp'] = 'mitali'\n",
    "\n",
    "print(df)\n",
    "\n",
    "print('\\n---------\\n')\n",
    "\n",
    "df.loc[df['Jyp']<4, 'Jyp'] = 'mitali' \n",
    "\n",
    "\n",
    "print(df)\n"
   ]
  },
  {
   "cell_type": "markdown",
   "metadata": {},
   "source": [
    "Myös `at` ja `iat` -operaattoreilla saadaan _yksittäiset alkiot_ rivi- ja sarakeotsikoiden (at) tai rivi- ja sarakenumeroiden (iat) mukaan"
   ]
  },
  {
   "cell_type": "code",
   "execution_count": null,
   "metadata": {},
   "outputs": [],
   "source": [
    "df = pd.DataFrame({'Jyp': {2014: 5, 2015: 3,  2016: 4,  2017: 3 , 2018: 5 , 2019: 10},\n",
    "                   'Sport' : {2015: 14, 2016: 10, 2017: 14, 2018: 15 , 2019:11},\n",
    "                    'Jukurit' : {2017: 11, 2018: 13, 2019:14}   \n",
    "                  })\n",
    "\n",
    "\n",
    "print(df)\n",
    "\n",
    "print('\\n---------\\n')\n",
    "\n",
    "print(df.loc[2017, 'Jyp']) \n",
    "\n",
    "print(df.at[2017, 'Jyp']) \n",
    "\n",
    "print(df.iat[2, 0]) \n",
    "\n"
   ]
  },
  {
   "cell_type": "markdown",
   "metadata": {},
   "source": [
    "<a id=\"17\"></a>\n",
    "### ja/tai/isin\n",
    "Boolean-taulukolla suodatukseen voi antaa myös useampia ehtoja, &-merkki toimii **ja**-operaattorina ja |-merkki **tai**-operaattorina. Tällöin yksittäiset ehdot pitää olla suluissa.\n",
    "\n",
    "pandasin `isin`-funktiota voi käyttää testaamaan onko arvo joku listassa annetuista.  \n",
    "`~`-operaattorilla tämän tuloksen voi kääntää vastakkaiseksi, eli saadaan ikään kuin \"ei ole listassa\"."
   ]
  },
  {
   "cell_type": "code",
   "execution_count": null,
   "metadata": {
    "scrolled": true
   },
   "outputs": [],
   "source": [
    "data = { 'väkiluku': [62000, 140000, 645000 , 118000, 21393, 20352 ],\n",
    "         'pinta-ala': [8016, 1466, 215 , 4326, 872, 1823],\n",
    "         'maakunta': ['Lappi', 'Keski-Suomi', 'Uusimaa', 'Pohjois-Savo','Pohjois-Savo', 'Keski-Suomi']}\n",
    "\n",
    "df = pd.DataFrame(data, index=['Rovaniemi', 'Jyväskylä', 'Helsinki', 'Kuopio', 'Iisalmi','Jämsä'])\n",
    "\n",
    "print(df)\n",
    "\n",
    "print('-----------\\n')\n",
    "\n",
    "print(df[(df['maakunta']=='Keski-Suomi') & (df['pinta-ala']>1500)])\n",
    "\n",
    "print('-----------\\n')\n",
    "\n",
    "print(df[(df['maakunta']=='Lappi') | (df['väkiluku']<=50000)])\n",
    "\n",
    "\n",
    "print('-----------\\n')\n",
    "\n",
    "print(df[df['maakunta'].isin(['Lappi', 'Keski-Suomi'])])\n",
    "\n",
    "\n",
    "print('-----------\\n')\n",
    "\n",
    "nogo = ['Uusimaa', 'Pohjois-Savo']\n",
    "\n",
    "print(df[~df['maakunta'].isin(nogo)])"
   ]
  },
  {
   "cell_type": "markdown",
   "metadata": {},
   "source": [
    "<a id=\"18\"></a>\n",
    "### DataFramen lajittelu\n",
    "DataFramea ja Seriesia voi lajitella `sort_values` ja `sort_index` -funktioilla.  \n",
    "Parametrilla `ascending = False` lajitellaan laskevassa järjestyksessä.  \n",
    "Parametrilla `axis = 1` lajitellaan riviotsikoiden mukaan.  \n",
    "`inplace = True` -parametrilla, saadaan tämäkin tehtyä alkuperäiseen DataFrameen, muuten palautetaan uusi DataFrame.\n",
    "\n"
   ]
  },
  {
   "cell_type": "code",
   "execution_count": null,
   "metadata": {},
   "outputs": [],
   "source": [
    "df = pd.DataFrame({'Jyp': {2014: 5, 2015: 3,  2016: 4,  2017: 3 , 2018: 5 , 2019: 10},\n",
    "                   'Sport' : {2015: 14, 2016: 10, 2017: 14, 2018: 15 , 2019:11},\n",
    "                    'Jukurit' : {2017: 11, 2018: 13, 2019:14}   \n",
    "                  })\n",
    "\n",
    "print(df)\n",
    "\n",
    "print('\\n---------\\n')\n",
    "\n",
    "df2 = df.sort_index(ascending = False)\n",
    "\n",
    "print(df2)\n",
    "\n",
    "print('\\n---------\\n')\n",
    "\n",
    "df3 = df.sort_values('Jyp', ascending = False)\n",
    "\n",
    "print(df3)\n",
    "\n",
    "print('\\n---------\\n')\n",
    "\n",
    "df.sort_values(['Jyp', 'Sport'], inplace = True)\n",
    "\n",
    "print(df)\n",
    "\n",
    "print('\\n---------\\n')\n",
    "\n",
    "df4 = df.sort_values('Jukurit')\n",
    "\n",
    "print(df4[:2]) # kaksi pienintä Jukurit-sijoitusta\n",
    "\n"
   ]
  },
  {
   "cell_type": "markdown",
   "metadata": {},
   "source": [
    "<a id=\"19\"></a>\n",
    "### head, tail, sample\n",
    "\n",
    "DataFramen ensimmäiset rivit saa myös `head()`-funktiolla, ilman parametria rivejä tulee 5, mutta antamalla luku saadaan haluttu määrä rivejä.\n",
    "\n",
    "Vastaavasti `tail()` antaa rivejä lopusta ja `sample()` satunnaisia rivejä (oletuksen yhden)\n"
   ]
  },
  {
   "cell_type": "code",
   "execution_count": null,
   "metadata": {},
   "outputs": [],
   "source": [
    "df = pd.DataFrame({'Jyp': {2014: 5, 2015: 3,  2016: 4,  2017: 3 , 2018: 5 , 2019: 10},\n",
    "                   'Sport' : {2015: 14, 2016: 10, 2017: 14, 2018: 15 , 2019:11},\n",
    "                    'Jukurit' : {2017: 11, 2018: 13, 2019:14}   \n",
    "                  })\n",
    "\n",
    "print(df)\n",
    "\n",
    "print('\\n---------\\n')\n",
    "\n",
    "print(df.head())\n",
    "\n",
    "print('\\n---------\\n')\n",
    "\n",
    "\n",
    "print(df.tail(3))\n",
    "\n",
    "print('\\n---------\\n')\n",
    "\n",
    "print(df.sample())\n",
    "\n",
    "print('\\n---------\\n')\n",
    "\n",
    "\n",
    "print(df.sample(2))\n",
    "\n",
    "print('\\n---------\\n')\n"
   ]
  }
 ],
 "metadata": {
  "kernelspec": {
   "display_name": "Python 3",
   "language": "python",
   "name": "python3"
  },
  "language_info": {
   "codemirror_mode": {
    "name": "ipython",
    "version": 3
   },
   "file_extension": ".py",
   "mimetype": "text/x-python",
   "name": "python",
   "nbconvert_exporter": "python",
   "pygments_lexer": "ipython3",
   "version": "3.9.0"
  }
 },
 "nbformat": 4,
 "nbformat_minor": 2
}
