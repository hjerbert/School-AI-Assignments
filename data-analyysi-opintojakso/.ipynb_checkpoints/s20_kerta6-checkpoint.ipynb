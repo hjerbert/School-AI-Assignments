{
 "cells": [
  {
   "cell_type": "markdown",
   "metadata": {},
   "source": [
    "# Datan analysointi S2020 - kerta 6\n",
    "<a href=\"#1\">Aikasarjat</a>  \n",
    "<a href=\"#2\">datetime ja time -datatyypit perus-Pythonissa</a>  \n",
    "<a href=\"#3\">datetime<->merkkijono</a>  \n",
    "<a href=\"#4\">pandas.to_datetime</a>  \n",
    "<a href=\"#5\">Timestampit indeksissä</a>  \n",
    "<a href=\"#6\">parse_dates read_csv:ssä</a>  \n",
    "<a href=\"#7\">Date ranges</a>  \n",
    "<a href=\"#8\">Ajanjaksot (Periods)</a>  \n",
    "<a href=\"#9\">Uudelleennäytteistäminen (resampling)</a>  \n",
    "<a href=\"#10\">Liukuvat keskiarvot</a>  \n",
    "<a href=\"#11\">rolling</a>  \n",
    "<a href=\"#12\">expanding</a>  \n",
    "<a href=\"#13\">ewm</a>  \n",
    "\n",
    "\n",
    "\n",
    "<a id=\"1\"></a>\n",
    "## Aikasarjat\n",
    "\n",
    "Usein data-analyysissa tutkitaan muuttujien kehittymistä **ajan suhteen**, jolloin datasetit sisältävät tiedon ajankohdasta. Tiedot voivat olla *vakioiduin aikavälein*, esim. \"joka 15. sekunti\" tai \"kerran kuukaudessa\", tai epäsäännöllisin välein. \n",
    "\n",
    "Aikatiedot voivat olla datassa eri muodoissa:  \n",
    "* **aikaleimoina** (timestamp) esim. *2019-04-05 11:23*\n",
    "* **aikaväleinä** (period)  esim *vuosi 2019*, *tammikuu 2019*\n",
    " * aikavälin voi ilmoittaa myös kahdella aikaleimalla *alku - loppu*\n",
    "* **kuluneena aikana** (elapsed time), esim sekunteja kokeen alusta\n",
    "\n",
    "Pandasista löytyy paljon työkaluja ja algoritmejä aikaasarjojen työstämiseen, esim. koonti halutuin aikavälein onnistuu helposti."
   ]
  },
  {
   "cell_type": "markdown",
   "metadata": {},
   "source": [
    "<a id=\"2\"></a>\n",
    "###  datetime ja time -datatyypit perus-Pythonissa\n",
    "Pythonin **datetime**-moduulissa on datatyypit päiväys- ja aikatiedoille:\n",
    "* date (vuosi, kuukausi ja päivä)\n",
    "* time (aika, tunnit, minuutit, sekunnit ja mikrosekunnit)\n",
    "* datetime (päiväys ja aika)\n",
    "* timedelta (kahden datetime-arvon välinen aika, days, seconds ja microseconds)\n",
    "* tzinfo (aikavyöhyke)"
   ]
  },
  {
   "cell_type": "code",
   "execution_count": 196,
   "metadata": {},
   "outputs": [
    {
     "name": "stdout",
     "output_type": "stream",
     "text": [
      "2019-02-22 09:40:21.713940\n",
      "2019-05-06 11:23:45\n",
      "2019-08-31 00:00:00\n"
     ]
    }
   ],
   "source": [
    "from datetime import datetime\n",
    "nyt = datetime.now()\n",
    "print(nyt)\n",
    "\n",
    "joskus = datetime(2019,5,6,11,23,45)\n",
    "print(joskus)\n",
    "\n",
    "toiste = datetime(2019,8,31)\n",
    "print(toiste)"
   ]
  },
  {
   "cell_type": "code",
   "execution_count": 197,
   "metadata": {},
   "outputs": [
    {
     "name": "stdout",
     "output_type": "stream",
     "text": [
      "2019-02-22\n"
     ]
    }
   ],
   "source": [
    "from datetime import date\n",
    "\n",
    "nytpv = date.today()\n",
    "print(nytpv)"
   ]
  },
  {
   "cell_type": "code",
   "execution_count": 198,
   "metadata": {
    "scrolled": true
   },
   "outputs": [
    {
     "name": "stdout",
     "output_type": "stream",
     "text": [
      "73 days, 1:43:23.286060\n",
      "<class 'datetime.timedelta'>\n",
      "73\n",
      "6203\n",
      "2019-03-04 09:40:21.713940\n",
      "2019-02-23 09:40:31.713940\n"
     ]
    }
   ],
   "source": [
    "from datetime import timedelta\n",
    "\n",
    "ero = joskus-nyt\n",
    "print(ero)\n",
    "print(type(ero))\n",
    "print(ero.days)\n",
    "print(ero.seconds)\n",
    "print(nyt + timedelta(10))\n",
    "print(nyt + timedelta(1,10))"
   ]
  },
  {
   "cell_type": "markdown",
   "metadata": {},
   "source": [
    "datetimeja ei pysty laskemaan yhteen mutta datetimeen voi lisätä timedeltan."
   ]
  },
  {
   "cell_type": "markdown",
   "metadata": {},
   "source": [
    "<a id=\"3\"></a>\n",
    "### datetime<->merkkijono\n",
    "datetime-objektin ja myöhemmin esiteltävän pandasin *Timestamp*-objektin voi tulostaa merkkijonona `str`- ja `strftime`-metodeilla:"
   ]
  },
  {
   "cell_type": "code",
   "execution_count": 199,
   "metadata": {},
   "outputs": [
    {
     "name": "stdout",
     "output_type": "stream",
     "text": [
      "2019-02-22 09:40:21.769869\n",
      "2019-02-22 09:40:21.769869\n",
      "22.02.2019\n",
      "Fri Feb 22 09:40:21 2019\n"
     ]
    }
   ],
   "source": [
    "nyt = datetime.now()\n",
    "\n",
    "print(nyt)\n",
    "print(str(nyt))\n",
    "\n",
    "print(nyt.strftime('%d.%m.%Y'))\n",
    "print(nyt.strftime('%c'))"
   ]
  },
  {
   "cell_type": "markdown",
   "metadata": {},
   "source": [
    "`strftime`:n muotoilukoodeja:\n",
    "* **%Y**\tFour-digit year\n",
    "* **%y**\tTwo-digit year\n",
    "* **%m**\tTwo-digit month [01, 12]\n",
    "* **%d**\tTwo-digit day [01, 31]\n",
    "* **%H**\tHour (24-hour clock) [00, 23]\n",
    "* **%I**\tHour (12-hour clock) [01, 12]\n",
    "* **%M**\tTwo-digit minute [00, 59]\n",
    "* **%S**\tSecond [00, 61] (seconds 60, 61 account for leap seconds)\n",
    "* **%w**\tWeekday as integer [0 (Sunday), 6]\n",
    "* **%U**\tWeek number of the year [00, 53]; Sunday is considered the first day of the week, and days before the first Sunday of the year are “week 0”\n",
    "* **%W**\tWeek number of the year [00, 53]; Monday is considered the first day of the week, and days before the first Monday of the year are “week 0”\n",
    "* **%z**\tUTC time zone offset as +HHMM or -HHMM; empty if time zone naive\n",
    "* **%F**\tShortcut for %Y-%m-%d (e.g., 2012-4-18)\n",
    "* **%D**\tShortcut for %m/%d/%y (e.g., 04/18/12)\n",
    "* **%a**\tAbbreviated weekday name\n",
    "* **%A**\tFull weekday name\n",
    "* **%b**\tAbbreviated month name\n",
    "* **%B**\tFull month name\n",
    "* **%c**\tFull date and time (e.g., ‘Tue 01 May 2012 04:20:57 PM’)\n",
    "* **%p**\tLocale equivalent of AM or PM\n",
    "* **%x**\tLocale-appropriate formatted date (e.g., in the United States, May 1, 2012 yields ’05/01/2012’)\n",
    "* **%X**\tLocale-appropriate time (e.g., ’04:24:12 PM’)"
   ]
  },
  {
   "cell_type": "markdown",
   "metadata": {},
   "source": [
    "Samoilla muotoilukoodeilla voidaan merkkijono tulkita datetime-objektiksi `datetime.strptime`-metodilla:"
   ]
  },
  {
   "cell_type": "code",
   "execution_count": 200,
   "metadata": {},
   "outputs": [
    {
     "name": "stdout",
     "output_type": "stream",
     "text": [
      "2019-02-22 00:00:00\n"
     ]
    }
   ],
   "source": [
    "mjono = '22.2.2019'\n",
    "aika = datetime.strptime(mjono, '%d.%m.%Y')\n",
    "print(aika)"
   ]
  },
  {
   "cell_type": "markdown",
   "metadata": {},
   "source": [
    "Muotoilukoodien kirjoittamiselta vältytään käyttämällä **dateutil**-kirjaston `parser.parse` -metodia, joka parsii yleisimmät päiväys/aikaformaatit:"
   ]
  },
  {
   "cell_type": "code",
   "execution_count": 201,
   "metadata": {},
   "outputs": [
    {
     "name": "stdout",
     "output_type": "stream",
     "text": [
      "2019-02-23 14:15:00\n",
      "2019-02-12 00:00:00\n",
      "2019-12-02 00:00:00\n"
     ]
    }
   ],
   "source": [
    "from dateutil.parser import parse\n",
    "\n",
    "silloin = parse('23.2.2019 14:15')\n",
    "print(silloin)\n",
    "\n",
    "tuolloin = parse('2.12.19')\n",
    "print(tuolloin) # menee väärin jos 2 on päivä. Englannissa usein kk ensin\n",
    "\n",
    "tuolloin = parse('2.12.19',  dayfirst=True)\n",
    "print(tuolloin)\n",
    "\n"
   ]
  },
  {
   "cell_type": "markdown",
   "metadata": {},
   "source": [
    "<a id=\"4\"></a>\n",
    "### pandas.to_datetime\n",
    "pandasin `to_datetime`-metodi parsii vastaavasti ajaksi tunnistettavia merkkijonoja pandasin `Timestamp`-objekteiksi."
   ]
  },
  {
   "cell_type": "code",
   "execution_count": 202,
   "metadata": {},
   "outputs": [
    {
     "name": "stdout",
     "output_type": "stream",
     "text": [
      "2034-04-01 00:00:00\n",
      "<class 'pandas._libs.tslib.Timestamp'>\n"
     ]
    }
   ],
   "source": [
    "import pandas as pd\n",
    "\n",
    "tt = pd.to_datetime('1.4.34', dayfirst=True)\n",
    "print(tt)\n",
    "print(type(tt))\n",
    "\n"
   ]
  },
  {
   "cell_type": "markdown",
   "metadata": {},
   "source": [
    "Listatyyppisen parametrin tapauksessa `pd.to_datetime` antaa `DateTimeIndex`-objektin, Seriesistä tulee Series jne."
   ]
  },
  {
   "cell_type": "code",
   "execution_count": 203,
   "metadata": {},
   "outputs": [
    {
     "name": "stdout",
     "output_type": "stream",
     "text": [
      "DatetimeIndex(['2019-02-22 12:23:00', '2019-02-22 13:23:00',\n",
      "               '2019-02-22 23:34:00'],\n",
      "              dtype='datetime64[ns]', freq=None)\n"
     ]
    }
   ],
   "source": [
    "ajat = ['12:23', '13:23', '23:34']\n",
    "print(pd.to_datetime(ajat))\n"
   ]
  },
  {
   "cell_type": "code",
   "execution_count": 204,
   "metadata": {},
   "outputs": [
    {
     "name": "stdout",
     "output_type": "stream",
     "text": [
      "0   2019-02-22 12:23:00\n",
      "1   2019-02-22 13:23:00\n",
      "2   2019-02-22 23:34:00\n",
      "dtype: datetime64[ns]\n"
     ]
    }
   ],
   "source": [
    "ajatS = pd.Series(['12:23', '13:23', '23:34'])\n",
    "print(pd.to_datetime(ajatS))\n"
   ]
  },
  {
   "cell_type": "markdown",
   "metadata": {},
   "source": [
    "`to_datetime`:lle voi myös kertoa käytetyn formaatin:\n"
   ]
  },
  {
   "cell_type": "code",
   "execution_count": 205,
   "metadata": {},
   "outputs": [
    {
     "data": {
      "text/plain": [
       "Timestamp('1900-01-01 01:04:34')"
      ]
     },
     "execution_count": 205,
     "metadata": {},
     "output_type": "execute_result"
    }
   ],
   "source": [
    "pd.to_datetime('1.4.34', format='%H.%M.%S')"
   ]
  },
  {
   "cell_type": "markdown",
   "metadata": {},
   "source": [
    "`pd.to_timedelta` tekee aikaeron, jonka voi esim lisätä aikaleimaan."
   ]
  },
  {
   "cell_type": "code",
   "execution_count": 206,
   "metadata": {},
   "outputs": [
    {
     "name": "stdout",
     "output_type": "stream",
     "text": [
      "      lähetys  kesto\n",
      "0  2019-01-01      5\n",
      "1  2019-01-02      7\n",
      "2  2019-01-02     12\n",
      "3  2019-01-03      8\n",
      "4  2019-01-08      3\n",
      "5  2019-01-11      4\n",
      "     lähetys  kesto   toimitus\n",
      "0 2019-01-01      5 2019-01-06\n",
      "1 2019-01-02      7 2019-01-09\n",
      "2 2019-01-02     12 2019-01-14\n",
      "3 2019-01-03      8 2019-01-11\n",
      "4 2019-01-08      3 2019-01-11\n",
      "5 2019-01-11      4 2019-01-15\n"
     ]
    }
   ],
   "source": [
    "df = pd.read_csv('http://student.labranet.jamk.fi/~varpe/datananalk2019/kerta7/esim3.txt')\n",
    "print(df)\n",
    "df['lähetys']  = pd.to_datetime(df['lähetys']) # muutetaan aikaleimoiksi\n",
    "df['toimitus'] = df['lähetys'] + pd.to_timedelta(df['kesto'],'d')  # lisätään päiviä ('d') keston mukaan\n",
    "\n",
    "print(df)\n"
   ]
  },
  {
   "cell_type": "markdown",
   "metadata": {},
   "source": [
    "<a id=\"5\"></a>\n",
    "## Timestampit indeksissä\n",
    "Usein käytetty esitystapa aikasarjoille on sellainen, jossa Seriesin tai DataFramen indeksi on aikaleimoja (Timestamp). "
   ]
  },
  {
   "cell_type": "code",
   "execution_count": 207,
   "metadata": {},
   "outputs": [
    {
     "name": "stdout",
     "output_type": "stream",
     "text": [
      "2019-01-02   -1.831170\n",
      "2019-01-05   -1.071022\n",
      "2019-01-07   -1.301236\n",
      "2019-04-08    0.464750\n",
      "2020-01-10    0.950382\n",
      "2021-01-12   -0.254946\n",
      "dtype: float64\n"
     ]
    }
   ],
   "source": [
    "from datetime import datetime\n",
    "import numpy as np\n",
    "\n",
    "dates = [datetime(2019, 1, 2), datetime(2019, 1, 5), datetime(2019, 1, 7), \n",
    "         datetime(2019, 4, 8), datetime(2020, 1, 10), datetime(2021, 1, 12)]\n",
    "\n",
    "ts = pd.Series(np.random.randn(6), index=dates)\n",
    "\n",
    "print(ts)"
   ]
  },
  {
   "cell_type": "markdown",
   "metadata": {},
   "source": [
    "Tällaista voidaan indeksoida tai viipaloida samoin kuin muitakin Seriesiejä/DataFrameja.  \n",
    "\n",
    "Lisäksi voidaan antaa mikä tahansa ajaksi tulkittava merkkijono. Tai esim pelkkä vuosi tai vuosi ja kuukausi jne.\n",
    "\n",
    "Siivuttamisessa annetun päiväyksen/ajan ei tarvitse esiintyä aikasarjassa."
   ]
  },
  {
   "cell_type": "code",
   "execution_count": 208,
   "metadata": {},
   "outputs": [
    {
     "name": "stdout",
     "output_type": "stream",
     "text": [
      "-1.30123558393\n",
      "\n",
      "--------\n",
      "\n",
      "-1.83117043977\n",
      "\n",
      "--------\n",
      "\n",
      "2019-01-02   -1.831170\n",
      "2019-01-05   -1.071022\n",
      "2019-01-07   -1.301236\n",
      "2019-04-08    0.464750\n",
      "dtype: float64\n",
      "\n",
      "--------\n",
      "\n",
      "2019-01-02   -1.831170\n",
      "2019-01-05   -1.071022\n",
      "2019-01-07   -1.301236\n",
      "dtype: float64\n",
      "\n",
      "--------\n",
      "\n",
      "2019-04-08    0.464750\n",
      "2020-01-10    0.950382\n",
      "dtype: float64\n",
      "\n",
      "--------\n",
      "\n",
      "2019-01-02   -1.831170\n",
      "2019-01-05   -1.071022\n",
      "2019-01-07   -1.301236\n",
      "dtype: float64\n"
     ]
    }
   ],
   "source": [
    "print(ts[2])\n",
    "\n",
    "print('\\n--------\\n')\n",
    "print(ts['1.2.2019'])\n",
    "\n",
    "print('\\n--------\\n')\n",
    "print(ts['2019'])\n",
    "\n",
    "print('\\n--------\\n')\n",
    "print(ts['2019/1'])\n",
    "\n",
    "print('\\n--------\\n')\n",
    "print(ts['2019/2':'2020'])\n",
    "\n",
    "print('\\n--------\\n')\n",
    "print(ts[:'20190110'])"
   ]
  },
  {
   "cell_type": "markdown",
   "metadata": {},
   "source": [
    "<a id=\"6\"></a>\n",
    "### parse_dates read_csv:ssä\n",
    "Kun datasetti luetaan read_csv:llä, voidaan halutut sarakkeet parsia aikaleimoiksi jo tässä vaiheessa `parse_dates`-parametrilla, jolle voidaan antaa:  \n",
    "\n",
    "* *boolean*. If True -> try parsing the index.\n",
    "* *list of int or names*. e.g. If [1, 2, 3] -> try parsing columns 1, 2, 3 each as a separate date column.\n",
    "* *list of lists*. e.g. If [[1, 3]] -> combine columns 1 and 3 and parse as a single date column.\n",
    "* *dict*, e.g. {‘foo’ : [1, 3]} -> parse columns 1, 3 as date and call result ‘foo’\n",
    "\n",
    "\n",
    "Tiedosto:  \n",
    "`pvm,arvo,arvo2\n",
    "1.1.2019,15,-5\n",
    "2.1.2019,14,-3\n",
    "3.1.2019,11,1\n",
    "4.1.2019,11,2\n",
    "5.1.2019,20,1\n",
    "6.1.2019,16,-2\n",
    "7.1.2019,11,-1\n",
    "8.1.2019,13,0`"
   ]
  },
  {
   "cell_type": "code",
   "execution_count": 209,
   "metadata": {},
   "outputs": [
    {
     "data": {
      "text/html": [
       "<div>\n",
       "<style>\n",
       "    .dataframe thead tr:only-child th {\n",
       "        text-align: right;\n",
       "    }\n",
       "\n",
       "    .dataframe thead th {\n",
       "        text-align: left;\n",
       "    }\n",
       "\n",
       "    .dataframe tbody tr th {\n",
       "        vertical-align: top;\n",
       "    }\n",
       "</style>\n",
       "<table border=\"1\" class=\"dataframe\">\n",
       "  <thead>\n",
       "    <tr style=\"text-align: right;\">\n",
       "      <th></th>\n",
       "      <th>pvm</th>\n",
       "      <th>arvo</th>\n",
       "      <th>arvo2</th>\n",
       "    </tr>\n",
       "  </thead>\n",
       "  <tbody>\n",
       "    <tr>\n",
       "      <th>0</th>\n",
       "      <td>1.1.2019</td>\n",
       "      <td>15</td>\n",
       "      <td>-5</td>\n",
       "    </tr>\n",
       "    <tr>\n",
       "      <th>1</th>\n",
       "      <td>2.1.2019</td>\n",
       "      <td>14</td>\n",
       "      <td>-3</td>\n",
       "    </tr>\n",
       "    <tr>\n",
       "      <th>2</th>\n",
       "      <td>3.1.2019</td>\n",
       "      <td>11</td>\n",
       "      <td>1</td>\n",
       "    </tr>\n",
       "    <tr>\n",
       "      <th>3</th>\n",
       "      <td>4.1.2019</td>\n",
       "      <td>11</td>\n",
       "      <td>2</td>\n",
       "    </tr>\n",
       "    <tr>\n",
       "      <th>4</th>\n",
       "      <td>5.1.2019</td>\n",
       "      <td>20</td>\n",
       "      <td>1</td>\n",
       "    </tr>\n",
       "    <tr>\n",
       "      <th>5</th>\n",
       "      <td>6.1.2019</td>\n",
       "      <td>16</td>\n",
       "      <td>-2</td>\n",
       "    </tr>\n",
       "    <tr>\n",
       "      <th>6</th>\n",
       "      <td>7.1.2019</td>\n",
       "      <td>11</td>\n",
       "      <td>-1</td>\n",
       "    </tr>\n",
       "    <tr>\n",
       "      <th>7</th>\n",
       "      <td>8.1.2019</td>\n",
       "      <td>13</td>\n",
       "      <td>0</td>\n",
       "    </tr>\n",
       "  </tbody>\n",
       "</table>\n",
       "</div>"
      ],
      "text/plain": [
       "        pvm  arvo  arvo2\n",
       "0  1.1.2019    15     -5\n",
       "1  2.1.2019    14     -3\n",
       "2  3.1.2019    11      1\n",
       "3  4.1.2019    11      2\n",
       "4  5.1.2019    20      1\n",
       "5  6.1.2019    16     -2\n",
       "6  7.1.2019    11     -1\n",
       "7  8.1.2019    13      0"
      ]
     },
     "execution_count": 209,
     "metadata": {},
     "output_type": "execute_result"
    }
   ],
   "source": [
    "df = pd.read_csv('https://bit.ly/2Nfr9x3')\n",
    "df"
   ]
  },
  {
   "cell_type": "code",
   "execution_count": 210,
   "metadata": {},
   "outputs": [
    {
     "name": "stdout",
     "output_type": "stream",
     "text": [
      "         pvm  arvo  arvo2\n",
      "0 2019-01-01    15     -5\n",
      "1 2019-02-01    14     -3\n",
      "2 2019-03-01    11      1\n",
      "3 2019-04-01    11      2\n",
      "4 2019-05-01    20      1\n",
      "5 2019-06-01    16     -2\n",
      "6 2019-07-01    11     -1\n",
      "7 2019-08-01    13      0\n",
      "         pvm  arvo  arvo2\n",
      "0 2019-01-01    15     -5\n",
      "1 2019-01-02    14     -3\n",
      "2 2019-01-03    11      1\n",
      "3 2019-01-04    11      2\n",
      "4 2019-01-05    20      1\n",
      "5 2019-01-06    16     -2\n",
      "6 2019-01-07    11     -1\n",
      "7 2019-01-08    13      0\n"
     ]
    }
   ],
   "source": [
    "df = pd.read_csv('https://bit.ly/2Nfr9x3', parse_dates=['pvm'])\n",
    "print(df)\n",
    "\n",
    "# väärin meni, lisätään dayfirst=True\n",
    "\n",
    "df = pd.read_csv('https://bit.ly/2Nfr9x3', parse_dates=['pvm'], dayfirst=True)\n",
    "print(df)\n"
   ]
  },
  {
   "cell_type": "code",
   "execution_count": 211,
   "metadata": {},
   "outputs": [
    {
     "name": "stdout",
     "output_type": "stream",
     "text": [
      "            arvo  arvo2\n",
      "pvm                    \n",
      "2019-01-01    15     -5\n",
      "2019-01-02    14     -3\n",
      "2019-01-03    11      1\n",
      "2019-01-04    11      2\n",
      "2019-01-05    20      1\n",
      "2019-01-06    16     -2\n",
      "2019-01-07    11     -1\n",
      "2019-01-08    13      0\n"
     ]
    }
   ],
   "source": [
    "# päiväys indeksiksi\n",
    "df = pd.read_csv('https://bit.ly/2Nfr9x3', parse_dates=True, dayfirst=True, index_col='pvm')\n",
    "print(df)\n"
   ]
  },
  {
   "cell_type": "markdown",
   "metadata": {},
   "source": [
    "Tiedosto:  \n",
    "`vv,kk,pp,arvo,arvo2\n",
    "2019,1,1,18,-2\n",
    "2019,1,2,15,-1\n",
    "2019,1,3,17,-4\n",
    "2019,1,4,18,2\n",
    "2019,1,5,14,3\n",
    "2019,1,6,18,2\n",
    "2019,1,7,18,3\n",
    "2019,1,8,20,4\n",
    "2019,1,9,16,5\n",
    "2019,1,10,15,-4\n",
    "2019,1,11,18,-4\n",
    "2019,1,12,20,5`\n",
    "\n"
   ]
  },
  {
   "cell_type": "code",
   "execution_count": 212,
   "metadata": {},
   "outputs": [
    {
     "name": "stdout",
     "output_type": "stream",
     "text": [
      "      vv  kk  pp  arvo  arvo2\n",
      "0   2019   1   1    18     -2\n",
      "1   2019   1   2    15     -1\n",
      "2   2019   1   3    17     -4\n",
      "3   2019   1   4    18      2\n",
      "4   2019   1   5    14      3\n",
      "5   2019   1   6    18      2\n",
      "6   2019   1   7    18      3\n",
      "7   2019   1   8    20      4\n",
      "8   2019   1   9    16      5\n",
      "9   2019   1  10    15     -4\n",
      "10  2019   1  11    18     -4\n",
      "11  2019   1  12    20      5\n",
      "     vv_kk_pp  arvo  arvo2\n",
      "0  2019-01-01    18     -2\n",
      "1  2019-01-02    15     -1\n",
      "2  2019-01-03    17     -4\n",
      "3  2019-01-04    18      2\n",
      "4  2019-01-05    14      3\n",
      "5  2019-01-06    18      2\n",
      "6  2019-01-07    18      3\n",
      "7  2019-01-08    20      4\n",
      "8  2019-01-09    16      5\n",
      "9  2019-01-10    15     -4\n",
      "10 2019-01-11    18     -4\n",
      "11 2019-01-12    20      5\n",
      "            arvo  arvo2\n",
      "pvm                    \n",
      "2019-01-01    18     -2\n",
      "2019-01-02    15     -1\n",
      "2019-01-03    17     -4\n",
      "2019-01-04    18      2\n",
      "2019-01-05    14      3\n",
      "2019-01-06    18      2\n",
      "2019-01-07    18      3\n",
      "2019-01-08    20      4\n",
      "2019-01-09    16      5\n",
      "2019-01-10    15     -4\n",
      "2019-01-11    18     -4\n",
      "2019-01-12    20      5\n"
     ]
    }
   ],
   "source": [
    "df = pd.read_csv('https://bit.ly/2tujUsc')\n",
    "print(df)\n",
    "\n",
    "df = pd.read_csv('https://bit.ly/2tujUsc', parse_dates=[[0,1,2]])\n",
    "print(df)\n",
    "\n",
    "df = pd.read_csv('https://bit.ly/2tujUsc', parse_dates={'pvm':[0,1,2]}, index_col='pvm') # oletuksena vuosi, kk, päivä\n",
    "print(df)\n",
    "\n"
   ]
  },
  {
   "cell_type": "markdown",
   "metadata": {},
   "source": [
    "Epätavallisten aikaformaattien tunnistamiseen tarvitaan oma `date_parser`-funktio"
   ]
  },
  {
   "cell_type": "code",
   "execution_count": 213,
   "metadata": {},
   "outputs": [
    {
     "name": "stdout",
     "output_type": "stream",
     "text": [
      "   tunti  min  sek  suunta  ajoneuvoluokka  nopeus\n",
      "0      0    1   56       1               1     105\n",
      "1      0    4   43       2               1      87\n",
      "2      0    5   55       1               1      70\n",
      "3      0    5   58       1               1      79\n",
      "4      0    6    9       2               1      86\n",
      "                 aika  suunta  ajoneuvoluokka  nopeus\n",
      "0 1900-01-01 00:01:56       1               1     105\n",
      "1 1900-01-01 00:04:43       2               1      87\n",
      "2 1900-01-01 00:05:55       1               1      70\n",
      "3 1900-01-01 00:05:58       1               1      79\n",
      "4 1900-01-01 00:06:09       2               1      86\n",
      "                     suunta  ajoneuvoluokka  nopeus aikamjono\n",
      "aika                                                         \n",
      "1900-01-01 00:01:56       1               1     105  00:01:56\n",
      "1900-01-01 00:04:43       2               1      87  00:04:43\n",
      "1900-01-01 00:05:55       1               1      70  00:05:55\n",
      "1900-01-01 00:05:58       1               1      79  00:05:58\n",
      "1900-01-01 00:06:09       2               1      86  00:06:09\n"
     ]
    }
   ],
   "source": [
    "df = pd.read_csv('https://bit.ly/2SfeX0f', sep=';')\n",
    "print(df.head())\n",
    "\n",
    "dateparse = lambda x: pd.datetime.strptime(x, '%H %M %S')\n",
    "\n",
    "df = pd.read_csv('https://bit.ly/2SfeX0f', sep=';', parse_dates={'aika': ['tunti', 'min', 'sek']}, date_parser=dateparse)\n",
    "print(df.head())\n",
    "\n",
    "# tässä tuli kaikki \"0-päivälle\", voidaan tehdä uusi merkkijonosarake jossa vain aika\n",
    "df['aikamjono'] = df['aika'].dt.strftime(\"%H:%M:%S\")\n",
    "df.set_index('aika', inplace=True)\n",
    "print(df.head())"
   ]
  },
  {
   "cell_type": "markdown",
   "metadata": {},
   "source": [
    "Toki ajat voi parsia lukemisen jälkeen `pd.to_datetime`-metodilla:"
   ]
  },
  {
   "cell_type": "code",
   "execution_count": 214,
   "metadata": {},
   "outputs": [
    {
     "name": "stdout",
     "output_type": "stream",
     "text": [
      "      vv  kk  pp  arvo  arvo2\n",
      "0   2019   1   1    18     -2\n",
      "1   2019   1   2    15     -1\n",
      "2   2019   1   3    17     -4\n",
      "3   2019   1   4    18      2\n",
      "4   2019   1   5    14      3\n",
      "5   2019   1   6    18      2\n",
      "6   2019   1   7    18      3\n",
      "7   2019   1   8    20      4\n",
      "8   2019   1   9    16      5\n",
      "9   2019   1  10    15     -4\n",
      "10  2019   1  11    18     -4\n",
      "11  2019   1  12    20      5\n",
      "      vv  kk  pp  arvo  arvo2        pvm       pvm2\n",
      "0   2019   1   1    18     -2 2019-01-01 2019-01-01\n",
      "1   2019   1   2    15     -1 2019-01-02 2019-01-02\n",
      "2   2019   1   3    17     -4 2019-01-03 2019-01-03\n",
      "3   2019   1   4    18      2 2019-01-04 2019-01-04\n",
      "4   2019   1   5    14      3 2019-01-05 2019-01-05\n",
      "5   2019   1   6    18      2 2019-01-06 2019-01-06\n",
      "6   2019   1   7    18      3 2019-01-07 2019-01-07\n",
      "7   2019   1   8    20      4 2019-01-08 2019-01-08\n",
      "8   2019   1   9    16      5 2019-01-09 2019-01-09\n",
      "9   2019   1  10    15     -4 2019-01-10 2019-01-10\n",
      "10  2019   1  11    18     -4 2019-01-11 2019-01-11\n",
      "11  2019   1  12    20      5 2019-01-12 2019-01-12\n",
      "              vv  kk  pp  arvo  arvo2       pvm2\n",
      "pvm                                             \n",
      "2019-01-01  2019   1   1    18     -2 2019-01-01\n",
      "2019-01-02  2019   1   2    15     -1 2019-01-02\n",
      "2019-01-03  2019   1   3    17     -4 2019-01-03\n",
      "2019-01-04  2019   1   4    18      2 2019-01-04\n",
      "2019-01-05  2019   1   5    14      3 2019-01-05\n",
      "2019-01-06  2019   1   6    18      2 2019-01-06\n",
      "2019-01-07  2019   1   7    18      3 2019-01-07\n",
      "2019-01-08  2019   1   8    20      4 2019-01-08\n",
      "2019-01-09  2019   1   9    16      5 2019-01-09\n",
      "2019-01-10  2019   1  10    15     -4 2019-01-10\n",
      "2019-01-11  2019   1  11    18     -4 2019-01-11\n",
      "2019-01-12  2019   1  12    20      5 2019-01-12\n"
     ]
    }
   ],
   "source": [
    "df = pd.read_csv('https://bit.ly/2tujUsc')\n",
    "print(df)\n",
    "\n",
    "df['pvm'] = pd.to_datetime({'year':df['vv'],'month':df['kk'],'day':df['pp']})  # dict ajan osista\n",
    "\n",
    "df['pvm2'] = pd.to_datetime(df['vv'].astype(str)+'-'+df['kk'].astype(str)+'-'+df['pp'].astype(str)) # aika merkkijonona 2019-01-01\n",
    "print(df)\n",
    "\n",
    "df.set_index('pvm', inplace=True)\n",
    "print(df)"
   ]
  },
  {
   "cell_type": "markdown",
   "metadata": {},
   "source": [
    "timestamp-tyyppisten tietojen suodatuksessa voidaan käyttää normaaleja vertailuoperaattoreita vaikka vertailukohteena annettaisiin merkkojono, kunhan se on tunnistettavissa aikaleimaksi."
   ]
  },
  {
   "cell_type": "code",
   "execution_count": 215,
   "metadata": {},
   "outputs": [
    {
     "name": "stdout",
     "output_type": "stream",
     "text": [
      "              vv  kk  pp  arvo  arvo2       pvm2\n",
      "pvm                                             \n",
      "2019-01-01  2019   1   1    18     -2 2019-01-01\n",
      "2019-01-02  2019   1   2    15     -1 2019-01-02\n",
      "2019-01-03  2019   1   3    17     -4 2019-01-03\n",
      "2019-01-04  2019   1   4    18      2 2019-01-04\n"
     ]
    }
   ],
   "source": [
    "print(df[df['pvm2']<'20190105'])"
   ]
  },
  {
   "cell_type": "markdown",
   "metadata": {},
   "source": [
    "Seriesksen `dt`-operaattorilla päästään käsiksi aikaleiman osiin, esim tässä suodatettu parilliset päivät."
   ]
  },
  {
   "cell_type": "code",
   "execution_count": 216,
   "metadata": {},
   "outputs": [
    {
     "name": "stdout",
     "output_type": "stream",
     "text": [
      "              vv  kk  pp  arvo  arvo2       pvm2\n",
      "pvm                                             \n",
      "2019-01-02  2019   1   2    15     -1 2019-01-02\n",
      "2019-01-04  2019   1   4    18      2 2019-01-04\n",
      "2019-01-06  2019   1   6    18      2 2019-01-06\n",
      "2019-01-08  2019   1   8    20      4 2019-01-08\n",
      "2019-01-10  2019   1  10    15     -4 2019-01-10\n",
      "2019-01-12  2019   1  12    20      5 2019-01-12\n"
     ]
    }
   ],
   "source": [
    "print(df[df['pvm2'].dt.day % 2 == 0])"
   ]
  },
  {
   "cell_type": "markdown",
   "metadata": {},
   "source": [
    "<a id=\"7\"></a>\n",
    "### Date ranges\n",
    "Pandasin `pd.date_range`-metodilla voidaan luoda helposti halutulla välillä toistuvia aikaleimoja. Oletuksena aikaleimat tulevat päivän välein."
   ]
  },
  {
   "cell_type": "code",
   "execution_count": 217,
   "metadata": {},
   "outputs": [
    {
     "name": "stdout",
     "output_type": "stream",
     "text": [
      "DatetimeIndex(['2019-01-01', '2019-01-02', '2019-01-03', '2019-01-04',\n",
      "               '2019-01-05', '2019-01-06', '2019-01-07', '2019-01-08',\n",
      "               '2019-01-09', '2019-01-10', '2019-01-11', '2019-01-12',\n",
      "               '2019-01-13', '2019-01-14', '2019-01-15', '2019-01-16',\n",
      "               '2019-01-17', '2019-01-18', '2019-01-19', '2019-01-20',\n",
      "               '2019-01-21', '2019-01-22', '2019-01-23', '2019-01-24',\n",
      "               '2019-01-25', '2019-01-26', '2019-01-27', '2019-01-28',\n",
      "               '2019-01-29', '2019-01-30', '2019-01-31', '2019-02-01',\n",
      "               '2019-02-02', '2019-02-03', '2019-02-04', '2019-02-05',\n",
      "               '2019-02-06', '2019-02-07', '2019-02-08', '2019-02-09',\n",
      "               '2019-02-10', '2019-02-11', '2019-02-12', '2019-02-13',\n",
      "               '2019-02-14', '2019-02-15', '2019-02-16', '2019-02-17',\n",
      "               '2019-02-18', '2019-02-19', '2019-02-20'],\n",
      "              dtype='datetime64[ns]', freq='D')\n",
      "DatetimeIndex(['2019-01-01 12:23:00', '2019-01-02 12:23:00',\n",
      "               '2019-01-03 12:23:00', '2019-01-04 12:23:00',\n",
      "               '2019-01-05 12:23:00', '2019-01-06 12:23:00',\n",
      "               '2019-01-07 12:23:00', '2019-01-08 12:23:00',\n",
      "               '2019-01-09 12:23:00', '2019-01-10 12:23:00',\n",
      "               '2019-01-11 12:23:00', '2019-01-12 12:23:00',\n",
      "               '2019-01-13 12:23:00', '2019-01-14 12:23:00',\n",
      "               '2019-01-15 12:23:00', '2019-01-16 12:23:00',\n",
      "               '2019-01-17 12:23:00', '2019-01-18 12:23:00',\n",
      "               '2019-01-19 12:23:00'],\n",
      "              dtype='datetime64[ns]', freq='D')\n",
      "DatetimeIndex(['2019-01-13', '2019-01-14', '2019-01-15', '2019-01-16',\n",
      "               '2019-01-17'],\n",
      "              dtype='datetime64[ns]', freq='D')\n",
      "DatetimeIndex(['2019-01-09', '2019-01-10', '2019-01-11', '2019-01-12',\n",
      "               '2019-01-13'],\n",
      "              dtype='datetime64[ns]', freq='D')\n"
     ]
    }
   ],
   "source": [
    "paivat = pd.date_range('2019-01-01', '2019-02-20')\n",
    "print(paivat)\n",
    "\n",
    "paivat2 = pd.date_range('2019-01-01 12:23', '2019-01-20')\n",
    "print(paivat2)\n",
    "\n",
    "paivat3 = pd.date_range(start='13 Jan 2019', periods=5)\n",
    "print(paivat3)\n",
    "\n",
    "paivat3 = pd.date_range(end='13 Jan 2019', periods=5)\n",
    "print(paivat3)"
   ]
  },
  {
   "cell_type": "markdown",
   "metadata": {},
   "source": [
    "`freq`-parametrilla voidaan määrittää aikaleimojen väli:"
   ]
  },
  {
   "cell_type": "code",
   "execution_count": 218,
   "metadata": {},
   "outputs": [
    {
     "name": "stdout",
     "output_type": "stream",
     "text": [
      "DatetimeIndex(['2019-01-01 12:23:00', '2019-01-01 22:35:00',\n",
      "               '2019-01-02 08:47:00', '2019-01-02 18:59:00',\n",
      "               '2019-01-03 05:11:00', '2019-01-03 15:23:00',\n",
      "               '2019-01-04 01:35:00', '2019-01-04 11:47:00',\n",
      "               '2019-01-04 21:59:00', '2019-01-05 08:11:00',\n",
      "               '2019-01-05 18:23:00', '2019-01-06 04:35:00',\n",
      "               '2019-01-06 14:47:00'],\n",
      "              dtype='datetime64[ns]', freq='612T')\n",
      "DatetimeIndex(['2019-01-02', '2019-01-09', '2019-01-16', '2019-01-23',\n",
      "               '2019-01-30', '2019-02-06', '2019-02-13', '2019-02-20',\n",
      "               '2019-02-27', '2019-03-06', '2019-03-13', '2019-03-20',\n",
      "               '2019-03-27', '2019-04-03', '2019-04-10', '2019-04-17',\n",
      "               '2019-04-24', '2019-05-01', '2019-05-08', '2019-05-15',\n",
      "               '2019-05-22', '2019-05-29', '2019-06-05', '2019-06-12',\n",
      "               '2019-06-19', '2019-06-26'],\n",
      "              dtype='datetime64[ns]', freq='W-WED')\n",
      "DatetimeIndex(['2010-02-28', '2010-05-31', '2010-08-31', '2010-11-30',\n",
      "               '2011-02-28', '2011-05-31', '2011-08-31', '2011-11-30',\n",
      "               '2012-02-29', '2012-05-31', '2012-08-31', '2012-11-30',\n",
      "               '2013-02-28', '2013-05-31', '2013-08-31', '2013-11-30',\n",
      "               '2014-02-28', '2014-05-31', '2014-08-31', '2014-11-30',\n",
      "               '2015-02-28', '2015-05-31', '2015-08-31', '2015-11-30',\n",
      "               '2016-02-29', '2016-05-31', '2016-08-31', '2016-11-30',\n",
      "               '2017-02-28', '2017-05-31', '2017-08-31', '2017-11-30',\n",
      "               '2018-02-28', '2018-05-31', '2018-08-31', '2018-11-30',\n",
      "               '2019-02-28', '2019-05-31'],\n",
      "              dtype='datetime64[ns]', freq='Q-FEB')\n"
     ]
    }
   ],
   "source": [
    "paivat4 = pd.date_range('2019-01-01 12:23', '2019-01-07', freq=\"10h12min\")\n",
    "print(paivat4)\n",
    "\n",
    "paivat5 = pd.date_range('2019-01-01', '2019-06-30', freq=\"W-WED\")  #viikon välein keskiviikot\n",
    "print(paivat5)\n",
    "\n",
    "paivat6 = pd.date_range('2010-01-01', '2019-06-30', freq=\"Q-FEB\")\n",
    "print(paivat6)"
   ]
  },
  {
   "cell_type": "markdown",
   "metadata": {},
   "source": [
    "Mahdollisia `freq`-arvoja:\n",
    "* **D**   Calendar daily\n",
    "* **B**   Business daily\n",
    "* **H**   Hourly\n",
    "* **T or min**   Minutely\n",
    "* **S**   Secondly\n",
    "* **L or ms**   Millisecond (1/1,000 of 1 second)\n",
    "* **U**   Microsecond (1/1,000,000 of 1 second)\n",
    "* **M**   Last calendar day of month\n",
    "* **BM**   Last business day (weekday) of month\n",
    "* **MS**   First calendar day of month\n",
    "* **BMS**   First weekday of month\n",
    "* **W-MON, W-TUE, ...**   Weekly on given day of week (MON, TUE, WED, THU, FRI, SAT, or SUN)\n",
    "* **WOM-1MON, WOM-2MON, ...**   Generate weekly dates in the first, second, third, or fourth week of the month (e.g., WOM-3FRI for the third Friday of each month)\n",
    "* **Q-JAN, Q-FEB, ...**   Quarterly dates anchored on last calendar day of each month, for year ending in indicated month (JAN, FEB, MAR, APR, MAY, JUN, JUL, AUG, SEP, OCT, NOV, or DEC)\n",
    "* **BQ-JAN, BQ-FEB, ...**   Quarterly dates anchored on last weekday day of each month, for year ending in indicated month\n",
    "* **QS-JAN, QS-FEB, ...**   Quarterly dates anchored on first calendar day of each month, for year ending in indicated month\n",
    "* **BQS-JAN, BQS-FEB, ...**   Quarterly dates anchored on first weekday day of each month, for year ending in indicated month\n",
    "* **A-JAN, A-FEB, ...**   Annual dates anchored on last calendar day of given month (JAN, FEB, MAR, APR, MAY, JUN, JUL, AUG, SEP, OCT, NOV, or DEC)\n",
    "* **BA-JAN, BA-FEB, ...**   Annual dates anchored on last weekday of given month\n",
    "* **AS-JAN, AS-FEB, ...**   Annual dates anchored on first day of given month\n",
    "* **BAS-JAN, BAS-FEB, ...**   Annual dates anchored on first weekday of given month\n"
   ]
  },
  {
   "cell_type": "markdown",
   "metadata": {},
   "source": [
    "<a id=\"8\"></a>\n",
    "## Ajanjaksot (Periods)\n",
    "\n",
    "Timestamp esittää yksittäistä ajanhetkeä, kun taas Period kuvaa tiettyä ajanjaksoa, esim. vuosi, kuukausi tai päivä.\n",
    "\n",
    "`freq`-parametrilla määritetään ajanjakson pituus.\n"
   ]
  },
  {
   "cell_type": "code",
   "execution_count": 219,
   "metadata": {},
   "outputs": [
    {
     "name": "stdout",
     "output_type": "stream",
     "text": [
      "2019\n",
      "2019-01\n",
      "2019-05\n"
     ]
    }
   ],
   "source": [
    "p = pd.Period(2019, freq='A')\n",
    "print(p)\n",
    "\n",
    "p2 = pd.Period('2019-1', freq='M')\n",
    "print(p2)\n",
    "\n",
    "p3  = p2 +4 # eteenpäin neljä ajanjaksoa\n",
    "print(p3)\n"
   ]
  },
  {
   "cell_type": "markdown",
   "metadata": {},
   "source": [
    "`period_range`-funktiolla voidaan tehdä sarja peräkkäisiä ajanjaksoja:"
   ]
  },
  {
   "cell_type": "code",
   "execution_count": 220,
   "metadata": {},
   "outputs": [
    {
     "name": "stdout",
     "output_type": "stream",
     "text": [
      "PeriodIndex(['2015Q1', '2015Q2', '2015Q3', '2015Q4', '2016Q1', '2016Q2',\n",
      "             '2016Q3', '2016Q4', '2017Q1'],\n",
      "            dtype='period[Q-DEC]', freq='Q-DEC')\n"
     ]
    }
   ],
   "source": [
    "kkt  = pd.period_range(2015, 2017, freq='Q')\n",
    "print(kkt)"
   ]
  },
  {
   "cell_type": "markdown",
   "metadata": {},
   "source": [
    "<a id=\"9\"></a>\n",
    "## Uudelleennäytteistäminen (resampling)\n",
    "Aikaleimojen (tai ajanjaksojen) uudelleennäytteistäminen tulee vastaan jos halutaan laskea ajanväleittäin (esim. kuukausi, tunti, 10 minuuttia) datasta koonteja, esim lukumäärä, summa, keskiarvo jne.\n",
    "\n",
    "Tähän takoitukseen pandasin `resample`-metodi toimii vastaavasti kuin ryhmittelyssä käytetty `groupby`. resample käyttää samoja koodeja kuin frequencyt.\n",
    "\n",
    "Luetaan liikennelasketatietoja:"
   ]
  },
  {
   "cell_type": "code",
   "execution_count": 221,
   "metadata": {},
   "outputs": [
    {
     "name": "stdout",
     "output_type": "stream",
     "text": [
      "   tunti  min  sek  suunta  ajoneuvoluokka  nopeus\n",
      "0      0    1   56       1               1     105\n",
      "1      0    4   43       2               1      87\n",
      "2      0    5   55       1               1      70\n",
      "3      0    5   58       1               1      79\n",
      "4      0    6    9       2               1      86\n",
      "                     tunti  min  sek  suunta  ajoneuvoluokka  nopeus\n",
      "aika                                                                \n",
      "1900-01-01 00:01:56      0    1   56       1               1     105\n",
      "1900-01-01 00:04:43      0    4   43       2               1      87\n",
      "1900-01-01 00:05:55      0    5   55       1               1      70\n",
      "1900-01-01 00:05:58      0    5   58       1               1      79\n",
      "1900-01-01 00:06:09      0    6    9       2               1      86\n"
     ]
    }
   ],
   "source": [
    "df = pd.read_csv('https://student.labranet.jamk.fi/~varpe/datananalk2019/kerta5/lam.csv', sep=';')\n",
    "print(df.head())\n",
    "\n",
    "# tehdään aikasarake, voitaisiin tehdä jo read_cav:ssä käyttämällä omaa date_parseria\n",
    "\n",
    "df['aika'] = pd.to_datetime(df['tunti'].astype(str)+':'+df['min'].astype(str)+':'+df['sek'].astype(str), format='%H:%M:%S')\n",
    "df.set_index('aika', inplace=True)\n",
    "print(df.head())\n"
   ]
  },
  {
   "cell_type": "markdown",
   "metadata": {},
   "source": [
    "Nyt voidaan laskea koonteja `resample`-metodilla:"
   ]
  },
  {
   "cell_type": "code",
   "execution_count": 222,
   "metadata": {},
   "outputs": [
    {
     "data": {
      "text/plain": [
       "aika\n",
       "1900-01-01 00:00:00    13\n",
       "1900-01-01 00:10:00    10\n",
       "1900-01-01 00:20:00    14\n",
       "1900-01-01 00:30:00    15\n",
       "1900-01-01 00:40:00    11\n",
       "Freq: 10T, dtype: int64"
      ]
     },
     "execution_count": 222,
     "metadata": {},
     "output_type": "execute_result"
    }
   ],
   "source": [
    "df.resample('10min').size().head()"
   ]
  },
  {
   "cell_type": "code",
   "execution_count": 223,
   "metadata": {},
   "outputs": [
    {
     "data": {
      "text/plain": [
       "aika\n",
       "1900-01-01 00:00:00     85.323944\n",
       "1900-01-01 01:00:00     82.630000\n",
       "1900-01-01 02:00:00     80.609756\n",
       "1900-01-01 03:00:00     80.271429\n",
       "1900-01-01 04:00:00     75.854545\n",
       "1900-01-01 05:00:00     81.129412\n",
       "1900-01-01 06:00:00     91.068966\n",
       "1900-01-01 07:00:00     90.155340\n",
       "1900-01-01 08:00:00     97.019802\n",
       "1900-01-01 09:00:00    100.732824\n",
       "1900-01-01 10:00:00     96.431624\n",
       "1900-01-01 11:00:00     98.617257\n",
       "1900-01-01 12:00:00    103.338409\n",
       "1900-01-01 13:00:00     99.474435\n",
       "1900-01-01 14:00:00    101.986895\n",
       "1900-01-01 15:00:00    103.604860\n",
       "1900-01-01 16:00:00    103.008893\n",
       "1900-01-01 17:00:00    104.010256\n",
       "1900-01-01 18:00:00    103.968750\n",
       "1900-01-01 19:00:00    104.952846\n",
       "1900-01-01 20:00:00    104.844828\n",
       "1900-01-01 21:00:00    105.620209\n",
       "1900-01-01 22:00:00    101.542714\n",
       "1900-01-01 23:00:00    101.960630\n",
       "Freq: H, Name: nopeus, dtype: float64"
      ]
     },
     "execution_count": 223,
     "metadata": {},
     "output_type": "execute_result"
    }
   ],
   "source": [
    "df.resample('H')['nopeus'].mean()"
   ]
  },
  {
   "cell_type": "code",
   "execution_count": 224,
   "metadata": {},
   "outputs": [
    {
     "data": {
      "text/html": [
       "<div>\n",
       "<style>\n",
       "    .dataframe thead tr:only-child th {\n",
       "        text-align: right;\n",
       "    }\n",
       "\n",
       "    .dataframe thead th {\n",
       "        text-align: left;\n",
       "    }\n",
       "\n",
       "    .dataframe tbody tr th {\n",
       "        vertical-align: top;\n",
       "    }\n",
       "</style>\n",
       "<table border=\"1\" class=\"dataframe\">\n",
       "  <thead>\n",
       "    <tr style=\"text-align: right;\">\n",
       "      <th></th>\n",
       "      <th>tunti</th>\n",
       "      <th>min</th>\n",
       "      <th>sek</th>\n",
       "      <th>suunta</th>\n",
       "      <th>ajoneuvoluokka</th>\n",
       "      <th>nopeus</th>\n",
       "    </tr>\n",
       "    <tr>\n",
       "      <th>aika</th>\n",
       "      <th></th>\n",
       "      <th></th>\n",
       "      <th></th>\n",
       "      <th></th>\n",
       "      <th></th>\n",
       "      <th></th>\n",
       "    </tr>\n",
       "  </thead>\n",
       "  <tbody>\n",
       "    <tr>\n",
       "      <th>1900-01-01 00:00:00</th>\n",
       "      <td>0</td>\n",
       "      <td>58</td>\n",
       "      <td>59</td>\n",
       "      <td>2</td>\n",
       "      <td>5</td>\n",
       "      <td>115</td>\n",
       "    </tr>\n",
       "    <tr>\n",
       "      <th>1900-01-01 01:00:00</th>\n",
       "      <td>1</td>\n",
       "      <td>58</td>\n",
       "      <td>59</td>\n",
       "      <td>2</td>\n",
       "      <td>5</td>\n",
       "      <td>119</td>\n",
       "    </tr>\n",
       "    <tr>\n",
       "      <th>1900-01-01 02:00:00</th>\n",
       "      <td>2</td>\n",
       "      <td>59</td>\n",
       "      <td>59</td>\n",
       "      <td>2</td>\n",
       "      <td>5</td>\n",
       "      <td>125</td>\n",
       "    </tr>\n",
       "    <tr>\n",
       "      <th>1900-01-01 03:00:00</th>\n",
       "      <td>3</td>\n",
       "      <td>59</td>\n",
       "      <td>59</td>\n",
       "      <td>2</td>\n",
       "      <td>5</td>\n",
       "      <td>111</td>\n",
       "    </tr>\n",
       "    <tr>\n",
       "      <th>1900-01-01 04:00:00</th>\n",
       "      <td>4</td>\n",
       "      <td>58</td>\n",
       "      <td>58</td>\n",
       "      <td>2</td>\n",
       "      <td>5</td>\n",
       "      <td>99</td>\n",
       "    </tr>\n",
       "    <tr>\n",
       "      <th>1900-01-01 05:00:00</th>\n",
       "      <td>5</td>\n",
       "      <td>59</td>\n",
       "      <td>59</td>\n",
       "      <td>2</td>\n",
       "      <td>7</td>\n",
       "      <td>110</td>\n",
       "    </tr>\n",
       "    <tr>\n",
       "      <th>1900-01-01 06:00:00</th>\n",
       "      <td>6</td>\n",
       "      <td>59</td>\n",
       "      <td>59</td>\n",
       "      <td>2</td>\n",
       "      <td>5</td>\n",
       "      <td>140</td>\n",
       "    </tr>\n",
       "    <tr>\n",
       "      <th>1900-01-01 07:00:00</th>\n",
       "      <td>7</td>\n",
       "      <td>57</td>\n",
       "      <td>59</td>\n",
       "      <td>2</td>\n",
       "      <td>7</td>\n",
       "      <td>119</td>\n",
       "    </tr>\n",
       "    <tr>\n",
       "      <th>1900-01-01 08:00:00</th>\n",
       "      <td>8</td>\n",
       "      <td>57</td>\n",
       "      <td>59</td>\n",
       "      <td>2</td>\n",
       "      <td>6</td>\n",
       "      <td>133</td>\n",
       "    </tr>\n",
       "    <tr>\n",
       "      <th>1900-01-01 09:00:00</th>\n",
       "      <td>9</td>\n",
       "      <td>59</td>\n",
       "      <td>59</td>\n",
       "      <td>2</td>\n",
       "      <td>5</td>\n",
       "      <td>132</td>\n",
       "    </tr>\n",
       "    <tr>\n",
       "      <th>1900-01-01 10:00:00</th>\n",
       "      <td>10</td>\n",
       "      <td>59</td>\n",
       "      <td>59</td>\n",
       "      <td>2</td>\n",
       "      <td>6</td>\n",
       "      <td>134</td>\n",
       "    </tr>\n",
       "    <tr>\n",
       "      <th>1900-01-01 11:00:00</th>\n",
       "      <td>11</td>\n",
       "      <td>59</td>\n",
       "      <td>59</td>\n",
       "      <td>2</td>\n",
       "      <td>7</td>\n",
       "      <td>131</td>\n",
       "    </tr>\n",
       "    <tr>\n",
       "      <th>1900-01-01 12:00:00</th>\n",
       "      <td>12</td>\n",
       "      <td>59</td>\n",
       "      <td>59</td>\n",
       "      <td>2</td>\n",
       "      <td>6</td>\n",
       "      <td>179</td>\n",
       "    </tr>\n",
       "    <tr>\n",
       "      <th>1900-01-01 13:00:00</th>\n",
       "      <td>13</td>\n",
       "      <td>59</td>\n",
       "      <td>59</td>\n",
       "      <td>2</td>\n",
       "      <td>6</td>\n",
       "      <td>138</td>\n",
       "    </tr>\n",
       "    <tr>\n",
       "      <th>1900-01-01 14:00:00</th>\n",
       "      <td>14</td>\n",
       "      <td>59</td>\n",
       "      <td>59</td>\n",
       "      <td>2</td>\n",
       "      <td>6</td>\n",
       "      <td>141</td>\n",
       "    </tr>\n",
       "    <tr>\n",
       "      <th>1900-01-01 15:00:00</th>\n",
       "      <td>15</td>\n",
       "      <td>59</td>\n",
       "      <td>59</td>\n",
       "      <td>2</td>\n",
       "      <td>6</td>\n",
       "      <td>137</td>\n",
       "    </tr>\n",
       "    <tr>\n",
       "      <th>1900-01-01 16:00:00</th>\n",
       "      <td>16</td>\n",
       "      <td>59</td>\n",
       "      <td>59</td>\n",
       "      <td>2</td>\n",
       "      <td>6</td>\n",
       "      <td>131</td>\n",
       "    </tr>\n",
       "    <tr>\n",
       "      <th>1900-01-01 17:00:00</th>\n",
       "      <td>17</td>\n",
       "      <td>59</td>\n",
       "      <td>59</td>\n",
       "      <td>2</td>\n",
       "      <td>7</td>\n",
       "      <td>152</td>\n",
       "    </tr>\n",
       "    <tr>\n",
       "      <th>1900-01-01 18:00:00</th>\n",
       "      <td>18</td>\n",
       "      <td>59</td>\n",
       "      <td>59</td>\n",
       "      <td>2</td>\n",
       "      <td>7</td>\n",
       "      <td>135</td>\n",
       "    </tr>\n",
       "    <tr>\n",
       "      <th>1900-01-01 19:00:00</th>\n",
       "      <td>19</td>\n",
       "      <td>59</td>\n",
       "      <td>59</td>\n",
       "      <td>2</td>\n",
       "      <td>7</td>\n",
       "      <td>147</td>\n",
       "    </tr>\n",
       "    <tr>\n",
       "      <th>1900-01-01 20:00:00</th>\n",
       "      <td>20</td>\n",
       "      <td>59</td>\n",
       "      <td>59</td>\n",
       "      <td>2</td>\n",
       "      <td>6</td>\n",
       "      <td>136</td>\n",
       "    </tr>\n",
       "    <tr>\n",
       "      <th>1900-01-01 21:00:00</th>\n",
       "      <td>21</td>\n",
       "      <td>59</td>\n",
       "      <td>59</td>\n",
       "      <td>2</td>\n",
       "      <td>6</td>\n",
       "      <td>155</td>\n",
       "    </tr>\n",
       "    <tr>\n",
       "      <th>1900-01-01 22:00:00</th>\n",
       "      <td>22</td>\n",
       "      <td>59</td>\n",
       "      <td>59</td>\n",
       "      <td>2</td>\n",
       "      <td>6</td>\n",
       "      <td>142</td>\n",
       "    </tr>\n",
       "    <tr>\n",
       "      <th>1900-01-01 23:00:00</th>\n",
       "      <td>23</td>\n",
       "      <td>59</td>\n",
       "      <td>59</td>\n",
       "      <td>2</td>\n",
       "      <td>5</td>\n",
       "      <td>131</td>\n",
       "    </tr>\n",
       "  </tbody>\n",
       "</table>\n",
       "</div>"
      ],
      "text/plain": [
       "                     tunti  min  sek  suunta  ajoneuvoluokka  nopeus\n",
       "aika                                                                \n",
       "1900-01-01 00:00:00      0   58   59       2               5     115\n",
       "1900-01-01 01:00:00      1   58   59       2               5     119\n",
       "1900-01-01 02:00:00      2   59   59       2               5     125\n",
       "1900-01-01 03:00:00      3   59   59       2               5     111\n",
       "1900-01-01 04:00:00      4   58   58       2               5      99\n",
       "1900-01-01 05:00:00      5   59   59       2               7     110\n",
       "1900-01-01 06:00:00      6   59   59       2               5     140\n",
       "1900-01-01 07:00:00      7   57   59       2               7     119\n",
       "1900-01-01 08:00:00      8   57   59       2               6     133\n",
       "1900-01-01 09:00:00      9   59   59       2               5     132\n",
       "1900-01-01 10:00:00     10   59   59       2               6     134\n",
       "1900-01-01 11:00:00     11   59   59       2               7     131\n",
       "1900-01-01 12:00:00     12   59   59       2               6     179\n",
       "1900-01-01 13:00:00     13   59   59       2               6     138\n",
       "1900-01-01 14:00:00     14   59   59       2               6     141\n",
       "1900-01-01 15:00:00     15   59   59       2               6     137\n",
       "1900-01-01 16:00:00     16   59   59       2               6     131\n",
       "1900-01-01 17:00:00     17   59   59       2               7     152\n",
       "1900-01-01 18:00:00     18   59   59       2               7     135\n",
       "1900-01-01 19:00:00     19   59   59       2               7     147\n",
       "1900-01-01 20:00:00     20   59   59       2               6     136\n",
       "1900-01-01 21:00:00     21   59   59       2               6     155\n",
       "1900-01-01 22:00:00     22   59   59       2               6     142\n",
       "1900-01-01 23:00:00     23   59   59       2               5     131"
      ]
     },
     "execution_count": 224,
     "metadata": {},
     "output_type": "execute_result"
    }
   ],
   "source": [
    "df.resample('H').max()"
   ]
  },
  {
   "cell_type": "markdown",
   "metadata": {},
   "source": [
    "Aikaleimojen ei tarvitse olla välttämättä indeksissä, vaan käytettävän sarakkeen voi antaa `resample`-metodille `on`-parametrissa.\n",
    "\n",
    "Oletuksena synytneet aikavälit on nimetty alkamisajan mukaan, mutta tätä voi muuttaa antamalla parametri `label='right'`.Tosin tietyillä frekvensseillä (M,A,Q) otsikointi tulee oletuksena loppuajan mukaan mutta silloin voi laittaa `label='left'`.  `loffset`-parametrin pitäisi siirtää otsikon aikaleimaa, esim `loffset='-1d'`, mutta aina tämä ei tunnu toimivan.\n",
    "\n",
    "Aikavälit ovat oletuksena \"vasemmalta suljettuja\" eli 17:00:00 kuuluu aikaväliin 17-18 mutta 18:00:00 ei. Tätä voi vaihtaa parametrilla `closed=´'right'`. Tietyt frekvenssit (M,A,Q) ovat oletuksena oikealta suljettuja."
   ]
  },
  {
   "cell_type": "code",
   "execution_count": 225,
   "metadata": {},
   "outputs": [
    {
     "name": "stdout",
     "output_type": "stream",
     "text": [
      "         pvm    Klo Aikavyöhyke  Sademäärä (mm)  Lumensyvyys (cm)  \\\n",
      "0 2014-01-01  00:00         UTC             0.2              -1.0   \n",
      "1 2014-01-02  00:00         UTC             0.3              -1.0   \n",
      "2 2014-01-03  00:00         UTC             0.0              -1.0   \n",
      "3 2014-01-04  00:00         UTC             0.2              -1.0   \n",
      "4 2014-01-05  00:00         UTC             0.2              -1.0   \n",
      "\n",
      "   Ylin lämpötila (degC)  Alin lämpötila (degC)  \n",
      "0                    3.5                    1.9  \n",
      "1                    2.4                   -0.8  \n",
      "2                   -0.8                   -1.7  \n",
      "3                    0.3                   -1.6  \n",
      "4                    0.7                   -0.3  \n",
      "pvm\n",
      "2014-01-31      8.4\n",
      "2014-02-28     17.6\n",
      "2014-03-31      9.5\n",
      "2014-04-30     -0.6\n",
      "2014-05-31    102.2\n",
      "Freq: M, Name: Sademäärä (mm), dtype: float64\n",
      "pvm\n",
      "2013-12-31     15.4\n",
      "2014-01-31     24.6\n",
      "2014-02-28     27.5\n",
      "2014-03-31     21.4\n",
      "2014-04-30    114.2\n",
      "Freq: M, Name: Sademäärä (mm), dtype: float64\n"
     ]
    }
   ],
   "source": [
    "df = pd.read_csv('https://bit.ly/2GBMyjJ', parse_dates={'pvm':[0,1,2]})\n",
    "print(df.head())\n",
    "\n",
    "\n",
    "print(df.resample('M',on='pvm')['Sademäärä (mm)'].sum().head())  # negatiivisia lukuja koska sademäärä on usein -1.0 ??\n",
    "\n",
    "df['Sademäärä (mm)'].replace(-1.0, 0, inplace=True)\n",
    "\n",
    "print(df.resample('M', on='pvm', label='left')['Sademäärä (mm)'].sum().head())"
   ]
  },
  {
   "cell_type": "markdown",
   "metadata": {},
   "source": [
    "Viimeisessä tapauksessa tuli labeliksi edellisen kuukauden viimeinen päivä. Tässä päivän sijasta olisikin viisasta antaa labelina koko kuukausi, ja tämä onnistuu parametrilla `kind='period'`, jolloin tuloksen indeksi ei olekaan aikaleimoja vaan ajanjaksoja (Periods)."
   ]
  },
  {
   "cell_type": "code",
   "execution_count": 226,
   "metadata": {},
   "outputs": [
    {
     "name": "stdout",
     "output_type": "stream",
     "text": [
      "pvm\n",
      "2014-01     15.4\n",
      "2014-02     24.6\n",
      "2014-03     27.5\n",
      "2014-04     21.4\n",
      "2014-05    114.2\n",
      "2014-06     48.2\n",
      "2014-07     66.8\n",
      "2014-08     92.3\n",
      "2014-09     28.0\n",
      "2014-10     76.4\n",
      "2014-11     42.9\n",
      "2014-12     54.6\n",
      "2015-01     75.4\n",
      "2015-02     31.4\n",
      "2015-03     46.4\n",
      "2015-04     37.6\n",
      "2015-05     51.2\n",
      "2015-06     69.3\n",
      "2015-07    121.9\n",
      "2015-08     39.7\n",
      "2015-09     52.2\n",
      "2015-10     26.0\n",
      "2015-11     75.2\n",
      "2015-12     62.6\n",
      "2016-01     38.7\n",
      "2016-02     78.6\n",
      "2016-03     14.6\n",
      "2016-04     63.3\n",
      "2016-05     20.0\n",
      "2016-06     66.9\n",
      "           ...  \n",
      "2016-09     53.1\n",
      "2016-10     21.7\n",
      "2016-11     60.7\n",
      "2016-12     26.8\n",
      "2017-01     14.8\n",
      "2017-02     30.0\n",
      "2017-03     35.6\n",
      "2017-04     33.5\n",
      "2017-05     14.8\n",
      "2017-06     53.6\n",
      "2017-07     69.2\n",
      "2017-08     67.0\n",
      "2017-09     56.9\n",
      "2017-10     83.1\n",
      "2017-11     51.8\n",
      "2017-12     89.6\n",
      "2018-01     45.6\n",
      "2018-02     12.0\n",
      "2018-03     31.8\n",
      "2018-04     37.1\n",
      "2018-05     22.4\n",
      "2018-06     65.9\n",
      "2018-07     27.1\n",
      "2018-08     39.2\n",
      "2018-09     62.8\n",
      "2018-10     37.0\n",
      "2018-11     17.3\n",
      "2018-12     29.1\n",
      "2019-01     41.0\n",
      "2019-02     12.6\n",
      "Freq: M, Name: Sademäärä (mm), Length: 62, dtype: float64\n"
     ]
    }
   ],
   "source": [
    "print(df.resample('M',on='pvm', kind='period')['Sademäärä (mm)'].sum())"
   ]
  },
  {
   "cell_type": "markdown",
   "metadata": {},
   "source": [
    "Harvinaisempi tilanne uudelleennäytteistyksessä on tiheämpään aikaväliin skaalaus, tällöin puuttuville arvoille tulee NaN. `asfreq`-metodi tekee vain näytteistyksen ilman koontifunktioita."
   ]
  },
  {
   "cell_type": "code",
   "execution_count": 227,
   "metadata": {},
   "outputs": [
    {
     "name": "stdout",
     "output_type": "stream",
     "text": [
      "            Sademäärä (mm)  Lumensyvyys (cm)  Ylin lämpötila (degC)\n",
      "pvm                                                                \n",
      "2014-01-01             0.2              -1.0                    3.5\n",
      "2014-01-02             0.3              -1.0                    2.4\n",
      "2014-01-03             0.0              -1.0                   -0.8\n",
      "2014-01-04             0.2              -1.0                    0.3\n",
      "2014-01-05             0.2              -1.0                    0.7\n",
      "                     Sademäärä (mm)  Lumensyvyys (cm)  Ylin lämpötila (degC)\n",
      "pvm                                                                         \n",
      "2014-01-01 00:00:00             0.2              -1.0                    3.5\n",
      "2014-01-01 06:00:00             NaN               NaN                    NaN\n",
      "2014-01-01 12:00:00             NaN               NaN                    NaN\n",
      "2014-01-01 18:00:00             NaN               NaN                    NaN\n",
      "2014-01-02 00:00:00             0.3              -1.0                    2.4\n",
      "2014-01-02 06:00:00             NaN               NaN                    NaN\n",
      "2014-01-02 12:00:00             NaN               NaN                    NaN\n",
      "2014-01-02 18:00:00             NaN               NaN                    NaN\n",
      "2014-01-03 00:00:00             0.0              -1.0                   -0.8\n",
      "2014-01-03 06:00:00             NaN               NaN                    NaN\n",
      "2014-01-03 12:00:00             NaN               NaN                    NaN\n",
      "2014-01-03 18:00:00             NaN               NaN                    NaN\n",
      "2014-01-04 00:00:00             0.2              -1.0                    0.3\n",
      "2014-01-04 06:00:00             NaN               NaN                    NaN\n",
      "2014-01-04 12:00:00             NaN               NaN                    NaN\n",
      "2014-01-04 18:00:00             NaN               NaN                    NaN\n",
      "2014-01-05 00:00:00             0.2              -1.0                    0.7\n"
     ]
    }
   ],
   "source": [
    "df = pd.read_csv('https://bit.ly/2GBMyjJ', parse_dates={'pvm':[0,1,2]}, index_col='pvm', usecols=[0,1,2,5,6,7])\n",
    "print(df.head())\n",
    "\n",
    "\n",
    "\n",
    "print(df.head(5).resample('6H').asfreq())"
   ]
  },
  {
   "cell_type": "markdown",
   "metadata": {},
   "source": [
    "`ffill()` täyttää puuttuvat arvot edellisellä ja `bfill()` seuraavalla validilla arvolla."
   ]
  },
  {
   "cell_type": "code",
   "execution_count": 228,
   "metadata": {},
   "outputs": [
    {
     "name": "stdout",
     "output_type": "stream",
     "text": [
      "            Sademäärä (mm)  Lumensyvyys (cm)  Ylin lämpötila (degC)\n",
      "pvm                                                                \n",
      "2014-01-01             0.2              -1.0                    3.5\n",
      "2014-01-02             0.3              -1.0                    2.4\n",
      "2014-01-03             0.0              -1.0                   -0.8\n",
      "2014-01-04             0.2              -1.0                    0.3\n",
      "2014-01-05             0.2              -1.0                    0.7\n",
      "                     Sademäärä (mm)  Lumensyvyys (cm)  Ylin lämpötila (degC)\n",
      "pvm                                                                         \n",
      "2014-01-01 00:00:00             0.2              -1.0                    3.5\n",
      "2014-01-01 06:00:00             0.2              -1.0                    3.5\n",
      "2014-01-01 12:00:00             0.2              -1.0                    3.5\n",
      "2014-01-01 18:00:00             0.2              -1.0                    3.5\n",
      "2014-01-02 00:00:00             0.3              -1.0                    2.4\n",
      "2014-01-02 06:00:00             0.3              -1.0                    2.4\n",
      "2014-01-02 12:00:00             0.3              -1.0                    2.4\n",
      "2014-01-02 18:00:00             0.3              -1.0                    2.4\n",
      "2014-01-03 00:00:00             0.0              -1.0                   -0.8\n",
      "2014-01-03 06:00:00             0.0              -1.0                   -0.8\n",
      "2014-01-03 12:00:00             0.0              -1.0                   -0.8\n",
      "2014-01-03 18:00:00             0.0              -1.0                   -0.8\n",
      "2014-01-04 00:00:00             0.2              -1.0                    0.3\n",
      "2014-01-04 06:00:00             0.2              -1.0                    0.3\n",
      "2014-01-04 12:00:00             0.2              -1.0                    0.3\n",
      "2014-01-04 18:00:00             0.2              -1.0                    0.3\n",
      "2014-01-05 00:00:00             0.2              -1.0                    0.7\n"
     ]
    }
   ],
   "source": [
    "df = pd.read_csv('https://bit.ly/2GBMyjJ', parse_dates={'pvm':[0,1,2]}, index_col='pvm', usecols=[0,1,2,5,6,7])\n",
    "print(df.head())\n",
    "\n",
    "\n",
    "print(df.head(5).resample('6H').ffill())"
   ]
  },
  {
   "cell_type": "markdown",
   "metadata": {},
   "source": [
    "<a id=\"10\"></a>\n",
    "## Liukuvat keskiarvot\n",
    "\n",
    "<a id=\"11\"></a>\n",
    "### rolling\n",
    "Liukuvalla keskiarvolla voidaan tasoittaa \"kohinaa\" datasta. `rolling`-operaattori toimii `groupbyn` ja `resamplen` tavoin antaen parametrin mukaisen määrän edeltäviä arvoja."
   ]
  },
  {
   "cell_type": "code",
   "execution_count": 229,
   "metadata": {},
   "outputs": [
    {
     "name": "stdout",
     "output_type": "stream",
     "text": [
      "            Closing price  Total volume\n",
      "Date                                   \n",
      "2018-01-02          3.729       1717521\n",
      "2018-01-03          3.755       1823437\n",
      "2018-01-04          3.780       1540541\n",
      "2018-01-05          3.850       1306020\n",
      "2018-01-08          3.845       2151101\n"
     ]
    },
    {
     "data": {
      "image/png": "[encoded data removed]",
      "text/plain": [
       "<matplotlib.figure.Figure at 0x1d0ec8f9748>"
      ]
     },
     "metadata": {},
     "output_type": "display_data"
    }
   ],
   "source": [
    "import matplotlib.pyplot as plt\n",
    "\n",
    "\n",
    "\n",
    "df = pd.read_csv('https://bit.ly/2SQBAgR', sep=';', parse_dates=['Date'], usecols=[0,6,8], index_col='Date', decimal=',')\n",
    "df.sort_index(inplace=True)\n",
    "print(df.head()) \n",
    "\n",
    "df['Closing price'].plot()\n",
    "df['Closing price'].rolling(20).mean().plot(label='roll20')\n",
    "plt.legend()\n",
    "\n",
    "plt.show()"
   ]
  },
  {
   "cell_type": "markdown",
   "metadata": {},
   "source": [
    "Parametrilla `center=True` saadaan ikkuna keskitettyä kyseisen arvon kohdalle eli esim. parametrilla 10 tulee 5 arvoa ennen ja 5 arvoa jälkeen.\n",
    "\n",
    "Oletuksena `rolling` ei siedä puuttuvia arvoja, mutta parametrilla `min_periods` voidaan määrittää kuinka monta ei-puuttuvaa arvoa ikkunassa pitää olla. "
   ]
  },
  {
   "cell_type": "code",
   "execution_count": 230,
   "metadata": {},
   "outputs": [
    {
     "data": {
      "image/png": "[encoded data removed]",
      "text/plain": [
       "<matplotlib.figure.Figure at 0x1d0f0228f28>"
      ]
     },
     "metadata": {},
     "output_type": "display_data"
    }
   ],
   "source": [
    "df['Closing price'].plot()\n",
    "df['Closing price'].rolling(20).mean().plot(label='roll20')\n",
    "df['Closing price'].rolling(20, center=True).mean().plot(label='roll20c')\n",
    "plt.legend()\n",
    "\n",
    "plt.show()"
   ]
  },
  {
   "cell_type": "markdown",
   "metadata": {},
   "source": [
    "`rolling`-operaatiolle voidaan antaa myös aikaväli, mikä voi olla hyödyllistä, jos data on epäsäännöllisin väliajoin. Tosin tällöin `center=True` ei toimi."
   ]
  },
  {
   "cell_type": "code",
   "execution_count": 231,
   "metadata": {},
   "outputs": [
    {
     "data": {
      "image/png": "[encoded data removed]",
      "text/plain": [
       "<matplotlib.figure.Figure at 0x1d0f0273908>"
      ]
     },
     "metadata": {},
     "output_type": "display_data"
    }
   ],
   "source": [
    "df['Closing price'].plot()\n",
    "df['Closing price'].rolling('7d').mean().plot(label='rollWeek')\n",
    "plt.legend()\n",
    "\n",
    "plt.show()"
   ]
  },
  {
   "cell_type": "markdown",
   "metadata": {},
   "source": [
    "<a id=\"12\"></a>\n",
    "### expanding\n",
    "`expanding` antaa \"laajenevan\" ikkunan joka on datan alusta kyseiseen riviin asti (kumuloituva keskiarvo)"
   ]
  },
  {
   "cell_type": "code",
   "execution_count": 232,
   "metadata": {},
   "outputs": [
    {
     "data": {
      "image/png": "[encoded data removed]",
      "text/plain": [
       "<matplotlib.figure.Figure at 0x1d0f01c8278>"
      ]
     },
     "metadata": {},
     "output_type": "display_data"
    }
   ],
   "source": [
    "df['Total volume'].plot()\n",
    "df['Total volume'].expanding().mean().plot(label='average')\n",
    "plt.legend()\n",
    "\n",
    "plt.show()\n",
    "\n"
   ]
  },
  {
   "cell_type": "markdown",
   "metadata": {},
   "source": [
    "<a id=\"13\"></a>\n",
    "### ewm\n",
    "Liukuvan keskiarvon sijaan käytetään usein menetelmiä missä annetaan enemmän painoa tuoreimmille havainnoille. Tällainen sarja adaptoituu nopeammin muutoksiin kuin`rolling`-operaattorin antama tasaisesti painotettu sarja.\n",
    "\n",
    "`ewm` (exponentially weighted moving) -operaattori antaa tällaisen, `span`-parametri määrittää ikkunan koon.\n"
   ]
  },
  {
   "cell_type": "code",
   "execution_count": 233,
   "metadata": {},
   "outputs": [
    {
     "data": {
      "image/png": "[encoded data removed]",
      "text/plain": [
       "<matplotlib.figure.Figure at 0x1d0f05592e8>"
      ]
     },
     "metadata": {},
     "output_type": "display_data"
    }
   ],
   "source": [
    "df['Total volume'].plot.area(alpha=0.2)\n",
    "df['Total volume'].rolling(20).mean().plot(label='average')\n",
    "df['Total volume'].ewm(span=20).mean().plot(label='ew')\n",
    "plt.legend()\n",
    "\n",
    "plt.show()\n",
    "\n",
    "\n",
    "\n"
   ]
  }
 ],
 "metadata": {
  "kernelspec": {
   "display_name": "Python 3",
   "language": "python",
   "name": "python3"
  },
  "language_info": {
   "codemirror_mode": {
    "name": "ipython",
    "version": 3
   },
   "file_extension": ".py",
   "mimetype": "text/x-python",
   "name": "python",
   "nbconvert_exporter": "python",
   "pygments_lexer": "ipython3",
   "version": "3.9.0"
  }
 },
 "nbformat": 4,
 "nbformat_minor": 2
}
