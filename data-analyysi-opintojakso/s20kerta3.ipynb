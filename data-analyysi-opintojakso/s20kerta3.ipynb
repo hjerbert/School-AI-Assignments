{
 "cells": [
  {
   "cell_type": "markdown",
   "metadata": {},
   "source": [
    "# Datan analysointi S2020 - kerta 3\n",
    "<a href=\"#12\">Datan kuvailu</a>  \n",
    "<a href=\"#13\">count</a>  \n",
    "<a href=\"#14\">sum</a>  \n",
    "<a href=\"#15\">min,max</a>  \n",
    "<a href=\"#16\">argmin, argmax, idxmin, idxmax</a>  \n",
    "<a href=\"#17\">mean, median, std</a>  \n",
    "<a href=\"#18\">rank</a>  \n",
    "<a href=\"#19\">describe</a>  \n",
    "<a href=\"#20\">value_counts</a>  \n",
    "<a href=\"#21\">unique, nunique</a>  \n",
    "<a href=\"#22\">**Ryhmittely, groupby**</a>  \n",
    "<a href=\"#26\">Muita DataFramen/Serieksen metodeja</a>  \n",
    "<a href=\"#27\">shift</a>  \n",
    "<a href=\"#28\">diff</a>  \n",
    "<a href=\"#29\">cumsum</a>  \n",
    "\n"
   ]
  },
  {
   "cell_type": "markdown",
   "metadata": {},
   "source": [
    "<a id=\"12\"> </a>\n",
    "## Datan kuvailu\n",
    "DataFramesta saadaan ulos helposti yksinkertaista kuvailevaa statistiikkaa.\n",
    "\n",
    "Avataan tätä lukua varten tiedosto titanic.csv, jossa on tietoa n. 800 Titanicin matkustajasta."
   ]
  },
  {
   "cell_type": "code",
   "execution_count": 21,
   "metadata": {},
   "outputs": [
    {
     "data": {
      "text/html": [
       "<div>\n",
       "<style scoped>\n",
       "    .dataframe tbody tr th:only-of-type {\n",
       "        vertical-align: middle;\n",
       "    }\n",
       "\n",
       "    .dataframe tbody tr th {\n",
       "        vertical-align: top;\n",
       "    }\n",
       "\n",
       "    .dataframe thead th {\n",
       "        text-align: right;\n",
       "    }\n",
       "</style>\n",
       "<table border=\"1\" class=\"dataframe\">\n",
       "  <thead>\n",
       "    <tr style=\"text-align: right;\">\n",
       "      <th></th>\n",
       "      <th>Survived</th>\n",
       "      <th>Pclass</th>\n",
       "      <th>Name</th>\n",
       "      <th>Sex</th>\n",
       "      <th>Age</th>\n",
       "      <th>SibSp</th>\n",
       "      <th>Parch</th>\n",
       "      <th>Ticket</th>\n",
       "      <th>Fare</th>\n",
       "      <th>Cabin</th>\n",
       "      <th>Embarked</th>\n",
       "    </tr>\n",
       "    <tr>\n",
       "      <th>PassengerId</th>\n",
       "      <th></th>\n",
       "      <th></th>\n",
       "      <th></th>\n",
       "      <th></th>\n",
       "      <th></th>\n",
       "      <th></th>\n",
       "      <th></th>\n",
       "      <th></th>\n",
       "      <th></th>\n",
       "      <th></th>\n",
       "      <th></th>\n",
       "    </tr>\n",
       "  </thead>\n",
       "  <tbody>\n",
       "    <tr>\n",
       "      <td>1</td>\n",
       "      <td>0</td>\n",
       "      <td>3</td>\n",
       "      <td>Braund, Mr. Owen Harris</td>\n",
       "      <td>male</td>\n",
       "      <td>22.0</td>\n",
       "      <td>1</td>\n",
       "      <td>0</td>\n",
       "      <td>A/5 21171</td>\n",
       "      <td>7.2500</td>\n",
       "      <td>NaN</td>\n",
       "      <td>S</td>\n",
       "    </tr>\n",
       "    <tr>\n",
       "      <td>2</td>\n",
       "      <td>1</td>\n",
       "      <td>1</td>\n",
       "      <td>Cumings, Mrs. John Bradley (Florence Briggs Th...</td>\n",
       "      <td>female</td>\n",
       "      <td>38.0</td>\n",
       "      <td>1</td>\n",
       "      <td>0</td>\n",
       "      <td>PC 17599</td>\n",
       "      <td>71.2833</td>\n",
       "      <td>C85</td>\n",
       "      <td>C</td>\n",
       "    </tr>\n",
       "    <tr>\n",
       "      <td>3</td>\n",
       "      <td>1</td>\n",
       "      <td>3</td>\n",
       "      <td>Heikkinen, Miss. Laina</td>\n",
       "      <td>female</td>\n",
       "      <td>26.0</td>\n",
       "      <td>0</td>\n",
       "      <td>0</td>\n",
       "      <td>STON/O2. 3101282</td>\n",
       "      <td>7.9250</td>\n",
       "      <td>NaN</td>\n",
       "      <td>S</td>\n",
       "    </tr>\n",
       "    <tr>\n",
       "      <td>4</td>\n",
       "      <td>1</td>\n",
       "      <td>1</td>\n",
       "      <td>Futrelle, Mrs. Jacques Heath (Lily May Peel)</td>\n",
       "      <td>female</td>\n",
       "      <td>35.0</td>\n",
       "      <td>1</td>\n",
       "      <td>0</td>\n",
       "      <td>113803</td>\n",
       "      <td>53.1000</td>\n",
       "      <td>C123</td>\n",
       "      <td>S</td>\n",
       "    </tr>\n",
       "    <tr>\n",
       "      <td>5</td>\n",
       "      <td>0</td>\n",
       "      <td>3</td>\n",
       "      <td>Allen, Mr. William Henry</td>\n",
       "      <td>male</td>\n",
       "      <td>35.0</td>\n",
       "      <td>0</td>\n",
       "      <td>0</td>\n",
       "      <td>373450</td>\n",
       "      <td>8.0500</td>\n",
       "      <td>NaN</td>\n",
       "      <td>S</td>\n",
       "    </tr>\n",
       "  </tbody>\n",
       "</table>\n",
       "</div>"
      ],
      "text/plain": [
       "             Survived  Pclass  \\\n",
       "PassengerId                     \n",
       "1                   0       3   \n",
       "2                   1       1   \n",
       "3                   1       3   \n",
       "4                   1       1   \n",
       "5                   0       3   \n",
       "\n",
       "                                                          Name     Sex   Age  \\\n",
       "PassengerId                                                                    \n",
       "1                                      Braund, Mr. Owen Harris    male  22.0   \n",
       "2            Cumings, Mrs. John Bradley (Florence Briggs Th...  female  38.0   \n",
       "3                                       Heikkinen, Miss. Laina  female  26.0   \n",
       "4                 Futrelle, Mrs. Jacques Heath (Lily May Peel)  female  35.0   \n",
       "5                                     Allen, Mr. William Henry    male  35.0   \n",
       "\n",
       "             SibSp  Parch            Ticket     Fare Cabin Embarked  \n",
       "PassengerId                                                          \n",
       "1                1      0         A/5 21171   7.2500   NaN        S  \n",
       "2                1      0          PC 17599  71.2833   C85        C  \n",
       "3                0      0  STON/O2. 3101282   7.9250   NaN        S  \n",
       "4                1      0            113803  53.1000  C123        S  \n",
       "5                0      0            373450   8.0500   NaN        S  "
      ]
     },
     "execution_count": 21,
     "metadata": {},
     "output_type": "execute_result"
    }
   ],
   "source": [
    "import pandas as pd\n",
    "\n",
    "df = pd.read_csv('https://student.labranet.jamk.fi/~varpe/datananalk2019/kerta3/titanic.csv', index_col=0)\n",
    "df.head()\n"
   ]
  },
  {
   "cell_type": "markdown",
   "metadata": {},
   "source": [
    "<a id=\"13\"> </a>\n",
    "### shape, count\n",
    "`shape` antaa tuplena DataFramen rivit ja sarakkeet, `shape[0]` rivien lukumäärän.   \n",
    "`count`-metodi kertoo kuinka monta (ei-NaN) arvoa kussakin sarakkeessa on. Tästä näkee siis paljonko on puuttuvia arvoja."
   ]
  },
  {
   "cell_type": "code",
   "execution_count": 22,
   "metadata": {},
   "outputs": [
    {
     "name": "stdout",
     "output_type": "stream",
     "text": [
      "(891, 11)\n",
      "------------\n",
      "\n",
      "891\n",
      "------------\n",
      "\n",
      "Survived    891\n",
      "Pclass      891\n",
      "Name        891\n",
      "Sex         891\n",
      "Age         714\n",
      "SibSp       891\n",
      "Parch       891\n",
      "Ticket      891\n",
      "Fare        891\n",
      "Cabin       204\n",
      "Embarked    889\n",
      "dtype: int64\n"
     ]
    }
   ],
   "source": [
    "print(df.shape)   # rivit, sarakkeet tuplena (monikko)\n",
    "\n",
    "print('------------\\n')\n",
    "\n",
    "print(df.shape[0])   # rivit\n",
    "\n",
    "print('------------\\n')\n",
    "\n",
    "print(df.count())\n",
    "\n"
   ]
  },
  {
   "cell_type": "markdown",
   "metadata": {},
   "source": [
    "<a id=\"14\"> </a>\n",
    "### sum\n",
    "`sum`-metodi laskee summat joko jokaisesta sarakkeesta tai pyydetystä sarakkeesta."
   ]
  },
  {
   "cell_type": "code",
   "execution_count": 23,
   "metadata": {},
   "outputs": [
    {
     "name": "stdout",
     "output_type": "stream",
     "text": [
      "Survived                                                  342\n",
      "Pclass                                                   2057\n",
      "Name        Braund, Mr. Owen HarrisCumings, Mrs. John Brad...\n",
      "Sex         malefemalefemalefemalemalemalemalemalefemalefe...\n",
      "Age                                                   21205.2\n",
      "SibSp                                                     466\n",
      "Parch                                                     340\n",
      "Ticket      A/5 21171PC 17599STON/O2. 31012821138033734503...\n",
      "Fare                                                  28693.9\n",
      "dtype: object\n",
      "\n",
      "-----------------\n",
      "\n",
      "28693.9493\n"
     ]
    }
   ],
   "source": [
    "print(df.sum())\n",
    "\n",
    "print('\\n-----------------\\n')\n",
    "\n",
    "print(df['Fare'].sum())"
   ]
  },
  {
   "cell_type": "markdown",
   "metadata": {},
   "source": [
    "<a id=\"15\"> </a>\n",
    "### min,max\n",
    "Suurin ja pienin arvo. "
   ]
  },
  {
   "cell_type": "code",
   "execution_count": 24,
   "metadata": {},
   "outputs": [
    {
     "name": "stdout",
     "output_type": "stream",
     "text": [
      "Survived                      0\n",
      "Pclass                        1\n",
      "Name        Abbing, Mr. Anthony\n",
      "Sex                      female\n",
      "Age                        0.42\n",
      "SibSp                         0\n",
      "Parch                         0\n",
      "Ticket                   110152\n",
      "Fare                          0\n",
      "dtype: object\n",
      "\n",
      "-----------------\n",
      "\n",
      "Survived                              1\n",
      "Pclass                                3\n",
      "Name        van Melkebeke, Mr. Philemon\n",
      "Sex                                male\n",
      "Age                                  80\n",
      "SibSp                                 8\n",
      "Parch                                 6\n",
      "Ticket                        WE/P 5735\n",
      "Fare                            512.329\n",
      "dtype: object\n"
     ]
    }
   ],
   "source": [
    "print(df.min())\n",
    "\n",
    "print('\\n-----------------\\n')\n",
    "\n",
    "print(df.max())"
   ]
  },
  {
   "cell_type": "markdown",
   "metadata": {},
   "source": [
    "<a id=\"16\"> </a>\n",
    "### argmin, argmax, idxmin, idxmax\n",
    "Kuinka monella rivillä on kunkin sarakkeen suurin/pienin arvo (argmin/argmax) tai minkä riviotsikon rivillä (idxmin/idxmax).\n"
   ]
  },
  {
   "cell_type": "code",
   "execution_count": 25,
   "metadata": {},
   "outputs": [
    {
     "name": "stdout",
     "output_type": "stream",
     "text": [
      "259\n",
      "Survived                   1\n",
      "Pclass                     1\n",
      "Name        Ward, Miss. Anna\n",
      "Sex                   female\n",
      "Age                       35\n",
      "SibSp                      0\n",
      "Parch                      0\n",
      "Ticket              PC 17755\n",
      "Fare                 512.329\n",
      "Cabin                    NaN\n",
      "Embarked                   C\n",
      "Name: 259, dtype: object\n"
     ]
    }
   ],
   "source": [
    "# suurin Fare\n",
    "\n",
    "print(df['Fare'].idxmax())\n",
    "\n",
    "print(df.loc[df['Fare'].idxmax()])"
   ]
  },
  {
   "cell_type": "markdown",
   "metadata": {},
   "source": [
    "<a id=\"17\"> </a>\n",
    "### mean, median, std\n",
    "Keskiarvo, mediaani (keskimmäinen arvo), keskihajonta"
   ]
  },
  {
   "cell_type": "code",
   "execution_count": 26,
   "metadata": {},
   "outputs": [
    {
     "name": "stdout",
     "output_type": "stream",
     "text": [
      "Survived     0.383838\n",
      "Pclass       2.308642\n",
      "Age         29.699118\n",
      "SibSp        0.523008\n",
      "Parch        0.381594\n",
      "Fare        32.204208\n",
      "dtype: float64\n"
     ]
    }
   ],
   "source": [
    "print(df.mean())"
   ]
  },
  {
   "cell_type": "markdown",
   "metadata": {},
   "source": [
    "<a id=\"18\"> </a>\n",
    "### rank\n",
    "`rank`-metodilla voidaan määrittää jokaiselle arvolle sijoitus kyseisen Seriesin (yleensä sarakkeen) suuruusjärjestyksessä."
   ]
  },
  {
   "cell_type": "code",
   "execution_count": 27,
   "metadata": {},
   "outputs": [
    {
     "name": "stdout",
     "output_type": "stream",
     "text": [
      "PassengerId\n",
      "1     77.0\n",
      "2    789.0\n",
      "3    232.5\n",
      "4    748.0\n",
      "5    264.0\n",
      "Name: Fare, dtype: float64\n"
     ]
    }
   ],
   "source": [
    "print(df['Fare'].rank().head())"
   ]
  },
  {
   "cell_type": "markdown",
   "metadata": {},
   "source": [
    "Siis 1. rivin matkustajan Fare on 77. pienin jne.  \n",
    "Nähdään, että 3. rivillä on 232.5, oletuksena tasasijoituksista `rank` antaa keskiarvon sijoista, parametrilla `method='first'` nämä menee eri sijoille järjestyksessä, missä ne olivat Seriesissä. `method='min'` antaa kaikille tasasijoilla oleville ryhmän pienimmän sijoituksen."
   ]
  },
  {
   "cell_type": "markdown",
   "metadata": {},
   "source": [
    "<a id=\"19\"> </a>\n",
    "### describe\n",
    "antaa isomman setin statistiikkaa yhdellä komennolla."
   ]
  },
  {
   "cell_type": "code",
   "execution_count": 28,
   "metadata": {},
   "outputs": [
    {
     "name": "stdout",
     "output_type": "stream",
     "text": [
      "         Survived      Pclass         Age       SibSp       Parch        Fare\n",
      "count  891.000000  891.000000  714.000000  891.000000  891.000000  891.000000\n",
      "mean     0.383838    2.308642   29.699118    0.523008    0.381594   32.204208\n",
      "std      0.486592    0.836071   14.526497    1.102743    0.806057   49.693429\n",
      "min      0.000000    1.000000    0.420000    0.000000    0.000000    0.000000\n",
      "25%      0.000000    2.000000   20.125000    0.000000    0.000000    7.910400\n",
      "50%      0.000000    3.000000   28.000000    0.000000    0.000000   14.454200\n",
      "75%      1.000000    3.000000   38.000000    1.000000    0.000000   31.000000\n",
      "max      1.000000    3.000000   80.000000    8.000000    6.000000  512.329200\n"
     ]
    }
   ],
   "source": [
    "print(df.describe())"
   ]
  },
  {
   "cell_type": "markdown",
   "metadata": {},
   "source": [
    "Tekstimuotoista dataa sisältäville Seriesille (DataFrame-sarakkeille) `describe`antaa hieman erilaisia arvoja:"
   ]
  },
  {
   "cell_type": "code",
   "execution_count": 29,
   "metadata": {},
   "outputs": [
    {
     "name": "stdout",
     "output_type": "stream",
     "text": [
      "count         204\n",
      "unique        147\n",
      "top       B96 B98\n",
      "freq            4\n",
      "Name: Cabin, dtype: object\n"
     ]
    }
   ],
   "source": [
    "print(df['Cabin'].describe())"
   ]
  },
  {
   "cell_type": "markdown",
   "metadata": {},
   "source": [
    "<a id=\"20\"> </a>\n",
    "### value_counts\n",
    "Value_counts-funktio laskee muuttujan ainutkertaisten arvojen frekvenssit. `sort = False` määrittää lajittelun frekvenssien sijasta avainten mukaiseen järjestykseen. "
   ]
  },
  {
   "cell_type": "code",
   "execution_count": 30,
   "metadata": {},
   "outputs": [
    {
     "name": "stdout",
     "output_type": "stream",
     "text": [
      "3    491\n",
      "1    216\n",
      "2    184\n",
      "Name: Pclass, dtype: int64\n",
      "\n",
      "-----------------\n",
      "\n",
      "0    608\n",
      "1    209\n",
      "2     28\n",
      "3     16\n",
      "4     18\n",
      "5      5\n",
      "8      7\n",
      "Name: SibSp, dtype: int64\n"
     ]
    }
   ],
   "source": [
    "print(df['Pclass'].value_counts())\n",
    "\n",
    "print('\\n-----------------\\n')\n",
    "\n",
    "print(df['SibSp'].value_counts(sort = False))"
   ]
  },
  {
   "cell_type": "markdown",
   "metadata": {},
   "source": [
    "<a id=\"21\"> </a>\n",
    "### unique, nunique\n",
    "`unique` antaa listan jossa jokainen arvo on vain kerran, 'nunique' taas ainutkertaisten arvojen lukumäärän."
   ]
  },
  {
   "cell_type": "code",
   "execution_count": 31,
   "metadata": {},
   "outputs": [
    {
     "name": "stdout",
     "output_type": "stream",
     "text": [
      "[22.   38.   26.   35.     nan 54.    2.   27.   14.    4.   58.   20.\n",
      " 39.   55.   31.   34.   15.   28.    8.   19.   40.   66.   42.   21.\n",
      " 18.    3.    7.   49.   29.   65.   28.5   5.   11.   45.   17.   32.\n",
      " 16.   25.    0.83 30.   33.   23.   24.   46.   59.   71.   37.   47.\n",
      " 14.5  70.5  32.5  12.    9.   36.5  51.   55.5  40.5  44.    1.   61.\n",
      " 56.   50.   36.   45.5  20.5  62.   41.   52.   63.   23.5   0.92 43.\n",
      " 60.   10.   64.   13.   48.    0.75 53.   57.   80.   70.   24.5   6.\n",
      "  0.67 30.5   0.42 34.5  74.  ]\n",
      "\n",
      "-----------------\n",
      "\n",
      "248\n"
     ]
    }
   ],
   "source": [
    "print(df['Age'].unique())\n",
    "\n",
    "print('\\n-----------------\\n')\n",
    "\n",
    "print(df['Fare'].nunique())"
   ]
  },
  {
   "cell_type": "markdown",
   "metadata": {},
   "source": [
    "<a id=\"22\"> </a>\n",
    "## Ryhmittely, groupby\n",
    "\n",
    "Ryhmittelyä tehdään usein *split-apply-combine* -periaatteella, jota voidaan kuvata oheisella kaaviolla:  \n",
    "![split-apply-combine](https://student.labranet.jamk.fi/~varpe/datananalk2019/kerta3/sac.png)  \n",
    "\n",
    "Eli ensin jaetaan data ryhmiin jollain kriteerillä, sitten tehdään ryhmille jokin operaatio ja lopuksi yhdistetään tulokset:\n",
    "\n",
    "Data ryhmitellään jonkin sarakkeen mukaan komennolla `groupby`:"
   ]
  },
  {
   "cell_type": "code",
   "execution_count": 32,
   "metadata": {},
   "outputs": [
    {
     "name": "stdout",
     "output_type": "stream",
     "text": [
      "<pandas.core.groupby.generic.DataFrameGroupBy object at 0x00000252FD505788>\n"
     ]
    }
   ],
   "source": [
    "print(df.groupby('Pclass'))"
   ]
  },
  {
   "cell_type": "markdown",
   "metadata": {},
   "source": [
    "Nähdään että pelkkä ryhmittely ei tulosta mitään, se saa aikaan DataFrameGroupBy -objektin, joka pitää sisällään edelleen kaiken DataFramen informaation... tällä voidaan kuitenkin tehdä laskentaa:"
   ]
  },
  {
   "cell_type": "code",
   "execution_count": 33,
   "metadata": {},
   "outputs": [
    {
     "name": "stdout",
     "output_type": "stream",
     "text": [
      "Pclass\n",
      "1    84.154687\n",
      "2    20.662183\n",
      "3    13.675550\n",
      "Name: Fare, dtype: float64\n",
      "\n",
      "-----------------\n",
      "\n",
      "Pclass\n",
      "1    60.2875\n",
      "2    14.2500\n",
      "3     8.0500\n",
      "Name: Fare, dtype: float64\n",
      "\n",
      "-----------------\n",
      "\n",
      "             Fare   median\n",
      "Pclass                    \n",
      "1       84.154687  60.2875\n",
      "2       20.662183  14.2500\n",
      "3       13.675550   8.0500\n"
     ]
    }
   ],
   "source": [
    "print(df.groupby('Pclass')['Fare'].mean())\n",
    "\n",
    "\n",
    "print('\\n-----------------\\n')\n",
    "\n",
    "#tai\n",
    "\n",
    "print(df['Fare'].groupby(df['Pclass']).median())  # tässä sama asia tehty toisin päin\n",
    "\n",
    "print('\\n-----------------\\n')\n",
    "\n",
    "# yhdistetään edelliset Seriesit DataFrameksi\n",
    "\n",
    "df2 = pd.DataFrame(df.groupby(df['Pclass'])['Fare'].mean())  # groupby-hommasta tulee Series, tässä tehty siitä DataFrame\n",
    "df2['median'] = df['Fare'].groupby(df['Pclass']).median()\n",
    "print(df2)\n"
   ]
  },
  {
   "cell_type": "markdown",
   "metadata": {},
   "source": [
    "Edellä toisessa vaiheessa  `df['Fare']`-Series ryhmiteltiin Pclass:n mukaan, vaikka `df['Fare']`-Series ei siällä Pclass-tietoa. Tämän takia ryhmittelyperusteeksi annettiinkin `df['Pclass']`-Series, joka siis antaa ryhmittelyssä tiedon mikä indeksi kuuluu mihinkin ryhmään, ja koska `df['Fare']`-Series sisältää samat indeksit, voidaan määrät laskea ryhmittäin. \n",
    "\n",
    "Ensimmäisessä vaiheessa sama tehtiin \"toisin päin\", eli ryhmiteltiin koko DataFrame ja otettiin ryhmittelystä vain Fare-sarake. Tällöin ryhmittelyperusteeksi ei tarvitse antaa `df['Pclass']` vaan riittää vain sarakkeen nimi `'Pclass'` (koska sarake löytyy df:stä).\n"
   ]
  },
  {
   "cell_type": "markdown",
   "metadata": {},
   "source": [
    "Ryhmittelyn tuottamalle `GroupBy`-objektilla on muutamia optimoituja metodeja koostelukujen laskemiseen:\n",
    "* `count`\tlukumäärä (ei NaN-arvoja)\n",
    "* `sum`\tsumma\n",
    "* `mean`\tkeskiarvo\n",
    "* `median`\tmediaani\n",
    "* `std`, `var`\tkeskihajonta, varianssi\n",
    "* `min`, `max`\tminimi, maksimi\n",
    "* `prod`\ttulo\n",
    "* `first`, `last`\tensimmäinen, viimeinen ei-NaN arvo"
   ]
  },
  {
   "cell_type": "code",
   "execution_count": 34,
   "metadata": {},
   "outputs": [
    {
     "name": "stdout",
     "output_type": "stream",
     "text": [
      "         Date        HomeTeam      AwayTeam  FTHG  FTAG FTR  HTHG  HTAG HTR  \\\n",
      "0  2017-08-11         Arsenal     Leicester     4     3   H     2     2   D   \n",
      "1  2017-08-12        Brighton      Man City     0     2   A     0     0   D   \n",
      "2  2017-08-12         Chelsea       Burnley     2     3   A     0     3   A   \n",
      "3  2017-08-12  Crystal Palace  Huddersfield     0     3   A     0     2   A   \n",
      "4  2017-08-12         Everton         Stoke     1     0   H     1     0   H   \n",
      "\n",
      "       Referee  ...  HST  AST  HF  AF  HC  AC  HY  AY  HR  AR  \n",
      "0       M Dean  ...   10    3   9  12   9   4   0   1   0   0  \n",
      "1     M Oliver  ...    2    4   6   9   3  10   0   2   0   0  \n",
      "2     C Pawson  ...    6    5  16  11   8   5   3   3   2   0  \n",
      "3       J Moss  ...    4    6   7  19  12   9   1   3   0   0  \n",
      "4  N Swarbrick  ...    4    1  13  10   6   7   1   1   0   0  \n",
      "\n",
      "[5 rows x 22 columns]\n"
     ]
    },
    {
     "data": {
      "text/plain": [
       "FTR\n",
       "A       Brighton\n",
       "D    Southampton\n",
       "H        Arsenal\n",
       "Name: HomeTeam, dtype: object"
      ]
     },
     "execution_count": 34,
     "metadata": {},
     "output_type": "execute_result"
    }
   ],
   "source": [
    "dfpl = pd.read_csv('https://student.labranet.jamk.fi/~varpe/datananalk2019/kerta3/season-1718_csv.csv')\n",
    "\n",
    "print(dfpl.head())\n",
    "#tiedostossa kauden 17-18 Valioliigan ottelutulokset\n",
    "\n",
    "\n",
    "dfpl['HomeTeam'].groupby(dfpl['FTR']).first()  \n",
    "# antaa listan (=kauden) ensimmäisten kotitappion (A), kotitasapelin (D) ja kotivoiton (H) joukkueet"
   ]
  },
  {
   "cell_type": "markdown",
   "metadata": {},
   "source": [
    "Myös muita Serieseille määriteltyjä koostefuktioita voi käyttää: "
   ]
  },
  {
   "cell_type": "code",
   "execution_count": 35,
   "metadata": {
    "scrolled": true
   },
   "outputs": [
    {
     "data": {
      "text/plain": [
       "FTR\n",
       "A             [0, 2, 1]\n",
       "D          [0, 3, 1, 2]\n",
       "H    [4, 1, 2, 3, 5, 7]\n",
       "Name: FTHG, dtype: object"
      ]
     },
     "execution_count": 35,
     "metadata": {},
     "output_type": "execute_result"
    }
   ],
   "source": [
    "dfpl['FTHG'].groupby(dfpl['FTR']).unique()  # kotijoukkueen maalimäärät kotitappioissa (A), -tasureissa (D) ja -voitoissa (H)"
   ]
  },
  {
   "cell_type": "markdown",
   "metadata": {},
   "source": [
    "Ryhmille voi määrittää myös omia koostefunktioita käyttämällä `agg`-metodia:"
   ]
  },
  {
   "cell_type": "code",
   "execution_count": 36,
   "metadata": {},
   "outputs": [
    {
     "name": "stdout",
     "output_type": "stream",
     "text": [
      "FTR\n",
      "A    2\n",
      "D    3\n",
      "H    6\n",
      "Name: FTHG, dtype: int64\n",
      "\n",
      "------------\n",
      "\n",
      "     vaihteluvali  max  min\n",
      "FTR                        \n",
      "A               2    2    0\n",
      "D               3    3    0\n",
      "H               6    7    1\n",
      "\n",
      "------------\n",
      "\n",
      "     vvali  eniten  vähiten\n",
      "FTR                        \n",
      "A        2       2        0\n",
      "D        3       3        0\n",
      "H        6       7        1\n"
     ]
    }
   ],
   "source": [
    "def vaihteluvali(x):\n",
    "    return x.max()-x.min()\n",
    "\n",
    "print(dfpl['FTHG'].groupby(dfpl['FTR']).agg(vaihteluvali))\n",
    "\n",
    "print('\\n------------\\n')\n",
    "\n",
    "# annetaan lista funktioista, pandasin tai itse määriettyjä\n",
    "print(dfpl['FTHG'].groupby(dfpl['FTR']).agg([vaihteluvali, max, min]))\n",
    "\n",
    "print('\\n------------\\n')\n",
    "\n",
    "# tässä tuloksen sarakkeet nimetty itse\n",
    "print(dfpl['FTHG'].groupby(dfpl['FTR']).agg([('vvali', vaihteluvali), ('eniten',max), ('vähiten',min)]))"
   ]
  },
  {
   "cell_type": "markdown",
   "metadata": {},
   "source": [
    "Groupby:n value_counts antaa Serieksen, jossa on kaksitasoinen, hierarkinen indeksi. Sama saadaan myös antamalla useampi ryhmittelyperuste:"
   ]
  },
  {
   "cell_type": "code",
   "execution_count": 37,
   "metadata": {
    "scrolled": true
   },
   "outputs": [
    {
     "name": "stdout",
     "output_type": "stream",
     "text": [
      "Pclass  Survived\n",
      "1       0            80\n",
      "        1           136\n",
      "2       0            97\n",
      "        1            87\n",
      "3       0           372\n",
      "        1           119\n",
      "Name: Survived, dtype: int64\n"
     ]
    }
   ],
   "source": [
    "print(df['Survived'].groupby(df['Pclass']).value_counts(sort=False))"
   ]
  },
  {
   "cell_type": "code",
   "execution_count": 38,
   "metadata": {},
   "outputs": [
    {
     "data": {
      "text/plain": [
       "Sex     Survived\n",
       "female  0           23.024385\n",
       "        1           51.938573\n",
       "male    0           21.960993\n",
       "        1           40.821484\n",
       "Name: Fare, dtype: float64"
      ]
     },
     "execution_count": 38,
     "metadata": {},
     "output_type": "execute_result"
    }
   ],
   "source": [
    "df1 = df['Fare'].groupby([df['Sex'], df['Survived']]).mean()\n",
    "\n",
    "df1"
   ]
  },
  {
   "cell_type": "markdown",
   "metadata": {},
   "source": [
    "`unstack`-metodilla voidaan muotoilla 2-tasoinen indeksi riviksi ja sarakkeiksi (sama saadaan myöhemmin crosstab-funktiolla):"
   ]
  },
  {
   "cell_type": "code",
   "execution_count": 39,
   "metadata": {},
   "outputs": [
    {
     "data": {
      "text/html": [
       "<div>\n",
       "<style scoped>\n",
       "    .dataframe tbody tr th:only-of-type {\n",
       "        vertical-align: middle;\n",
       "    }\n",
       "\n",
       "    .dataframe tbody tr th {\n",
       "        vertical-align: top;\n",
       "    }\n",
       "\n",
       "    .dataframe thead th {\n",
       "        text-align: right;\n",
       "    }\n",
       "</style>\n",
       "<table border=\"1\" class=\"dataframe\">\n",
       "  <thead>\n",
       "    <tr style=\"text-align: right;\">\n",
       "      <th>Survived</th>\n",
       "      <th>0</th>\n",
       "      <th>1</th>\n",
       "    </tr>\n",
       "    <tr>\n",
       "      <th>Sex</th>\n",
       "      <th></th>\n",
       "      <th></th>\n",
       "    </tr>\n",
       "  </thead>\n",
       "  <tbody>\n",
       "    <tr>\n",
       "      <td>female</td>\n",
       "      <td>23.0</td>\n",
       "      <td>51.9</td>\n",
       "    </tr>\n",
       "    <tr>\n",
       "      <td>male</td>\n",
       "      <td>22.0</td>\n",
       "      <td>40.8</td>\n",
       "    </tr>\n",
       "  </tbody>\n",
       "</table>\n",
       "</div>"
      ],
      "text/plain": [
       "Survived     0     1\n",
       "Sex                 \n",
       "female    23.0  51.9\n",
       "male      22.0  40.8"
      ]
     },
     "execution_count": 39,
     "metadata": {},
     "output_type": "execute_result"
    }
   ],
   "source": [
    "df1 = df['Fare'].groupby([df['Sex'], df['Survived']]).mean().unstack()\n",
    "\n",
    "\n",
    "df1.applymap(lambda x: '{:.1f}'.format(x))"
   ]
  },
  {
   "cell_type": "markdown",
   "metadata": {},
   "source": [
    "Samalla kertaa voi laskea kaikkien sarakkeiden ryhmiteltyjä arvoja"
   ]
  },
  {
   "cell_type": "code",
   "execution_count": 40,
   "metadata": {},
   "outputs": [
    {
     "name": "stdout",
     "output_type": "stream",
     "text": [
      "        Survived  Pclass       Age  SibSp  Parch        Fare\n",
      "Sex                                                         \n",
      "female       233     678   7286.00    218    204  13966.6628\n",
      "male         109    1379  13919.17    248    136  14727.2865\n"
     ]
    }
   ],
   "source": [
    "print(df.groupby(['Sex']).sum())"
   ]
  },
  {
   "cell_type": "code",
   "execution_count": 41,
   "metadata": {},
   "outputs": [
    {
     "name": "stdout",
     "output_type": "stream",
     "text": [
      "         Pclass                                                 Age  \\\n",
      "          count      mean       std  min  25%  50%  75%  max  count   \n",
      "Survived                                                              \n",
      "0         549.0  2.531876  0.735805  1.0  2.0  3.0  3.0  3.0  424.0   \n",
      "1         342.0  1.950292  0.863321  1.0  1.0  2.0  3.0  3.0  290.0   \n",
      "\n",
      "                     ... Parch        Fare                             \\\n",
      "               mean  ...   75%  max  count       mean        std  min   \n",
      "Survived             ...                                                \n",
      "0         30.626179  ...   0.0  6.0  549.0  22.117887  31.388207  0.0   \n",
      "1         28.343690  ...   1.0  5.0  342.0  48.395408  66.596998  0.0   \n",
      "\n",
      "                                         \n",
      "              25%   50%   75%       max  \n",
      "Survived                                 \n",
      "0          7.8542  10.5  26.0  263.0000  \n",
      "1         12.4750  26.0  57.0  512.3292  \n",
      "\n",
      "[2 rows x 40 columns]\n",
      "\n",
      "---------\n",
      "\n",
      "         Pclass                                                 Age  \\\n",
      "          count      mean       std  min  25%  50%  75%  max  count   \n",
      "Survived                                                              \n",
      "0         549.0  2.531876  0.735805  1.0  2.0  3.0  3.0  3.0  424.0   \n",
      "1         342.0  1.950292  0.863321  1.0  1.0  2.0  3.0  3.0  290.0   \n",
      "\n",
      "                                                              SibSp            \\\n",
      "               mean        std   min   25%   50%   75%   max  count      mean   \n",
      "Survived                                                                        \n",
      "0         30.626179  14.172110  1.00  21.0  28.0  39.0  74.0  549.0  0.553734   \n",
      "1         28.343690  14.950952  0.42  19.0  28.0  36.0  80.0  342.0  0.473684   \n",
      "\n",
      "                                             Parch                           \\\n",
      "               std  min  25%  50%  75%  max  count      mean       std  min   \n",
      "Survived                                                                      \n",
      "0         1.288399  0.0  0.0  0.0  1.0  8.0  549.0  0.329690  0.823166  0.0   \n",
      "1         0.708688  0.0  0.0  0.0  1.0  4.0  342.0  0.464912  0.771712  0.0   \n",
      "\n",
      "                               Fare                                            \\\n",
      "          25%  50%  75%  max  count       mean        std  min      25%   50%   \n",
      "Survived                                                                        \n",
      "0         0.0  0.0  0.0  6.0  549.0  22.117887  31.388207  0.0   7.8542  10.5   \n",
      "1         0.0  0.0  1.0  5.0  342.0  48.395408  66.596998  0.0  12.4750  26.0   \n",
      "\n",
      "                          \n",
      "           75%       max  \n",
      "Survived                  \n",
      "0         26.0  263.0000  \n",
      "1         57.0  512.3292  \n"
     ]
    }
   ],
   "source": [
    "df1 = df.groupby(df['Survived']).describe()\n",
    "\n",
    "print(df1)\n",
    "\n",
    "print('\\n---------\\n')\n",
    "\n",
    "\n",
    "with pd.option_context('display.max_rows', None, 'display.max_columns', None): # tämä määrittää koko DataFramen tulostetavaksi\n",
    "    print(df1)\n"
   ]
  },
  {
   "cell_type": "markdown",
   "metadata": {
    "collapsed": true
   },
   "source": [
    "groupby:n palauttaman objektin voi myös iteroida for-silmukalla, tällöin saadaan tuple (monikko) muodossa nimi,data:"
   ]
  },
  {
   "cell_type": "code",
   "execution_count": 42,
   "metadata": {},
   "outputs": [
    {
     "name": "stdout",
     "output_type": "stream",
     "text": [
      "LUOKKA  1\n",
      "1    136\n",
      "0     80\n",
      "Name: Survived, dtype: int64\n",
      "LUOKKA  2\n",
      "0    97\n",
      "1    87\n",
      "Name: Survived, dtype: int64\n",
      "LUOKKA  3\n",
      "0    372\n",
      "1    119\n",
      "Name: Survived, dtype: int64\n"
     ]
    }
   ],
   "source": [
    "for name, data in df['Survived'].groupby(df['Pclass']):\n",
    "      print(\"LUOKKA \",name)\n",
    "      print(data.value_counts())"
   ]
  },
  {
   "cell_type": "code",
   "execution_count": 43,
   "metadata": {},
   "outputs": [
    {
     "name": "stdout",
     "output_type": "stream",
     "text": [
      "Tulos:  A\n",
      "Swansea           10\n",
      "Stoke              9\n",
      "Southampton        8\n",
      "Huddersfield       8\n",
      "West Brom          7\n",
      "Bournemouth        7\n",
      "Newcastle          7\n",
      "Burnley            7\n",
      "Crystal Palace     7\n",
      "Leicester          6\n",
      "West Ham           6\n",
      "Watford            6\n",
      "Everton            5\n",
      "Brighton           4\n",
      "Chelsea            4\n",
      "Arsenal            2\n",
      "Tottenham          2\n",
      "Man United         2\n",
      "Man City           1\n",
      "Name: HomeTeam, dtype: int64\n",
      "Tulos:  D\n",
      "West Brom         9\n",
      "Brighton          8\n",
      "Southampton       7\n",
      "Liverpool         7\n",
      "West Ham          6\n",
      "Watford           6\n",
      "Leicester         6\n",
      "Bournemouth       5\n",
      "Crystal Palace    5\n",
      "Huddersfield      5\n",
      "Burnley           5\n",
      "Stoke             5\n",
      "Chelsea           4\n",
      "Tottenham         4\n",
      "Newcastle         4\n",
      "Everton           4\n",
      "Swansea           3\n",
      "Man City          2\n",
      "Arsenal           2\n",
      "Man United        2\n",
      "Name: HomeTeam, dtype: int64\n",
      "Tulos:  H\n",
      "Man City          16\n",
      "Arsenal           15\n",
      "Man United        15\n",
      "Tottenham         13\n",
      "Liverpool         12\n",
      "Chelsea           11\n",
      "Everton           10\n",
      "Newcastle          8\n",
      "Burnley            7\n",
      "Leicester          7\n",
      "Watford            7\n",
      "Brighton           7\n",
      "Crystal Palace     7\n",
      "Bournemouth        7\n",
      "West Ham           7\n",
      "Huddersfield       6\n",
      "Swansea            6\n",
      "Stoke              5\n",
      "Southampton        4\n",
      "West Brom          3\n",
      "Name: HomeTeam, dtype: int64\n"
     ]
    }
   ],
   "source": [
    "kotona = dfpl['HomeTeam'].groupby(dfpl['FTR'])\n",
    "\n",
    "for name, data in kotona:\n",
    "      print(\"Tulos: \",name)\n",
    "      print(data.value_counts())"
   ]
  },
  {
   "cell_type": "markdown",
   "metadata": {},
   "source": [
    "<a id=\"26\"> </a>\n",
    "\n",
    "## Muita DataFramen/Serieksen metodeja\n",
    "\n",
    "\n",
    "<a id=\"27\"> </a>\n",
    "### shift\n",
    "\n",
    "\n",
    "`shift`-metodilla voidaan dataa \"siirtää\" annettu rivimäärä eteen- tai taaksepäin. \n",
    "\n",
    "`shift(1)` siirtää dataa yhden rivin eteenpäin, alla siis alunperin rivi-indeksillä 0 oleva data on `df.shift(1)`:n palauttamassa DataFramessa rivi-indeksissä 1 jne.\n",
    "\n",
    "Vastaavasti `shift(-1)` siirtää dataa taaksepäin."
   ]
  },
  {
   "cell_type": "code",
   "execution_count": 44,
   "metadata": {},
   "outputs": [
    {
     "name": "stdout",
     "output_type": "stream",
     "text": [
      "   Vuosi  Kk  Pv    Klo  Ilman lämpötila (degC)\n",
      "0   2019  10   1  00:00                    10.0\n",
      "1   2019  10   1  00:10                    10.0\n",
      "2   2019  10   1  00:20                     9.9\n",
      "3   2019  10   1  00:30                     9.9\n",
      "4   2019  10   1  00:40                     NaN\n",
      "5   2019  10   1  00:50                     9.7\n",
      "6   2019  10   1  01:00                     9.7\n",
      "\n",
      "-----------\n",
      "\n",
      "   Vuosi  Kk  Pv    Klo  Ilman lämpötila (degC)  edellinen  seuraava\n",
      "0   2019  10   1  00:00                    10.0        NaN      10.0\n",
      "1   2019  10   1  00:10                    10.0       10.0       9.9\n",
      "2   2019  10   1  00:20                     9.9       10.0       9.9\n",
      "3   2019  10   1  00:30                     9.9        9.9       NaN\n",
      "4   2019  10   1  00:40                     NaN        9.9       9.7\n",
      "5   2019  10   1  00:50                     9.7        NaN       9.7\n",
      "6   2019  10   1  01:00                     9.7        9.7       9.7\n"
     ]
    }
   ],
   "source": [
    "df = pd.read_csv('http://student.labranet.jamk.fi/~varpe/datananals2019/kerta3/saa_jkl2019.csv', usecols=[0,1,2,3,5])\n",
    "\n",
    "print(df.head(7))\n",
    "\n",
    "print('\\n-----------\\n')\n",
    "\n",
    "df['edellinen']=df.shift(1)['Ilman lämpötila (degC)']\n",
    "\n",
    "df['seuraava']=df.shift(-1)['Ilman lämpötila (degC)']\n",
    "\n",
    "print(df.head(7))\n",
    "\n"
   ]
  },
  {
   "cell_type": "markdown",
   "metadata": {},
   "source": [
    "tällä voidaan laskea esim. kuinka paljon lämpötila on muuttunut edellisen tunnin (=6 riviä) aikana."
   ]
  },
  {
   "cell_type": "code",
   "execution_count": 45,
   "metadata": {},
   "outputs": [
    {
     "name": "stdout",
     "output_type": "stream",
     "text": [
      "   Vuosi  Kk  Pv    Klo  Ilman lämpötila (degC)\n",
      "0   2019  10   1  00:00                    10.0\n",
      "1   2019  10   1  00:10                    10.0\n",
      "2   2019  10   1  00:20                     9.9\n",
      "3   2019  10   1  00:30                     9.9\n",
      "4   2019  10   1  00:40                     NaN\n",
      "5   2019  10   1  00:50                     9.7\n",
      "6   2019  10   1  01:00                     9.7\n",
      "\n",
      "-----------\n",
      "\n",
      "   Vuosi  Kk  Pv    Klo  Ilman lämpötila (degC)  muutos tunnissa\n",
      "0   2019  10   1  00:00                    10.0              NaN\n",
      "1   2019  10   1  00:10                    10.0              NaN\n",
      "2   2019  10   1  00:20                     9.9              NaN\n",
      "3   2019  10   1  00:30                     9.9              NaN\n",
      "4   2019  10   1  00:40                     NaN              NaN\n",
      "5   2019  10   1  00:50                     9.7              NaN\n",
      "6   2019  10   1  01:00                     9.7             -0.3\n",
      "\n",
      "-----------\n",
      "\n",
      "     Vuosi  Kk  Pv    Klo  Ilman lämpötila (degC)  muutos tunnissa\n",
      "401   2019  10   5  04:10                    -1.4             -3.6\n",
      "400   2019  10   5  04:00                    -1.4             -3.5\n",
      "402   2019  10   5  04:20                    -1.1             -3.3\n",
      "\n",
      "-----------\n",
      "\n",
      "      Vuosi  Kk  Pv    Klo  Ilman lämpötila (degC)  muutos tunnissa\n",
      "3097   2019  10  23  21:30                     3.8              3.0\n",
      "4102   2019  10  30  21:00                    -3.3              3.0\n",
      "3101   2019  10  23  22:10                     3.6              2.9\n"
     ]
    }
   ],
   "source": [
    "df = pd.read_csv('http://student.labranet.jamk.fi/~varpe/datananals2019/kerta3/saa_jkl2019.csv', usecols=[0,1,2,3,5])\n",
    "\n",
    "print(df.head(7))\n",
    "\n",
    "print('\\n-----------\\n')\n",
    "\n",
    "df['muutos tunnissa']=df['Ilman lämpötila (degC)'] -df.shift(6)['Ilman lämpötila (degC)']\n",
    "\n",
    "\n",
    "print(df.head(7))\n",
    "\n",
    "\n",
    "print('\\n-----------\\n')\n",
    "\n",
    "print(df.sort_values('muutos tunnissa').head(3)) # suurimmat pudotukset\n",
    "\n",
    "\n",
    "print('\\n-----------\\n')\n",
    "\n",
    "print(df.sort_values('muutos tunnissa', ascending=False).head(3)) # suurimmat nousut"
   ]
  },
  {
   "cell_type": "markdown",
   "metadata": {},
   "source": [
    "<a id=\"28\"> </a>\n",
    "\n",
    "\n",
    "### diff\n",
    "\n",
    "Jos halutaan laskea vain arvon muutosta aikaisempiin (tai seuraaviin nähden), se saadaan suoraan `diff`-metodilla."
   ]
  },
  {
   "cell_type": "code",
   "execution_count": 46,
   "metadata": {},
   "outputs": [
    {
     "name": "stdout",
     "output_type": "stream",
     "text": [
      "   Vuosi  Kk  Pv    Klo  Ilman lämpötila (degC)\n",
      "0   2019  10   1  00:00                    10.0\n",
      "1   2019  10   1  00:10                    10.0\n",
      "2   2019  10   1  00:20                     9.9\n",
      "3   2019  10   1  00:30                     9.9\n",
      "4   2019  10   1  00:40                     NaN\n",
      "5   2019  10   1  00:50                     9.7\n",
      "6   2019  10   1  01:00                     9.7\n",
      "\n",
      "-----------\n",
      "\n",
      "   Vuosi  Kk  Pv    Klo  Ilman lämpötila (degC)  muutos tunnissa\n",
      "0   2019  10   1  00:00                    10.0              NaN\n",
      "1   2019  10   1  00:10                    10.0              NaN\n",
      "2   2019  10   1  00:20                     9.9              NaN\n",
      "3   2019  10   1  00:30                     9.9              NaN\n",
      "4   2019  10   1  00:40                     NaN              NaN\n",
      "5   2019  10   1  00:50                     9.7              NaN\n",
      "6   2019  10   1  01:00                     9.7             -0.3\n"
     ]
    }
   ],
   "source": [
    "df = pd.read_csv('http://student.labranet.jamk.fi/~varpe/datananals2019/kerta3/saa_jkl2019.csv', usecols=[0,1,2,3,5])\n",
    "\n",
    "print(df.head(7))\n",
    "\n",
    "print('\\n-----------\\n')\n",
    "\n",
    "df['muutos tunnissa']=df['Ilman lämpötila (degC)'].diff(6)\n",
    "\n",
    "\n",
    "print(df.head(7))"
   ]
  },
  {
   "cell_type": "markdown",
   "metadata": {},
   "source": [
    "<a id=\"29\"> </a>\n",
    "\n",
    "### cumsum\n",
    "`cumsum` laskee kumulatiivisen summan sarjan alusta lukien. Tällä voidaan laskea esimerkiksi montako kertaa joku tapahtuma on esiintynyt.\n",
    "\n",
    "Esimerkissä on Norwichin ottelut Englannin mestaruussarjassa 2018-2019 ja Teemu Pukin tekemät maalit. "
   ]
  },
  {
   "cell_type": "code",
   "execution_count": 47,
   "metadata": {},
   "outputs": [
    {
     "name": "stdout",
     "output_type": "stream",
     "text": [
      "         pvm     vastustaja  Pukin maalit\n",
      "0   4.8.2018     Birmingham             0\n",
      "1  11.8.2018  West Bromwich             1\n",
      "2  18.8.2018  Sheffield Utd             0\n",
      "3  22.8.2018        Preston             1\n",
      "4  25.8.2018          Leeds             0\n",
      "5   2.9.2018        Ipswich             0\n",
      "6  15.9.2018  Middlesbrough             1\n",
      "\n",
      "-----------\n",
      "\n",
      "          pvm     vastustaja  Pukin maalit  Pukki yht\n",
      "39   6.4.2019            QPR             2         26\n",
      "40  10.4.2019        Reading             0         26\n",
      "41  14.4.2019          Wigan             1         27\n",
      "42  19.4.2019  Sheffield Wed             0         27\n",
      "43  22.4.2019          Stoke             1         28\n",
      "44  27.4.2019      Blackburn             0         28\n",
      "45   5.5.2019    Aston Villa             1         29\n"
     ]
    }
   ],
   "source": [
    "df = pd.read_csv('http://student.labranet.jamk.fi/~varpe/datananals2019/kerta3/pukki.txt')\n",
    "\n",
    "print(df.head(7))\n",
    "\n",
    "print('\\n-----------\\n')\n",
    "\n",
    "df['Pukki yht']=df['Pukin maalit'].cumsum()\n",
    "\n",
    "print(df.tail(7))"
   ]
  },
  {
   "cell_type": "markdown",
   "metadata": {},
   "source": [
    "Muutamaa aikaisempaa metodia hyväksikäyttäen voidaan vaikka laskea mikä oli pisin \"maaliputki\", eli kuinka monessa peräkkäisessä ottelussa Pukki teki maaleja."
   ]
  },
  {
   "cell_type": "code",
   "execution_count": 48,
   "metadata": {},
   "outputs": [
    {
     "name": "stdout",
     "output_type": "stream",
     "text": [
      "         pvm     vastustaja  Pukin maalit  Pukki yht  maaliputki_alkaa\n",
      "0   4.8.2018     Birmingham             0          0             False\n",
      "1  11.8.2018  West Bromwich             1          1              True\n",
      "2  18.8.2018  Sheffield Utd             0          1             False\n",
      "3  22.8.2018        Preston             1          2              True\n",
      "4  25.8.2018          Leeds             0          2             False\n",
      "5   2.9.2018        Ipswich             0          2             False\n",
      "6  15.9.2018  Middlesbrough             1          3              True\n",
      "7  19.9.2018        Reading             1          4             False\n",
      "8  22.9.2018            QPR             1          5             False\n",
      "9  29.9.2018          Wigan             0          5             False\n",
      "\n",
      "-----------\n",
      "\n",
      "         pvm     vastustaja  Pukin maalit  Pukki yht  maaliputki_alkaa  \\\n",
      "0   4.8.2018     Birmingham             0          0             False   \n",
      "1  11.8.2018  West Bromwich             1          1              True   \n",
      "2  18.8.2018  Sheffield Utd             0          1             False   \n",
      "3  22.8.2018        Preston             1          2              True   \n",
      "4  25.8.2018          Leeds             0          2             False   \n",
      "5   2.9.2018        Ipswich             0          2             False   \n",
      "6  15.9.2018  Middlesbrough             1          3              True   \n",
      "7  19.9.2018        Reading             1          4             False   \n",
      "8  22.9.2018            QPR             1          5             False   \n",
      "9  29.9.2018          Wigan             0          5             False   \n",
      "\n",
      "   maaliputki_nro  \n",
      "0               0  \n",
      "1               1  \n",
      "2               1  \n",
      "3               2  \n",
      "4               2  \n",
      "5               2  \n",
      "6               3  \n",
      "7               3  \n",
      "8               3  \n",
      "9               3  \n",
      "\n",
      "-----------\n",
      "\n",
      "maaliputki_nro\n",
      "8     6\n",
      "4     3\n",
      "3     3\n",
      "5     2\n",
      "13    1\n",
      "12    1\n",
      "11    1\n",
      "10    1\n",
      "9     1\n",
      "7     1\n",
      "6     1\n",
      "2     1\n",
      "1     1\n",
      "Name: Pukin maalit, dtype: int64\n"
     ]
    }
   ],
   "source": [
    "df['maaliputki_alkaa'] = (df['Pukin maalit']>0) & (df['Pukin maalit'].shift(1)==0)  \n",
    "# tämä antaa aina 1.riville False, mutta nyt nähdään että menee oikein\n",
    " \n",
    "print(df.head(10))\n",
    "\n",
    "print('\\n-----------\\n')\n",
    "\n",
    "df['maaliputki_nro']  = df['maaliputki_alkaa'].cumsum()\n",
    "\n",
    "print(df.head(10))\n",
    "\n",
    "print('\\n-----------\\n')\n",
    "\n",
    "# tässä maali-otteluiden määrät ryhmiteltynä maaliputken numeron mukaan\n",
    "\n",
    "print(df[df['Pukin maalit']>0].groupby('maaliputki_nro')['Pukin maalit'].count().sort_values(ascending=False))\n"
   ]
  }
 ],
 "metadata": {
  "kernelspec": {
   "display_name": "Python 3",
   "language": "python",
   "name": "python3"
  },
  "language_info": {
   "codemirror_mode": {
    "name": "ipython",
    "version": 3
   },
   "file_extension": ".py",
   "mimetype": "text/x-python",
   "name": "python",
   "nbconvert_exporter": "python",
   "pygments_lexer": "ipython3",
   "version": "3.9.0"
  }
 },
 "nbformat": 4,
 "nbformat_minor": 2
}
