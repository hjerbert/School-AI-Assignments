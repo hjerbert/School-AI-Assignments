{
 "cells": [
  {
   "cell_type": "code",
   "execution_count": 3,
   "metadata": {},
   "outputs": [],
   "source": [
    "import numpy as np\n",
    "from numpy import array\n",
    "import math"
   ]
  },
  {
   "cell_type": "markdown",
   "metadata": {},
   "source": [
    "$$\n",
    "\\text{nopeus}=\\sqrt{\\frac{\\text{kantama}\\cdot 9.82\\ \\text{m}/\\text{s}^2}{\\sin{\\left( 2\\cdot \\text{kulma} \\right)}}}.\n",
    "$$"
   ]
  },
  {
   "cell_type": "code",
   "execution_count": 13,
   "metadata": {},
   "outputs": [
    {
     "name": "stdout",
     "output_type": "stream",
     "text": [
      "[2.55295306 2.07392382 1.99683532 1.92143193 1.83822454]\n",
      "[1.70138547 1.74679012 1.78097164 1.79465625 1.78237724]\n"
     ]
    }
   ],
   "source": [
    "def nopeus(kulma, kantama):\n",
    "    import numpy as np\n",
    "    # Kirjoita vastauksesi tämän funktiorakenteen sisälle:\n",
    "    \n",
    "    # muutetaan parametrit oikeaan muotoon\n",
    "    kulma_arr = np.array(kulma)\n",
    "    kantama_arr_cm = np.array(kantama)\n",
    "    \n",
    "    # muutetaan kantama (cm) metreiksi (m)\n",
    "    kantama_arr_m = kantama_arr_cm / 100\n",
    "    \n",
    "    # muutetaan kulma (asteet) radiaaneksi\n",
    "    \n",
    "    kulma_arr_rad = np.radians(kulma_arr)\n",
    "    \n",
    "    # laskukaava\n",
    "    \n",
    "    m = kantama_arr_m * 9.82\n",
    "    k = np.sin(2*kulma_arr_rad)\n",
    "    mk = np.sqrt(m/k)\n",
    "    \n",
    "    \n",
    "    return mk\n",
    "    # Älä kirjoita missään tapauksessa muita print komentoja tämän rakenteen sisälle, koska silloin vastauksesi tulkitaan virheelliseksi.\n",
    "    \n",
    "    # Lopuksi tulostetaan määrittämäsi numpy taulukko nopeus:\n",
    "print(nopeus([10, 15, 20, 25, 30], [22.7, 21.9, 26.1, 28.8, 29.8]))\n",
    "print(nopeus([35, 40, 45, 50, 55], [27.7, 30.6, 32.3, 32.3, 30.4]))"
   ]
  },
  {
   "cell_type": "code",
   "execution_count": 57,
   "metadata": {
    "scrolled": true
   },
   "outputs": [
    {
     "name": "stdout",
     "output_type": "stream",
     "text": [
      "[2.55295306 2.07392382 1.99683532 1.92143193 1.83822454]\n"
     ]
    }
   ],
   "source": [
    "# Voit testata funktiotasi seuraavalla lähtödatalla:\n",
    "kulma = [10, 15, 20, 25, 30]\n",
    "kantama = [22.7, 21.9, 26.1, 28.8, 29.8]\n",
    "\n",
    "def nopeus(kulma, kantama):\n",
    "    \n",
    "    # muutetaan parametrit oikeaan muotoon\n",
    "    kulma_arr = np.array(kulma)\n",
    "    kantama_arr_cm = np.array(kantama)\n",
    "    \n",
    "    # muutetaan kantama (cm) metreiksi (m)\n",
    "    kantama_arr_m = kantama_arr_cm / 100\n",
    "    \n",
    "    # muutetaan kulma (asteet) radiaaneksi\n",
    "    \n",
    "    kulma_arr_rad = np.radians(kulma_arr)\n",
    "    \n",
    "    # laskukaava\n",
    "    \n",
    "    m = kantama_arr_m * 9.82\n",
    "    k = np.sin(2*kulma_arr_rad)\n",
    "    mk = np.sqrt(m/k)\n",
    "    \n",
    "    \n",
    "    return mk\n",
    "\n",
    "\n",
    "print(nopeus(kulma, kantama))"
   ]
  },
  {
   "cell_type": "code",
   "execution_count": 52,
   "metadata": {
    "scrolled": true
   },
   "outputs": [
    {
     "data": {
      "text/plain": [
       "'[2.55295306 2.07392382 1.99683532 1.92143193 1.83822454]'"
      ]
     },
     "execution_count": 52,
     "metadata": {},
     "output_type": "execute_result"
    }
   ],
   "source": [
    "'''[2.55295306 2.07392382 1.99683532 1.92143193 1.83822454]'''"
   ]
  },
  {
   "cell_type": "markdown",
   "metadata": {},
   "source": [
    "## 2. Looginen valinta ja laskenta NumPy taulukoilla\n",
    "\n",
    "Tee NumPy taulukoita hyväksikäyttäen funktio **vertaa(luvut1, luvut2)**, joka ottaa argumenteikseen python taulukot (luvut1 ja luvut2) ja tekee seuraavat laskutoimitukset:\n",
    "* Luodaan taulukoista \"luvut1\" ja \"luvut2\" uudet saman kokoiset NumPy taulukot, joissa on samat lukuarvot.\n",
    "* Jatkolaskut tehdään pelkästään luotujen NumPy taulukoiden avulla.\n",
    "* Jos taulukossa \"luvut1\" alkio rivillä i ja sarakkeessa j on pienempi kuin taulukossa \"luvut2\" alkio rivillä i ja sarakkeessa j, tulostetaan taulukkoon \"luvut1\" riville i ja sarakkeeseen j kokonaisluku \"-1\".\n",
    "* Lasketaan \"tulos\" taulukoksi alkioittainen summa \"luvut1\" ja \"luvut2\" taulukoiden arvoista.\n",
    "* Alkioittaisessa summassa lasketaan yhteen summattavien taulukoiden alkiot, joilla on sama rivi- ja sarakeindeksi.\n",
    "* Annetaan vastaukseksi \"tulos\" taulukko tulosteena.\n",
    "\n",
    "Funktiolle **vertaa** annettavat (3 x 3) python taulukot ovat:\n",
    "* luvut1 = [[12, 2, 4], [5, 1, 2], [9, 3, 45]]\n",
    "* luvut2 = [[11, 9, 32], [2, 3, 1], [0, 3, 10]]\n",
    "\n",
    "**Esimerkiksi** vertaa(luvut1, luvut2) tulostaa:\n",
    "<img src=\"https://student.labranet.jamk.fi/~huoptu/datananal_s20/kerta1/.s20harkkatd/teht2.png\" width=\"110\"/>\n",
    "\n",
    "**Huom!** Tässä tehtävässä ei saa käyttää for silmukoita. Tutustu NumPy [taulukon suodatukseen Boolean taulukon avulla](https://student.labranet.jamk.fi/~huoptu/datananal_s20/kerta1/s20kerta1.html#7).\n",
    "\n"
   ]
  },
  {
   "cell_type": "code",
   "execution_count": 30,
   "metadata": {},
   "outputs": [
    {
     "data": {
      "text/plain": [
       "array([[23,  8, 31],\n",
       "       [ 7,  2,  3],\n",
       "       [ 9,  6, 55]])"
      ]
     },
     "execution_count": 30,
     "metadata": {},
     "output_type": "execute_result"
    }
   ],
   "source": [
    "luvut1 = [[12, 2, 4], [5, 1, 2], [9, 3, 45]]\n",
    "luvut2 = [[11, 9, 32], [2, 3, 1], [0, 3, 10]]\n",
    "\n",
    "\n",
    "def vertaa(luvut1, luvut2):\n",
    "    \n",
    "    \n",
    "    # Luodaan taulukoista \"luvut1\" ja \"luvut2\" uudet saman kokoiset NumPy taulukot, joissa on samat lukuarvot.\n",
    "    \n",
    "    arr1 = np.array(luvut1)\n",
    "    arr2 = np.array(luvut2)\n",
    "   \n",
    "    \n",
    "    \n",
    "    '''Jos taulukossa \"luvut1\" alkio rivillä i ja sarakkeessa j on pienempi kuin taulukossa \"luvut2\" alkio rivillä i ja sarakkeessa j, \n",
    "      tulostetaan taulukkoon \"luvut1\" riville i ja sarakkeeseen j kokonaisluku \"-1\".'''\n",
    "    \n",
    "    arr1[arr1 < arr2] = -1\n",
    "    \n",
    "    \n",
    "    \n",
    "    \n",
    "    # Lasketaan \"tulos\" taulukoksi alkioittainen summa \"luvut1\" ja \"luvut2\" taulukoiden arvoista.\n",
    "    tulos = arr1 + arr2\n",
    "     \n",
    "\n",
    "\n",
    "vertaa(luvut1, luvut2)"
   ]
  },
  {
   "cell_type": "code",
   "execution_count": 29,
   "metadata": {
    "scrolled": true
   },
   "outputs": [
    {
     "name": "stdout",
     "output_type": "stream",
     "text": [
      "[[12 -1 -1]\n",
      " [ 5 -1  2]\n",
      " [ 9  3 45]]\n"
     ]
    }
   ],
   "source": [
    "kulma = [10, 15, 20, 25, 30]\n",
    "kantama = [22.7, 21.9, 26.1, 28.8, 29.8]\n",
    "\n",
    "arr1 = np.array(luvut1)\n",
    "arr2 = np.array(luvut2)\n",
    "\n",
    "arr1[arr1 < arr2] = -1\n",
    "\n",
    "print(arr1)"
   ]
  }
 ],
 "metadata": {
  "kernelspec": {
   "display_name": "Python 3",
   "language": "python",
   "name": "python3"
  },
  "language_info": {
   "codemirror_mode": {
    "name": "ipython",
    "version": 3
   },
   "file_extension": ".py",
   "mimetype": "text/x-python",
   "name": "python",
   "nbconvert_exporter": "python",
   "pygments_lexer": "ipython3",
   "version": "3.9.0"
  }
 },
 "nbformat": 4,
 "nbformat_minor": 4
}
