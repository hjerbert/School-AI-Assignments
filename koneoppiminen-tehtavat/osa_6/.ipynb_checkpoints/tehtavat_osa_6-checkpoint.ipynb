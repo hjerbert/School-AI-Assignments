{
 "cells": [
  {
   "cell_type": "markdown",
   "metadata": {},
   "source": [
    "# Koneoppiminen: Osa 6: Satunnaismetsä"
   ]
  },
  {
   "cell_type": "code",
   "execution_count": 2,
   "metadata": {
    "tags": [
     "student_info"
    ]
   },
   "outputs": [],
   "source": [
    "# Kirjoita tähän tietosi!\n",
    "student_name = 'Ville Karjalainen'\n",
    "student_id = 'AA5075'"
   ]
  },
  {
   "cell_type": "markdown",
   "metadata": {},
   "source": [
    "## Tehtävä 1\n",
    "### Aihe: Tekstiilityöntekijöiden tuottavuus\n",
    "\n",
    "4 pistettä\n",
    "\n",
    "1. Tutustu ja lataa aineisto osoitteesta https://archive.ics.uci.edu/ml/datasets/Productivity+Prediction+of+Garment+Employees# . Lataa aineisto DataFrameen. \n",
    "\n",
    "2. Jätä pois taustamuuttujat analysoitavasta datasta.\n",
    "\n",
    "3. Ratkaise mitä teet puuttuville arvoille.\n",
    "\n",
    "4. Normalisoi. \n",
    "\n",
    "5. Luo lisäksi luokkamuuttuja, joka on arvoltaa 0, jos tuottavuus on alle 0.5 ja arvoltaan 1, jos tuottavuus on yli 0.5. Tallenna tämä df-muuttujaan sarakkeeksi `class`."
   ]
  },
  {
   "cell_type": "code",
   "execution_count": 66,
   "metadata": {},
   "outputs": [],
   "source": [
    "# Kirjoita toteutuksesi tähän soluun. \n",
    "import pandas as pd\n",
    "import numpy as np\n",
    "from sklearn import preprocessing\n",
    "\n",
    "# Lataa aineisto DataFrameen\n",
    "url = 'https://archive.ics.uci.edu/ml/machine-learning-databases/00597/garments_worker_productivity.csv'\n",
    "df = pd.read_csv(url)\n",
    "\n",
    "# Jätä pois taustamuuttujat analysoitavasta datasta\n",
    "taustamuuttujat = ['department', 'date', 'quarter', 'day', 'team']\n",
    "\n",
    "# tehdään taustamuuttujista dummy-data\n",
    "dummies = pd.get_dummies(df).drop(['actual_productivity', 'targeted_productivity'], axis=1)\n",
    "\n",
    "# yhdistetään dummy-data ja alkuperäiset arvot\n",
    "merged = pd.concat([df, dummies], axis=1)\n",
    "\n",
    "# tiputetaan pois taustamuuttuja columnit (kategoriset arvot)\n",
    "merged.drop(taustamuuttujat, axis=1, inplace=True)\n",
    "\n",
    "# täytetään puuttuvat arvot 'pad'-menetelmällä\n",
    "merged.fillna(method='pad', inplace=True)\n",
    "\n",
    "# luokkamuuttuja, joka on arvoltaa 0, jos tuottavuus on alle 0.5 ja arvoltaan 1, jos tuottavuus on yli 0.5\n",
    "merged['class'] = np.where(df['actual_productivity'] < 0.5, 1, 0)\n",
    "\n",
    "# kopioidaan data\n",
    "df_min_max_scaled = merged.copy()\n",
    "\n",
    "# dataframen normalisointi\n",
    "x = df_min_max_scaled.values\n",
    "min_max_scaler = preprocessing.MinMaxScaler()\n",
    "x_scaled = min_max_scaler.fit_transform(x)\n",
    "df_scaled = pd.DataFrame(x_scaled, columns=df_min_max_scaled.columns)\n",
    "df_scaled.drop(['class', 'actual_productivity'], axis=1, inplace=True)"
   ]
  },
  {
   "cell_type": "code",
   "execution_count": 42,
   "metadata": {
    "tags": [
     "answer_6_1"
    ]
   },
   "outputs": [
    {
     "name": "stdout",
     "output_type": "stream",
     "text": [
      "Columns: Index(['date', 'quarter', 'department', 'day', 'team', 'targeted_productivity',\n",
      "       'smv', 'wip', 'over_time', 'incentive', 'idle_time', 'idle_men',\n",
      "       'no_of_style_change', 'no_of_workers', 'actual_productivity'],\n",
      "      dtype='object')\n",
      "First row by position: date                     1/1/2015\n",
      "quarter                  Quarter1\n",
      "department                 sweing\n",
      "day                      Thursday\n",
      "team                            8\n",
      "targeted_productivity         0.8\n",
      "smv                         26.16\n",
      "wip                          1108\n",
      "over_time                    7080\n",
      "incentive                      98\n",
      "idle_time                       0\n",
      "idle_men                        0\n",
      "no_of_style_change              0\n",
      "no_of_workers                  59\n",
      "actual_productivity      0.940725\n",
      "Name: 0, dtype: object\n"
     ]
    }
   ],
   "source": [
    "# Tehtävän vastaukset. Huom! Älä muokkaa tätä solua, vaan aja se, kun olet suorittanut tehtävän. \n",
    "# Tallenna DataFrame df-muuttujaan ja koulutusaineisto.\n",
    "print(f'Columns: {df.columns}')\n",
    "print(f'First row by position: {df.iloc[0]}')"
   ]
  },
  {
   "cell_type": "markdown",
   "metadata": {},
   "source": [
    "## Tehtävä 2\n",
    "### Aihe: Regressio\n",
    "\n",
    "3 pistettä\n",
    "\n",
    "1. Jaa aineisto koulutus- (67%) ja testausaineistoksi (33%) tallentaen myös luokkamuuttujat omiksi vektoreiksi (`X_train`, `y_train`, `X_test`, `y_test`). Käytä satunnaissiementä `23`.\n",
    "\n",
    "Vinkki: älä laita sarakkeita `actual_productivity` tai `class` aineistoon `X`-muuttujiin.\n",
    "\n",
    "2. Käytä `scikit-learn`-kirjaston `ensemble`-moduulin [funktioita](https://scikit-learn.org/stable/modules/classes.html#module-sklearn.ensemble) ja luo regressiomalli satunnaismetsää hyödyntäen. Yritetään siis ennustaa `actual_productivity`-muuttujaa. \n",
    "\n",
    "Käytä satunnaissiementä `753`.\n",
    "\n",
    "3. Ennusta testausaineiston `actual_productivity`. Tallenna selitetty varianssi `exp_var` ja suurin virhe `max_err` kirjaston `metrics`-moduulin työkaluilla."
   ]
  },
  {
   "cell_type": "code",
   "execution_count": 49,
   "metadata": {
    "scrolled": true
   },
   "outputs": [],
   "source": [
    "# Kirjoita toteutuksesi tähän soluun. \n",
    "from sklearn.model_selection import train_test_split\n",
    "from sklearn.ensemble import RandomForestRegressor\n",
    "from sklearn.metrics import explained_variance_score\n",
    "from sklearn.metrics import max_error\n",
    "\n",
    "X = df_scaled\n",
    "y = merged['actual_productivity'] # Yritetään ennustaa actual_productivity-muuttujaa.\n",
    "\n",
    "# Jaetaan aineisto koulutus- (67%) ja testausaineistoksi (33%) tallentaen myös luokkamuuttujat omiksi vektoreiksi (X_train, y_train, X_test, y_test). Käytä satunnaissiementä 23.\n",
    "X_train, X_test, y_train, y_test = train_test_split(X, y, test_size=0.33, random_state=23) # Käytä satunnaissiemenenä lukua 23 ja testiaieiston kokoe 33%.\n",
    "\n",
    "# Käytä scikit-learn-kirjaston ensemble-moduulin funktioita ja luo regressiomalli satunnaismetsää hyödyntäen. Yritetään siis ennustaa actual_productivity-muuttujaa.\n",
    "random_forest = RandomForestRegressor(n_estimators = 753) # Käytä satunnaissiementä 753\n",
    "\n",
    "random_forest.fit(X_train, y_train) # koulutetaan malli koulutusaineistolla\n",
    "\n",
    "y_pred = random_forest.predict(X_test)\n",
    "\n",
    "# tallennetaan regression tarkkuudet omiin muuttujiin\n",
    "exp_var = explained_variance_score(y_test, y_pred)\n",
    "max_err = max_error(y_test, y_pred)"
   ]
  },
  {
   "cell_type": "code",
   "execution_count": 50,
   "metadata": {
    "tags": [
     "answer_6_2"
    ]
   },
   "outputs": [
    {
     "name": "stdout",
     "output_type": "stream",
     "text": [
      "Test length: 396\n",
      "Train length: 801\n",
      "Train columns: Index(['targeted_productivity', 'smv', 'wip', 'over_time', 'incentive',\n",
      "       'idle_time', 'idle_men', 'no_of_style_change', 'no_of_workers', 'smv',\n",
      "       'wip', 'over_time', 'incentive', 'idle_time', 'idle_men',\n",
      "       'no_of_style_change', 'no_of_workers', 'date_1/1/2015',\n",
      "       'date_1/10/2015', 'date_1/11/2015', 'date_1/12/2015', 'date_1/13/2015',\n",
      "       'date_1/14/2015', 'date_1/15/2015', 'date_1/17/2015', 'date_1/18/2015',\n",
      "       'date_1/19/2015', 'date_1/20/2015', 'date_1/21/2015', 'date_1/22/2015',\n",
      "       'date_1/24/2015', 'date_1/25/2015', 'date_1/26/2015', 'date_1/27/2015',\n",
      "       'date_1/28/2015', 'date_1/29/2015', 'date_1/3/2015', 'date_1/31/2015',\n",
      "       'date_1/4/2015', 'date_1/5/2015', 'date_1/6/2015', 'date_1/7/2015',\n",
      "       'date_1/8/2015', 'date_2/1/2015', 'date_2/10/2015', 'date_2/11/2015',\n",
      "       'date_2/12/2015', 'date_2/14/2015', 'date_2/15/2015', 'date_2/16/2015',\n",
      "       'date_2/17/2015', 'date_2/18/2015', 'date_2/19/2015', 'date_2/2/2015',\n",
      "       'date_2/22/2015', 'date_2/23/2015', 'date_2/24/2015', 'date_2/25/2015',\n",
      "       'date_2/26/2015', 'date_2/28/2015', 'date_2/3/2015', 'date_2/4/2015',\n",
      "       'date_2/5/2015', 'date_2/7/2015', 'date_2/8/2015', 'date_2/9/2015',\n",
      "       'date_3/1/2015', 'date_3/10/2015', 'date_3/11/2015', 'date_3/2/2015',\n",
      "       'date_3/3/2015', 'date_3/4/2015', 'date_3/5/2015', 'date_3/7/2015',\n",
      "       'date_3/8/2015', 'date_3/9/2015', 'quarter_Quarter1',\n",
      "       'quarter_Quarter2', 'quarter_Quarter3', 'quarter_Quarter4',\n",
      "       'quarter_Quarter5', 'department_finishing', 'department_finishing ',\n",
      "       'department_sweing', 'day_Monday', 'day_Saturday', 'day_Sunday',\n",
      "       'day_Thursday', 'day_Tuesday', 'day_Wednesday'],\n",
      "      dtype='object')\n",
      "Explained variance: 0.42305342919061273\n",
      "Maximum error: 0.6600336963180583\n"
     ]
    }
   ],
   "source": [
    "# Tehtävän vastaukset. Huom! Älä muokkaa tätä solua, vaan aja se, kun olet suorittanut tehtävän. \n",
    "# Tallenna vastaukset exp_var- ja max_err-muuttujiin.\n",
    "print(f'Test length: {len(X_test)}')\n",
    "print(f'Train length: {len(X_train)}')\n",
    "print(f'Train columns: {X_train.columns}')\n",
    "print(f'Explained variance: {exp_var}')\n",
    "print(f'Maximum error: {max_err}')"
   ]
  },
  {
   "cell_type": "markdown",
   "metadata": {},
   "source": [
    "## Tehtävä 3\n",
    "### Aihe: Luokittelu\n",
    "\n",
    "3 pistettä\n",
    "\n",
    "1. Muodosta koulutus- ja testausaineisto. Käytä satunnaissiementä `23`. Huomioi, että nyt ennustetaan `class`-muuttujaa.\n",
    "\n",
    "2. Käytä `scikit-learn`-kirjaston `ensemble`-moduulin [funktioita](https://scikit-learn.org/stable/modules/classes.html#module-sklearn.ensemble) ja luo luokittelumalli satunnaismetsää hyödyntäen. Käytä satunnaissiementä 753. Yritetään siis ennustaa luokkamuuttujaa `class`. \n",
    "\n",
    "3. Ennusta testausaineistosta `class`. Luo tarkkuusraportti `cr` ja sekaannusmatriisi `cm` kirjaston `metrics`-moduulin työkaluilla."
   ]
  },
  {
   "cell_type": "code",
   "execution_count": 63,
   "metadata": {},
   "outputs": [],
   "source": [
    "# Kirjoita toteutuksesi tähän soluun. \n",
    "from sklearn.ensemble import RandomForestClassifier\n",
    "from sklearn.metrics import classification_report, confusion_matrix\n",
    "\n",
    "X = df_scaled\n",
    "y_class = merged['class'] # Yritetään ennustaa class-luokkamuuttujaa.\n",
    "\n",
    "X2_train, X2_test, y2_train, y2_test = train_test_split(X, y_class, test_size=0.33, random_state=23) # Käytä satunnaissiemenenä lukua 23 ja testiaieiston kokoe 33%.\n",
    "\n",
    "# luodaan luokittelija\n",
    "clf = RandomForestClassifier(n_estimators = 753) # Käytä satunnaissiementä 753\n",
    "\n",
    "clf.fit(X2_train, y2_train) # koulutetaan malli koulutusaineistolla\n",
    "\n",
    "y2_pred = clf.predict(X2_test) # ennustetaan mallin avulla luokkia\n",
    "\n",
    "# Luo metrics-moduulilla tarkkuusraportti aineiston ennusteille, tallennetaan se cr-muuttujaan\n",
    "cr = classification_report(y2_test, y2_pred)\n",
    "\n",
    "# Luo metrics-moduulilla sekaannusmatriisi ja tallenna se cm-muuttujaan.\n",
    "cm = confusion_matrix(y2_test, y2_pred)"
   ]
  },
  {
   "cell_type": "code",
   "execution_count": 64,
   "metadata": {
    "tags": [
     "answer_6_3"
    ]
   },
   "outputs": [
    {
     "name": "stdout",
     "output_type": "stream",
     "text": [
      "Test length: 396\n",
      "Train length: 801\n",
      "              precision    recall  f1-score   support\n",
      "\n",
      "           0       0.94      0.97      0.95       361\n",
      "           1       0.54      0.40      0.46        35\n",
      "\n",
      "    accuracy                           0.92       396\n",
      "   macro avg       0.74      0.68      0.71       396\n",
      "weighted avg       0.91      0.92      0.91       396\n",
      "\n",
      "[[349  12]\n",
      " [ 21  14]]\n"
     ]
    }
   ],
   "source": [
    "# Tehtävän vastaukset. Huom! Älä muokkaa tätä solua, vaan aja se, kun olet suorittanut tehtävän. \n",
    "# Tulokset ovat cm- ja cr-muuttujissa. \n",
    "print(f'Test length: {len(X_test)}')\n",
    "print(f'Train length: {len(X_train)}')\n",
    "print(cr)\n",
    "print(cm)"
   ]
  }
 ],
 "metadata": {
  "kernelspec": {
   "display_name": "Python 3",
   "language": "python",
   "name": "python3"
  },
  "language_info": {
   "codemirror_mode": {
    "name": "ipython",
    "version": 3
   },
   "file_extension": ".py",
   "mimetype": "text/x-python",
   "name": "python",
   "nbconvert_exporter": "python",
   "pygments_lexer": "ipython3",
   "version": "3.9.0"
  }
 },
 "nbformat": 4,
 "nbformat_minor": 4
}
