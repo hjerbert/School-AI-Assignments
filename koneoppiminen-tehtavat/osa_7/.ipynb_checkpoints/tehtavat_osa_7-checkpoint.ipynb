{
 "cells": [
  {
   "cell_type": "markdown",
   "metadata": {},
   "source": [
    "# Koneoppiminen: Osa 7: Perseptroni"
   ]
  },
  {
   "cell_type": "code",
   "execution_count": 1,
   "metadata": {
    "tags": [
     "student_info"
    ]
   },
   "outputs": [],
   "source": [
    "# Kirjoita tähän tietosi!\n",
    "student_name = 'Ville Karjalainen'\n",
    "student_id = 'AA5075'"
   ]
  },
  {
   "cell_type": "markdown",
   "metadata": {},
   "source": [
    "## Tehtävä 1\n",
    "### Aihe: Onnellisuus\n",
    "\n",
    "2 pistettä\n",
    "\n",
    "Tutustu aineistoon *Somerville Happiness Survey Data Set* osoitteessa https://archive.ics.uci.edu/ml/datasets/Somerville+Happiness+Survey . \n",
    "\n",
    "Esikäsittele aineisto. Käytä scikit-learn. Muista asettaa sarakkeiden nimet. \n",
    "\n",
    "Vinkki: UTF-16-enkoodattuja tiedostoja varten Pandasin CSV-funktiosta löytyy parametri `encoding='utf-16'`.\n",
    "\n",
    "Vinkki: kannattaa *one-hot*-koodata kategoria"
   ]
  },
  {
   "cell_type": "code",
   "execution_count": 1,
   "metadata": {},
   "outputs": [],
   "source": [
    "# Kirjoita toteutuksesi tähän soluun. \n",
    "import pandas as pd\n",
    "import numpy as np\n",
    "from sklearn import preprocessing\n",
    "from sklearn.preprocessing import OneHotEncoder\n",
    "\n",
    "url = 'https://archive.ics.uci.edu/ml/machine-learning-databases/00479/SomervilleHappinessSurvey2015.csv'\n",
    "df = pd.read_csv(url, encoding='utf-16')\n",
    "\n",
    "# uudelleen nimetään sarakkeet\n",
    "columns = {\n",
    "    'D':'decision attribute (D) with values 0 (unhappy) and 1 (happy)',\n",
    "    'X1':'the availability of information about the city services',\n",
    "    'X2':'the cost of housing',\n",
    "    'X3':'the overall quality of public schools',\n",
    "    'X4':'your trust in the local police',\n",
    "    'X5':'the maintenance of streets and sidewalks',\n",
    "    'X6':'the availability of social community events'\n",
    "}\n",
    "\n",
    "df.rename(columns=columns, inplace=True)\n",
    "\n",
    "le = preprocessing.LabelEncoder()\n",
    "\n",
    "X_2 = df.drop(df.columns[0], axis=1).apply(le.fit_transform)\n",
    "\n",
    "enc = OneHotEncoder()\n",
    "enc.fit(X_2)\n",
    "onehotlabels = enc.transform(X_2).toarray()"
   ]
  },
  {
   "cell_type": "code",
   "execution_count": 2,
   "metadata": {
    "tags": [
     "answer_7_1"
    ]
   },
   "outputs": [
    {
     "name": "stdout",
     "output_type": "stream",
     "text": [
      "Columns: Index(['decision attribute (D) with values 0 (unhappy) and 1 (happy)',\n",
      "       'the availability of information about the city services',\n",
      "       'the cost of housing', 'the overall quality of public schools',\n",
      "       'your trust in the local police',\n",
      "       'the maintenance of streets and sidewalks',\n",
      "       'the availability of social community events'],\n",
      "      dtype='object')\n",
      "First row by position: decision attribute (D) with values 0 (unhappy) and 1 (happy)    0\n",
      "the availability of information about the city services         3\n",
      "the cost of housing                                             3\n",
      "the overall quality of public schools                           3\n",
      "your trust in the local police                                  4\n",
      "the maintenance of streets and sidewalks                        2\n",
      "the availability of social community events                     4\n",
      "Name: 0, dtype: int64\n"
     ]
    }
   ],
   "source": [
    "# Tehtävän vastaukset. Huom! Älä muokkaa tätä solua, vaan aja se, kun olet suorittanut tehtävän. \n",
    "# Tallenna DataFrame df-muuttujaan ja koulutusaineisto.\n",
    "print(f'Columns: {df.columns}')\n",
    "print(f'First row by position: {df.iloc[0]}')"
   ]
  },
  {
   "cell_type": "markdown",
   "metadata": {},
   "source": [
    "## Tehtävä 2\n",
    "### Aihe: Koulutusaineisto\n",
    "\n",
    "2 pistettä\n",
    "\n",
    "Jaa aineisto koulutus- (67%) ja testausaineistoon (33%) (`X_train`, `y_train`, `X_test`, `y_test`). Käytä satunnaissiementä `9001`."
   ]
  },
  {
   "cell_type": "code",
   "execution_count": 3,
   "metadata": {},
   "outputs": [],
   "source": [
    "# Kirjoita toteutuksesi tähän soluun. \n",
    "from sklearn.model_selection import train_test_split\n",
    "\n",
    "X, y = onehotlabels, df.iloc[:,0]\n",
    "\n",
    "X_train, X_test, y_train, y_test = train_test_split(\n",
    "    X, y, test_size=0.33, random_state=9001)"
   ]
  },
  {
   "cell_type": "code",
   "execution_count": 4,
   "metadata": {
    "tags": [
     "answer_7_2"
    ]
   },
   "outputs": [
    {
     "name": "stdout",
     "output_type": "stream",
     "text": [
      "Test length: 48\n",
      "Train length: 95\n"
     ]
    }
   ],
   "source": [
    "# Tehtävän vastaukset. Huom! Älä muokkaa tätä solua, vaan aja se, kun olet suorittanut tehtävän. \n",
    "# Tallenna DataFrame df-muuttujaan ja koulutusaineisto.\n",
    "print(f'Test length: {len(X_test)}')\n",
    "print(f'Train length: {len(X_train)}')"
   ]
  },
  {
   "cell_type": "markdown",
   "metadata": {},
   "source": [
    "## Tehtävä 3\n",
    "### Aihe: Perseptroni\n",
    "\n",
    "2 pistettä\n",
    "\n",
    "1. Käytä `scikit-learn`-kirjaston lineaarista perseptronia luodaksesi luokittelija. Käytä satunnaissiementä `9001`. Tallenna luokittelija `pc`-muuttujaan.\n",
    "\n",
    "2. Ennusta testausaineistosi todennäköisyys olla luokassa käyttäen luokittelijaasi ja tallenna luottamuspisteet muuttujaan `y_score`. Tallenna ennustettujen luokkien tulos muuttujaan `y_pred`.\n",
    "\n",
    "Vinkki: luottamuspisteet saa lineaarisesta perseptronista `decision_function()`-funktiolla."
   ]
  },
  {
   "cell_type": "code",
   "execution_count": 9,
   "metadata": {},
   "outputs": [],
   "source": [
    "# Kirjoita toteutuksesi tähän soluun. \n",
    "from sklearn.datasets import load_digits\n",
    "from sklearn.linear_model import Perceptron\n",
    "\n",
    "# luodaan perseptron\n",
    "pc = Perceptron(random_state=9001)\n",
    "\n",
    "# sovitetaan koulutusaineisto perseptroniin\n",
    "pc.fit(X_train, y_train)\n",
    "\n",
    "# tallennetaan perseptronin ennuste muuttujaan\n",
    "y_pred = pc.predict(X_test)\n",
    "\n",
    "# luottamuspisteet\n",
    "y_score = pc.decision_function(X_test)"
   ]
  },
  {
   "cell_type": "code",
   "execution_count": 7,
   "metadata": {
    "tags": [
     "answer_7_3"
    ]
   },
   "outputs": [
    {
     "name": "stdout",
     "output_type": "stream",
     "text": [
      "Average test accuracy: 0.4583333333333333\n"
     ]
    }
   ],
   "source": [
    "# Tehtävän vastaukset. Huom! Älä muokkaa tätä solua, vaan aja se, kun olet suorittanut tehtävän. \n",
    "print(f'Average test accuracy: {pc.score(X_test, y_test)}')"
   ]
  },
  {
   "cell_type": "markdown",
   "metadata": {},
   "source": [
    "## Tehtävä 4\n",
    "### Aihe: Kynnysarvon optimointikäyrä\n",
    "\n",
    "4 pistettä\n",
    "\n",
    "1. Tallenna luokitteluraportti `cr` ja sekaannusmatriisi `cm` käyttäen `metrics`-moduulia.\n",
    "\n",
    "2. Laske regressiolle ROC-arvot `scikit-learn`-kirjaston `metrics`-moduulin avulla. Laske myös ROC-käyrän alainen alue muuttujaa `auc`.\n",
    "\n",
    "3. Piirrä kynnysarvon optimointikäyrä `matplotlib`-kirjastolla. \n",
    "\n",
    "4. Kirjoita `pohdinta`-merkkijonomuuttujaan mitä ajatuksia ROC-käyrä ja tarkkuus herättävät. "
   ]
  },
  {
   "cell_type": "code",
   "execution_count": 23,
   "metadata": {},
   "outputs": [
    {
     "data": {
      "image/png": "[encoded data removed]",
      "text/plain": [
       "<Figure size 432x288 with 1 Axes>"
      ]
     },
     "metadata": {
      "needs_background": "light"
     },
     "output_type": "display_data"
    }
   ],
   "source": [
    "# Kirjoita toteutuksesi tähän soluun.\n",
    "import matplotlib.pyplot as plt\n",
    "from sklearn.metrics import roc_curve, auc, classification_report, confusion_matrix\n",
    "\n",
    "# Luo metrics-moduulilla tarkkuusraportti aineiston ennusteille, tallennetaan se cr-muuttujaan\n",
    "cr = classification_report(y_test, y_pred)\n",
    "\n",
    "# Luo metrics-moduulilla sekaannusmatriisi ja tallenna se cm-muuttujaan.\n",
    "cm = confusion_matrix(y_test, y_pred)\n",
    "\n",
    "# Laske regressiolle ROC-arvot scikit-learn-kirjaston metrics-moduulin avulla. Laske myös ROC-käyrän alainen alue muuttujaa auc.\n",
    "fpr, tpr, thresholds = roc_curve(y_test, y_score)\n",
    "auc = auc(fpr, tpr)\n",
    "\n",
    "# Piirrä kynnysarvon optimointikäyrä matplotlib-kirjastolla.\n",
    "fig = plt.figure()\n",
    "plt.plot(fpr, tpr, label='ROC curve (area = %0.3f)' % auc)\n",
    "plt.plot([0, 1], [0, 1], 'k--')  # random predictions curve\n",
    "plt.xlim([0.0, 1.0])\n",
    "plt.ylim([0.0, 1.0])\n",
    "plt.xlabel('False Positive Rate')\n",
    "plt.ylabel('True Positive Rate')\n",
    "plt.title('Receiver Operating Characteristic')\n",
    "plt.legend(loc=\"lower right\")\n",
    "\n",
    "# Pohdintaa.\n",
    "pohdinta='''\n",
    "\n",
    "Datan määrä oli melko pieni tässä datasetissä, noin 143 riviä. Se varmasti osaltaan aiheuttaa sen,\n",
    "että mallista ei tule kovin tarkkaa, tai siis todella huono ennustaja. Datapointit on myös hyvin laajalta skaalalta, joka\n",
    "mielestäni myös osoittaa, että dataa tarvitsisi olla enemmän.\n",
    "\n",
    "'''"
   ]
  },
  {
   "cell_type": "code",
   "execution_count": 24,
   "metadata": {
    "tags": [
     "answer_7_4"
    ]
   },
   "outputs": [
    {
     "name": "stdout",
     "output_type": "stream",
     "text": [
      "Classification report:\n",
      "               precision    recall  f1-score   support\n",
      "\n",
      "           0       0.47      0.79      0.59        24\n",
      "           1       0.38      0.12      0.19        24\n",
      "\n",
      "    accuracy                           0.46        48\n",
      "   macro avg       0.42      0.46      0.39        48\n",
      "weighted avg       0.42      0.46      0.39        48\n",
      "\n",
      "Confusion matrix:\n",
      " [[19  5]\n",
      " [21  3]]\n",
      "auc: 0.5052083333333333\n",
      "Pohdinta: \n",
      "\n",
      "Datan määrä oli melko pieni tässä datasetissä, noin 143 riviä. Se varmasti osaltaan aiheuttaa sen,\n",
      "että mallista ei tule kovin tarkkaa, tai siis todella huono ennustaja. Datapointit on myös hyvin laajalta skaalalta, joka\n",
      "mielestäni myös osoittaa, että dataa tarvitsisi olla enemmän.\n",
      "\n",
      "\n"
     ]
    },
    {
     "data": {
      "image/png": "[encoded data removed]",
      "text/plain": [
       "<Figure size 432x288 with 1 Axes>"
      ]
     },
     "execution_count": 24,
     "metadata": {},
     "output_type": "execute_result"
    }
   ],
   "source": [
    "# Tehtävän vastaukset. Huom! Älä muokkaa tätä solua, vaan aja se, kun olet suorittanut tehtävän. \n",
    "# Tee vastauksesi siten, että tämän solun tuloksena näkyy alla kaaviokuva.\n",
    "print(f'Classification report:\\n {cr}')\n",
    "print(f'Confusion matrix:\\n {cm}')\n",
    "print(f'auc: {auc}')\n",
    "print(f'Pohdinta: {pohdinta}')\n",
    "fig"
   ]
  }
 ],
 "metadata": {
  "kernelspec": {
   "display_name": "Python 3",
   "language": "python",
   "name": "python3"
  },
  "language_info": {
   "codemirror_mode": {
    "name": "ipython",
    "version": 3
   },
   "file_extension": ".py",
   "mimetype": "text/x-python",
   "name": "python",
   "nbconvert_exporter": "python",
   "pygments_lexer": "ipython3",
   "version": "3.9.0"
  }
 },
 "nbformat": 4,
 "nbformat_minor": 4
}
