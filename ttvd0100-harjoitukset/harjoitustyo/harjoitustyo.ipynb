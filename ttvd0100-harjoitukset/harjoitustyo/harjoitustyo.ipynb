{
 "cells": [
  {
   "cell_type": "markdown",
   "metadata": {},
   "source": [
    "## Harjoitustyö"
   ]
  },
  {
   "cell_type": "markdown",
   "metadata": {},
   "source": [
    "## Vaihe 1"
   ]
  },
  {
   "cell_type": "code",
   "execution_count": 11,
   "metadata": {},
   "outputs": [],
   "source": [
    "# tuodaan tarvittavat kirjastot\n",
    "\n",
    "import requests\n",
    "import json\n",
    "import pprint\n",
    "import pandas as pd\n",
    "import re"
   ]
  },
  {
   "cell_type": "markdown",
   "metadata": {},
   "source": [
    "#### Tehtävä 1. Hae Digitrafficin REST-rajapintapalvelusta (JSON-formaatissa) aktiiviset junat pääteosoitteella `/live-trains` Helsingin asemalta, joiden hakuparametrit ovat seuraavat:\n",
    "* arrived_trains=10\n",
    "* departed_trains=10\n",
    "* include_nonstopping=False"
   ]
  },
  {
   "cell_type": "code",
   "execution_count": 12,
   "metadata": {},
   "outputs": [
    {
     "name": "stdout",
     "output_type": "stream",
     "text": [
      "Vastauskoodi: 200\n"
     ]
    }
   ],
   "source": [
    "# määritetään rajapinnan osoite\n",
    "train_url = 'https://rata.digitraffic.fi/api/v1/live-trains/station/'\n",
    "\n",
    "\n",
    "# tallennetaan vastaus rajapinnasta muuttujaan\n",
    "train_r = requests.get(url=train_url)\n",
    "\n",
    "\n",
    "# hakuparametrien määrittely url-osoitteelle\n",
    "station_shortcode = \"HKI\"\n",
    "search_query_arrived = \"arrived_trains=10\"\n",
    "search_query_departed = \"departed_trains=10\"\n",
    "search_query_nonstopping = \"include_nonstopping=False\"\n",
    "\n",
    "\n",
    "# määritetään hakuparametrien perusteella uusi url-osoite\n",
    "new_url = \"{0}{1}?{2}&{3}&{4}\".format(train_url, station_shortcode, search_query_arrived, search_query_departed, search_query_nonstopping)\n",
    "\n",
    "\n",
    "# tehdään uusi kysely hakuparametreilla muodostetusta url-osoitteesta ja tulostetaan rajapinnan vastauskoodi konsoliin\n",
    "resp = requests.get(url=new_url)\n",
    "print(\"Vastauskoodi:\", resp.status_code)\n"
   ]
  },
  {
   "cell_type": "markdown",
   "metadata": {},
   "source": [
    "#### Tehtävä 2. Tämän jälkeen lue kyseinen data Pandasin dataframeen ilman muokkaamista, jolloin sarakkeiden otsikot ovat seuraavanlaiset:\n",
    "\n",
    " `cancelled`,\n",
    " `commuterLineID`,\n",
    " `departureDate`,\n",
    " `operatorShortCode`,\n",
    " `operatorUICCode`,\n",
    " `runningCurrently`,\n",
    " `timeTableRows`,\n",
    " `timetableAcceptanceDate`,\n",
    " `timetableType`,\n",
    " `trainCategory`,\n",
    " `trainNumber`,\n",
    " `trainType`,\n",
    " `version` "
   ]
  },
  {
   "cell_type": "code",
   "execution_count": 13,
   "metadata": {},
   "outputs": [],
   "source": [
    "# luodaan Pandas-dataframe kyselyn tuloksesta\n",
    "data = resp.text\n",
    "df = pd.read_json(data)"
   ]
  },
  {
   "cell_type": "markdown",
   "metadata": {},
   "source": [
    "#### Tehtävä 3. Poista kaikki muut sarakkeet paitsi `timeTableRows` ja `trainNumber`"
   ]
  },
  {
   "cell_type": "code",
   "execution_count": 14,
   "metadata": {},
   "outputs": [],
   "source": [
    "# poistetaan kaikki muut sarakkeet paitsi 'timeTableRows' ja 'Trainnumber'\n",
    "df2 = df.drop(columns=\n",
    "              ['cancelled', 'commuterLineID', 'departureDate', 'operatorShortCode',\n",
    "               'operatorUICCode', 'runningCurrently', 'timetableAcceptanceDate',\n",
    "               'timetableType', 'trainCategory', 'trainType', 'version'])"
   ]
  },
  {
   "cell_type": "markdown",
   "metadata": {},
   "source": [
    "#### Tehtävä 4. Tämän jälkeen pura `timeTableRows` sarakkeen arvot jokaisesta junasta erikseen (sarakkeen arvo jokaiselle junalle sisältää useampia JSON-objekteja) ja lisää dataan mukaan junan tiedot yksilöivä `trainNumber`"
   ]
  },
  {
   "cell_type": "code",
   "execution_count": 15,
   "metadata": {
    "scrolled": true
   },
   "outputs": [],
   "source": [
    "# avataan json data json_normalizen avulla\n",
    "data_json_list = json.loads(data)\n",
    "data_json = data_json_list\n",
    "df5 = pd.json_normalize(data_json, record_path='timeTableRows', meta=['trainNumber'])"
   ]
  },
  {
   "cell_type": "markdown",
   "metadata": {},
   "source": [
    "#### Tehtävä 5. Pudota sitten seuraavat sarakkeet datasta: `causes`, `estimateSource`, `liveEstimateTime`, `differenceInMinutes`, `commercialStop` ja `trainReady`"
   ]
  },
  {
   "cell_type": "code",
   "execution_count": 16,
   "metadata": {},
   "outputs": [],
   "source": [
    "# pudotetaan halutut rivit pois\n",
    "df6 = df5.drop(columns=['causes', 'estimateSource', 'liveEstimateTime','differenceInMinutes',\n",
    "                        'commercialStop','trainReady.source', 'trainReady.accepted','trainReady.timestamp'])"
   ]
  },
  {
   "cell_type": "markdown",
   "metadata": {},
   "source": [
    "#### Tehtävä 6. Täytä jokaisen rivin sarakkeen `actualTime` puuttuvat arvot `scheduledTime` -sarakkeen arvolla."
   ]
  },
  {
   "cell_type": "code",
   "execution_count": 17,
   "metadata": {},
   "outputs": [],
   "source": [
    "# täytetään NaN-arvot actualTime-sarakkeesta scheduledtime-sarakkeen arvoilla\n",
    "df6['actualTime'].fillna(df6['scheduledTime'], inplace=True)\n",
    "\n",
    "# muutetaan vielä koko dataframe object-muotoon\n",
    "df7 = df6.astype('object')"
   ]
  },
  {
   "cell_type": "markdown",
   "metadata": {},
   "source": [
    "## Vaihe 2\n",
    "\n",
    "#### Tehtävä 7. Pura tämän kansion sisällä olevan `data.html` -tiedoston `table`-elementin solujen arvot käyttäen regex-syntaksia ja yhdistä ne vaiheessa 1 luotuun dataframeen. Huom: tehtävässä tulee käyttää vain regexiä (Esim. Pandasin read_html()-metodin käyttö on kielletty)!"
   ]
  },
  {
   "cell_type": "code",
   "execution_count": 25,
   "metadata": {},
   "outputs": [
    {
     "data": {
      "text/html": [
       "<div>\n",
       "<style scoped>\n",
       "    .dataframe tbody tr th:only-of-type {\n",
       "        vertical-align: middle;\n",
       "    }\n",
       "\n",
       "    .dataframe tbody tr th {\n",
       "        vertical-align: top;\n",
       "    }\n",
       "\n",
       "    .dataframe thead th {\n",
       "        text-align: right;\n",
       "    }\n",
       "</style>\n",
       "<table border=\"1\" class=\"dataframe\">\n",
       "  <thead>\n",
       "    <tr style=\"text-align: right;\">\n",
       "      <th></th>\n",
       "      <th>actualTime</th>\n",
       "      <th>cancelled</th>\n",
       "      <th>commercialTrack</th>\n",
       "      <th>countryCode</th>\n",
       "      <th>scheduledTime</th>\n",
       "      <th>stationShortCode</th>\n",
       "      <th>stationUICCode</th>\n",
       "      <th>trainStopping</th>\n",
       "      <th>type</th>\n",
       "      <th>trainNumber</th>\n",
       "    </tr>\n",
       "  </thead>\n",
       "  <tbody>\n",
       "    <tr>\n",
       "      <th>0</th>\n",
       "      <td>2019-08-06T04:48:00.000Z</td>\n",
       "      <td>False</td>\n",
       "      <td></td>\n",
       "      <td>FI</td>\n",
       "      <td>2019-08-06T04:48:00.000Z</td>\n",
       "      <td>JVS</td>\n",
       "      <td>1272</td>\n",
       "      <td>False</td>\n",
       "      <td>DEPARTURE</td>\n",
       "      <td>150</td>\n",
       "    </tr>\n",
       "    <tr>\n",
       "      <th>1</th>\n",
       "      <td>2019-08-06T06:04:39.000Z</td>\n",
       "      <td>False</td>\n",
       "      <td></td>\n",
       "      <td>FI</td>\n",
       "      <td>2019-08-06T06:04:39.000Z</td>\n",
       "      <td>R702</td>\n",
       "      <td>98998</td>\n",
       "      <td>False</td>\n",
       "      <td>ARRIVAL</td>\n",
       "      <td>150</td>\n",
       "    </tr>\n",
       "    <tr>\n",
       "      <th>2</th>\n",
       "      <td>2019-08-06T07:03:12.000Z</td>\n",
       "      <td>False</td>\n",
       "      <td></td>\n",
       "      <td>FI</td>\n",
       "      <td>2019-08-06T07:03:12.000Z</td>\n",
       "      <td>ILA</td>\n",
       "      <td>98998</td>\n",
       "      <td>9</td>\n",
       "      <td>ARRIVAL</td>\n",
       "      <td>8337</td>\n",
       "    </tr>\n",
       "  </tbody>\n",
       "</table>\n",
       "</div>"
      ],
      "text/plain": [
       "                 actualTime cancelled commercialTrack countryCode  \\\n",
       "0  2019-08-06T04:48:00.000Z     False                          FI   \n",
       "1  2019-08-06T06:04:39.000Z     False                          FI   \n",
       "2  2019-08-06T07:03:12.000Z     False                          FI   \n",
       "\n",
       "              scheduledTime stationShortCode stationUICCode trainStopping  \\\n",
       "0  2019-08-06T04:48:00.000Z              JVS           1272         False   \n",
       "1  2019-08-06T06:04:39.000Z             R702          98998         False   \n",
       "2  2019-08-06T07:03:12.000Z              ILA          98998             9   \n",
       "\n",
       "        type trainNumber  \n",
       "0  DEPARTURE         150  \n",
       "1    ARRIVAL         150  \n",
       "2    ARRIVAL        8337  "
      ]
     },
     "execution_count": 25,
     "metadata": {},
     "output_type": "execute_result"
    }
   ],
   "source": [
    "# tuodaan tarvittavat kirjastot\n",
    "import os\n",
    "import urllib\n",
    "\n",
    "f = urllib.request.urlopen(\"file:///C:/Users/ville/Projects/repos/ttvd0100-harjoitukset/harjoitustyo/harjoitustyo_data.html\")\n",
    "text = f.read()\n",
    "text = text.decode()\n",
    "\n",
    "\n",
    "# siivotaan tekstiversiota regexillä\n",
    "stripped_text = re.sub(\"/\\n|\\s{2,}\", ' ', text)\n",
    "stripped_text2 = re.sub(\"[(\\\\n)]\", '', stripped_text)\n",
    "stripped_text3 = stripped_text2.replace(\" \", \"\")\n",
    "\n",
    "\n",
    "# etsitään tekstistä regexin avulla sarakkeet listaan\n",
    "f_columns = re.findall(r\"\\<th>(.*?)\\<\\/th>\", stripped_text3)\n",
    "f_columns\n",
    "\n",
    "\n",
    "# etsitään tekstistä sarakkeiden määrän mukaan sisältö sarakkeisiin ja tehdään siitä dataframe\n",
    "f_content = re.findall(r\"\\<td>(.*?)\\<\\/td>\\<td>(.*?)\\<\\/td>\\<td>(.*?)\\<\\/td>\\<td>(.*?)\\<\\/td>\\<td>(.*?)\\<\\/td>\\<td>(.*?)\\<\\/td>\\<td>(.*?)\\<\\/td>\\<td>(.*?)\\<\\/td>\\<td>(.*?)\\<\\/td>\\<td>(.*?)\\<\\/td>\", stripped_text3)\n",
    "df1 = pd.DataFrame(f_content)\n",
    "\n",
    "\n",
    "# yhdistetään sarakkeet listasta luotuun DataFrameen\n",
    "df1.columns = f_columns\n",
    "df6.dtypes\n",
    "\n",
    "\n",
    "# yhdistetään dataframe aiemmin luotuun\n",
    "df_final = df6.append(df1)\n",
    "\n",
    "df1"
   ]
  },
  {
   "cell_type": "markdown",
   "metadata": {},
   "source": [
    "## Vaihe 3\n",
    "\n",
    "#### Tehtävä 8. Tee SQLite tietokanta ja lisää sinne vaiheessa 2 luotu dataframe.\n"
   ]
  },
  {
   "cell_type": "code",
   "execution_count": null,
   "metadata": {},
   "outputs": [],
   "source": [
    "# tuodaan sqlite3 moduuli\n",
    "import sqlite3 as sql\n",
    "\n",
    "# luodaan tietokanta 'traindata', johon säilötään live-junien tiedot\n",
    "conn = sql.connect('traindata.db')\n",
    "df_final.to_sql('df_final', conn)"
   ]
  },
  {
   "cell_type": "code",
   "execution_count": null,
   "metadata": {},
   "outputs": [],
   "source": [
    "# tarkistetaan, että data meni tietokantaan tekemällä haku\n",
    "traindata = pd.read_sql('SELECT * FROM df_final', conn)\n",
    "traindata"
   ]
  }
 ],
 "metadata": {
  "kernelspec": {
   "display_name": "Python 3",
   "language": "python",
   "name": "python3"
  },
  "language_info": {
   "codemirror_mode": {
    "name": "ipython",
    "version": 3
   },
   "file_extension": ".py",
   "mimetype": "text/x-python",
   "name": "python",
   "nbconvert_exporter": "python",
   "pygments_lexer": "ipython3",
   "version": "3.9.0"
  }
 },
 "nbformat": 4,
 "nbformat_minor": 2
}
