{
 "cells": [
  {
   "cell_type": "markdown",
   "metadata": {},
   "source": [
    "# Regex-tehtävät"
   ]
  },
  {
   "cell_type": "markdown",
   "metadata": {},
   "source": [
    "Regex-tehtäväosiossa käytetään kyseistä syntaksia esimerkkitekstiin, jonka pohja on haettu täältä: https://loremipsum.io/."
   ]
  },
  {
   "cell_type": "code",
   "execution_count": 1,
   "metadata": {},
   "outputs": [],
   "source": [
    "example_text = \"Lorem ipsum dolorolo at sit amet, consectetur ipsumm adipiscing elit, sed do eiusmod tempor incididunt ut labore et dolore magna aliqua. Ut enim ad minim veniam, quis nostrud exercitation ullamco (laboris) nisi ut (aliquip) ex ea commodo consequat. [192.168.1.1:8080] Duis aute irure dolor in reprehenderit in voluptate velit esse cillum dolore eu fugiat nulla pariatur. Excepteur sint occaecat cupidatat non proident, sunt in culpa qui officia deserunt mollit anim id est laborum. [192.168.1.254:80]\""
   ]
  },
  {
   "cell_type": "markdown",
   "metadata": {},
   "source": [
    "#### Tehtävä 1. Lisää tarvittavat kirjastot"
   ]
  },
  {
   "cell_type": "code",
   "execution_count": 2,
   "metadata": {},
   "outputs": [],
   "source": [
    "# tuodaan regex\n",
    "import re"
   ]
  },
  {
   "cell_type": "markdown",
   "metadata": {},
   "source": [
    "#### Tehtävä 2. Etsi tekstistä kuinka monta kertaa sana `ipsum` esiintyy"
   ]
  },
  {
   "cell_type": "code",
   "execution_count": 3,
   "metadata": {},
   "outputs": [
    {
     "data": {
      "text/plain": [
       "['ipsum']"
      ]
     },
     "execution_count": 3,
     "metadata": {},
     "output_type": "execute_result"
    }
   ],
   "source": [
    "# Merkkirakenne, jota etsitään. Etsitään sanaa \"ipsum\"\n",
    "re_pattern = r'\\bipsum\\b'\n",
    "\n",
    "\n",
    "# Haetaan kaikki ipsum sanat tekstistä\n",
    "re_search = re.findall(re_pattern, example_text)\n",
    "\n",
    "\n",
    "# tulostetaan lopputulos\n",
    "re_search"
   ]
  },
  {
   "cell_type": "markdown",
   "metadata": {},
   "source": [
    "#### Tehtävä 3. Etsi tekstistä kuinka monta kertaa merkkijono (ei siis sana!) `ipsum` esiintyy"
   ]
  },
  {
   "cell_type": "code",
   "execution_count": 4,
   "metadata": {},
   "outputs": [
    {
     "data": {
      "text/plain": [
       "['ipsum', 'ipsum']"
      ]
     },
     "execution_count": 4,
     "metadata": {},
     "output_type": "execute_result"
    }
   ],
   "source": [
    "# Merkkirakenne, jota etsitään. Tässä tapauksessa etsitään merkkijonoa \"ipsum\"\n",
    "re_pattern = r'ipsum'\n",
    "\n",
    "\n",
    "# Haetaan kaikki eläin merkkijonot tekstistä\n",
    "re_search = re.findall(re_pattern, example_text)\n",
    "\n",
    "\n",
    "# Merkkijono \"ipsum\" esiintyy yhteensä kaksi kertaa\n",
    "re_search"
   ]
  },
  {
   "cell_type": "markdown",
   "metadata": {},
   "source": [
    "#### Tehtävä 4. Hae tekstistä kaikki sanan `Excepteur` jälkeen (Huom: sanaa Excepteur ei oteta tulla mukaan tulosteeseen!)"
   ]
  },
  {
   "cell_type": "code",
   "execution_count": 5,
   "metadata": {},
   "outputs": [
    {
     "name": "stdout",
     "output_type": "stream",
     "text": [
      "[' sint occaecat cupidatat non proident, sunt in culpa qui officia deserunt mollit anim id est laborum. [192.168.1.254:80]']\n"
     ]
    }
   ],
   "source": [
    "# tehdään haku ohjeiden mukaan\n",
    "re_pattern = \"(?<=Excepteur).*\"\n",
    "re_search = re.findall(re_pattern, example_text)\n",
    "\n",
    "\n",
    "# seuraavanlainen merkkijono löytyy hakuehdoilla\n",
    "print(re_search)"
   ]
  },
  {
   "cell_type": "markdown",
   "metadata": {},
   "source": [
    "#### Tehtävä 5. Etsi kaikki sanat, jotka ovat sulkujen `()` sisällä"
   ]
  },
  {
   "cell_type": "code",
   "execution_count": 7,
   "metadata": {},
   "outputs": [
    {
     "name": "stdout",
     "output_type": "stream",
     "text": [
      "['(laboris)', '(aliquip)']\n"
     ]
    }
   ],
   "source": [
    "# etsitään kaikki sanat jotka ovat sulkujen sisällä\n",
    "re_pattern = r'\\(.*?\\)'\n",
    "re_search = re.findall(re_pattern, example_text)\n",
    "\n",
    "print(re_search)"
   ]
  },
  {
   "cell_type": "markdown",
   "metadata": {},
   "source": [
    "#### Tehtävä 6. Valitse kaikki sanat, jotka päättyvät merkkeihin `at`."
   ]
  },
  {
   "cell_type": "code",
   "execution_count": 8,
   "metadata": {},
   "outputs": [
    {
     "name": "stdout",
     "output_type": "stream",
     "text": [
      "['at', 'consequat', 'fugiat', 'occaecat', 'cupidatat']\n"
     ]
    }
   ],
   "source": [
    "# etsitään kaikki sanat jotka päättyvät at-merkkeihin tai sana joka on at. En ollut ihan varma, mutta mielestäni myös sana \"at\" loppuu merkeillä \"at\"\n",
    "\n",
    "re_pattern = r'\\w+at\\b|\\bat'\n",
    "re_search = re.findall(re_pattern, example_text)\n",
    "\n",
    "print(re_search)"
   ]
  },
  {
   "cell_type": "markdown",
   "metadata": {},
   "source": [
    "#### Tehtävä 7. Etsi sanat, jotka sisältävät merkkijonon `olo`, mutta eivät ala tai pääty kyseisellä merkkijonolla"
   ]
  },
  {
   "cell_type": "code",
   "execution_count": 10,
   "metadata": {},
   "outputs": [
    {
     "data": {
      "text/plain": [
       "['dolore', 'dolor', 'dolore']"
      ]
     },
     "execution_count": 10,
     "metadata": {},
     "output_type": "execute_result"
    }
   ],
   "source": [
    "re_pattern = r'\\w+olo\\w+'\n",
    "re_search = re.findall(re_pattern, example_text)\n",
    "\n",
    "\n",
    "re_pattern = re.compile(r'(?!(^olo.*))(?!(.*olo$))')\n",
    "words = list(filter(re_pattern.match, re_search))\n",
    "words\n"
   ]
  },
  {
   "cell_type": "markdown",
   "metadata": {},
   "source": [
    "#### Tehtävä 8. Etsi seuraava tekstistä kaikki osoitteet, jotka ovat muotoa ip-osoite:porttinumero (esim. 192.168.1.1:8080) ilman staattista hakua tai `r'\\[.*?\\]'`/vastaavaa kaiken hakasulkeiden sisältä palauttavaa syntaksia."
   ]
  },
  {
   "cell_type": "code",
   "execution_count": 12,
   "metadata": {},
   "outputs": [
    {
     "name": "stdout",
     "output_type": "stream",
     "text": [
      "[('192.168.1.1', '8080'), ('192.168.1.254', '80')]\n"
     ]
    }
   ],
   "source": [
    "# yksinkertainen regex-lause, joka löytää tekstistä ip-osoitteen ja porttinumeron\n",
    "\n",
    "re_pattern = r'(\\d+\\.\\d+\\.\\d+\\.\\d+):(\\d+)'\n",
    "re_search = re.findall(re_pattern, example_text)\n",
    "\n",
    "print(re_search)"
   ]
  }
 ],
 "metadata": {
  "kernelspec": {
   "display_name": "Python 3",
   "language": "python",
   "name": "python3"
  },
  "language_info": {
   "codemirror_mode": {
    "name": "ipython",
    "version": 3
   },
   "file_extension": ".py",
   "mimetype": "text/x-python",
   "name": "python",
   "nbconvert_exporter": "python",
   "pygments_lexer": "ipython3",
   "version": "3.9.0"
  }
 },
 "nbformat": 4,
 "nbformat_minor": 2
}
