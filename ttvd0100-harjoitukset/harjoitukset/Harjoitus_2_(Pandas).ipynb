{
 "cells": [
  {
   "cell_type": "markdown",
   "metadata": {},
   "source": [
    "## Pandas-tehtävät OSA 2"
   ]
  },
  {
   "cell_type": "markdown",
   "metadata": {},
   "source": [
    "#### Tehtävä 1. Lue edellisen harjoituksen lopussa tallennetun data_export.csv-tiedoston sisältö dataframeen siten, että Unnamed 0 -saraketta ei synny tiedoston lukemisen yhteydessä."
   ]
  },
  {
   "cell_type": "code",
   "execution_count": 176,
   "metadata": {},
   "outputs": [
    {
     "name": "stdout",
     "output_type": "stream",
     "text": [
      "     sarake1   sarake2   sarake3\n",
      "0   0.319219  0.380058  0.919389\n",
      "1   0.922251  0.490721  0.133932\n",
      "2   0.073746  0.929162  0.962745\n",
      "3   0.363707  0.878349  0.485700\n",
      "4   0.106903  0.714651  0.039953\n",
      "5   0.196788  0.232740  0.879700\n",
      "6   0.323134  0.036466  0.186775\n",
      "7   0.467610  0.850993  0.377558\n",
      "8   0.303299  0.096971  0.451031\n",
      "9   0.733485  0.591996  0.658924\n",
      "10  0.641628  0.251886  0.274987\n",
      "11  0.154682  0.504352  0.557231\n",
      "12  0.319906  0.489200  0.990319\n",
      "13  0.780267  0.458454  0.053428\n",
      "14  0.023112  0.456483  0.378360\n"
     ]
    }
   ],
   "source": [
    "# tuodaan tarvittavat modulit\n",
    "import pandas as pd\n",
    "import numpy as np\n",
    "import matplotlib.pyplot as plt\n",
    "\n",
    "\n",
    "# luetaan data_export.csv -tiedosto niin, että ei oteta huomioon \"Unnamed 0\" -saraketta.\n",
    "df = pd.read_csv(\"data_export.csv\", usecols = ['sarake1', 'sarake2', 'sarake3'])\n",
    "\n",
    "# tulostetaan dataframen 15 ensimmäistä riviä\n",
    "print(df.head(15))"
   ]
  },
  {
   "cell_type": "markdown",
   "metadata": {},
   "source": [
    "#### Tehtävä 2. Pudota rivit, joissa esiintyy nan-arvo"
   ]
  },
  {
   "cell_type": "code",
   "execution_count": 80,
   "metadata": {},
   "outputs": [
    {
     "name": "stdout",
     "output_type": "stream",
     "text": [
      "     sarake1   sarake2   sarake3\n",
      "0   0.319219  0.380058  0.919389\n",
      "1   0.922251  0.490721  0.133932\n",
      "2   0.073746  0.929162  0.962745\n",
      "3   0.363707  0.878349  0.485700\n",
      "4   0.106903  0.714651  0.039953\n",
      "5   0.196788  0.232740  0.879700\n",
      "6   0.323134  0.036466  0.186775\n",
      "7   0.467610  0.850993  0.377558\n",
      "8   0.303299  0.096971  0.451031\n",
      "9   0.733485  0.591996  0.658924\n",
      "10  0.641628  0.251886  0.274987\n",
      "11  0.154682  0.504352  0.557231\n",
      "12  0.319906  0.489200  0.990319\n",
      "13  0.780267  0.458454  0.053428\n",
      "14  0.023112  0.456483  0.378360\n"
     ]
    }
   ],
   "source": [
    "# pudotetaan pois mahdolliset NaN-arvon sisältävät rivit\n",
    "df = df.dropna()\n",
    "\n",
    "# tulostetaan dataframen 15 ensimmäistä riviä\n",
    "print(df.head(15))"
   ]
  },
  {
   "cell_type": "markdown",
   "metadata": {},
   "source": [
    "#### Tehtävä 3. Muuta viidennen ja kymmenennen rivin kaikiksi arvoiksi nan"
   ]
  },
  {
   "cell_type": "code",
   "execution_count": 177,
   "metadata": {},
   "outputs": [
    {
     "name": "stdout",
     "output_type": "stream",
     "text": [
      "     sarake1   sarake2   sarake3\n",
      "0   0.319219  0.380058  0.919389\n",
      "1   0.922251  0.490721  0.133932\n",
      "2   0.073746  0.929162  0.962745\n",
      "3   0.363707  0.878349  0.485700\n",
      "4   0.106903  0.714651  0.039953\n",
      "5   0.196788  0.232740  0.879700\n",
      "6   0.323134  0.036466  0.186775\n",
      "7   0.467610  0.850993  0.377558\n",
      "8   0.303299  0.096971  0.451031\n",
      "9   0.733485  0.591996  0.658924\n",
      "10       NaN       NaN       NaN\n",
      "11  0.154682  0.504352  0.557231\n",
      "12  0.319906  0.489200  0.990319\n",
      "13  0.780267  0.458454  0.053428\n",
      "14  0.023112  0.456483  0.378360\n"
     ]
    }
   ],
   "source": [
    "# iloc:in avulla muutetaan 5 ja 10 rivit NaN-arvoiksi\n",
    "df.iloc[5 and 10]=np.nan\n",
    "\n",
    "# tulostetaan dataframen 15 ensimmäistä riviä\n",
    "print(df.head(15))"
   ]
  },
  {
   "cell_type": "markdown",
   "metadata": {},
   "source": [
    "#### Tehtävä 4. Tulosta nan-arvojen määrä jokaisesta sarakkeesta DataFrame-objektista"
   ]
  },
  {
   "cell_type": "code",
   "execution_count": 178,
   "metadata": {},
   "outputs": [
    {
     "name": "stdout",
     "output_type": "stream",
     "text": [
      "sarake1 NaN-arvojen määrä: 1\n",
      "sarake2 NaN-arvojen määrä: 1\n",
      "sarake3 NaN-arvojen määrä: 1\n"
     ]
    }
   ],
   "source": [
    "# tulostetaan jokaisen sarakkeen NaN-arvojen määrät erikseen\n",
    "Nan1 = df['sarake1'].isna().sum()\n",
    "print(\"sarake1 NaN-arvojen määrä:\", Nan1)\n",
    "\n",
    "Nan2 = df['sarake2'].isna().sum()\n",
    "print(\"sarake2 NaN-arvojen määrä:\", Nan2)\n",
    "\n",
    "Nan3 = df['sarake3'].isna().sum()\n",
    "print(\"sarake3 NaN-arvojen määrä:\", Nan3)"
   ]
  },
  {
   "cell_type": "markdown",
   "metadata": {},
   "source": [
    "#### Tehtävä 5. Täytä edellä tehdyt nan-arvot lineaarisella interpolaatiolla"
   ]
  },
  {
   "cell_type": "code",
   "execution_count": 86,
   "metadata": {},
   "outputs": [
    {
     "name": "stdout",
     "output_type": "stream",
     "text": [
      "     sarake1   sarake2   sarake3\n",
      "0   0.319219  0.380058  0.919389\n",
      "1   0.922251  0.490721  0.133932\n",
      "2   0.073746  0.929162  0.962745\n",
      "3   0.363707  0.878349  0.485700\n",
      "4   0.106903  0.714651  0.039953\n",
      "5   0.196788  0.232740  0.879700\n",
      "6   0.323134  0.036466  0.186775\n",
      "7   0.467610  0.850993  0.377558\n",
      "8   0.303299  0.096971  0.451031\n",
      "9   0.733485  0.591996  0.658924\n",
      "10  0.444084  0.548174  0.608077\n",
      "11  0.154682  0.504352  0.557231\n",
      "12  0.319906  0.489200  0.990319\n",
      "13  0.780267  0.458454  0.053428\n",
      "14  0.023112  0.456483  0.378360\n"
     ]
    }
   ],
   "source": [
    "# täytetään DataFramen NaN-arvot lineaarisella interpolaatiolla\n",
    "df_i = df.interpolate(method=\"linear\")\n",
    "\n",
    "# tulostetaan dataframen 15 ensimmäistä riviä\n",
    "print(df_i.head(15))"
   ]
  },
  {
   "cell_type": "markdown",
   "metadata": {},
   "source": [
    "#### Tehtävä 6. Vaihda `sarake1`:n viimeiseksi arvoksi 94 ja `sarake3`:n viimeiseksi arvoksi 45"
   ]
  },
  {
   "cell_type": "code",
   "execution_count": 174,
   "metadata": {},
   "outputs": [
    {
     "name": "stdout",
     "output_type": "stream",
     "text": [
      "      sarake1   sarake2    sarake3     sarake4\n",
      "20   0.300589  0.455980   0.292225    0.592814\n",
      "21   0.859970  0.346539   0.364629    1.224599\n",
      "22   0.842364  0.093485   0.662066    1.504430\n",
      "23   0.781693  0.573344   0.815692    1.597386\n",
      "24  94.000000  0.945625  45.000000  139.000000\n"
     ]
    }
   ],
   "source": [
    "#vaihdetaan sarakkeen 1 ja 3 viimeiset arvot\n",
    "df_i.iloc[-1, df_i.columns.get_loc('sarake1')] = 94\n",
    "df_i.iloc[-1, df_i.columns.get_loc('sarake3')] = 45\n",
    "\n",
    "\n",
    "# tulostetaan dataframen viisi viimeistä riviä\n",
    "print(df_i.tail(5))"
   ]
  },
  {
   "cell_type": "markdown",
   "metadata": {},
   "source": [
    "#### Tehtävä 7. Lisää uusi sarake DataFrame-objektiin (`sarake4`), joka koostuu sarakkeiden `sarake1` ja `sarake3` summasta"
   ]
  },
  {
   "cell_type": "code",
   "execution_count": 88,
   "metadata": {},
   "outputs": [
    {
     "name": "stdout",
     "output_type": "stream",
     "text": [
      "      sarake1   sarake2    sarake3     sarake4\n",
      "0    0.319219  0.380058   0.919389    1.238608\n",
      "1    0.922251  0.490721   0.133932    1.056182\n",
      "2    0.073746  0.929162   0.962745    1.036491\n",
      "3    0.363707  0.878349   0.485700    0.849407\n",
      "4    0.106903  0.714651   0.039953    0.146856\n",
      "5    0.196788  0.232740   0.879700    1.076488\n",
      "6    0.323134  0.036466   0.186775    0.509909\n",
      "7    0.467610  0.850993   0.377558    0.845168\n",
      "8    0.303299  0.096971   0.451031    0.754330\n",
      "9    0.733485  0.591996   0.658924    1.392409\n",
      "10   0.444084  0.548174   0.608077    1.052161\n",
      "11   0.154682  0.504352   0.557231    0.711913\n",
      "12   0.319906  0.489200   0.990319    1.310225\n",
      "13   0.780267  0.458454   0.053428    0.833695\n",
      "14   0.023112  0.456483   0.378360    0.401472\n",
      "15   0.935875  0.698276   0.446885    1.382760\n",
      "16   0.113171  0.585910   0.026875    0.140045\n",
      "17   0.273193  0.300307   0.768270    1.041463\n",
      "18   0.467060  0.225161   0.911570    1.378630\n",
      "19   0.007302  0.005471   0.790344    0.797646\n",
      "20   0.300589  0.455980   0.292225    0.592814\n",
      "21   0.859970  0.346539   0.364629    1.224599\n",
      "22   0.842364  0.093485   0.662066    1.504430\n",
      "23   0.781693  0.573344   0.815692    1.597386\n",
      "24  94.000000  0.945625  45.000000  139.000000\n"
     ]
    }
   ],
   "source": [
    "# yhdistetään sarakkeet 1 ja 3 elisummataan ne sarakkeeseen 4\n",
    "df_i['sarake4'] = df_i.apply(lambda row: row.sarake1 + row.sarake3, axis=1)\n",
    "\n",
    "# tulostetaan dataframe\n",
    "print(df_i)"
   ]
  },
  {
   "cell_type": "markdown",
   "metadata": {},
   "source": [
    "#### Tehtävä 8. Resetoi DataFrame-objektin indeksi ja tulosta rivien määrä"
   ]
  },
  {
   "cell_type": "code",
   "execution_count": 89,
   "metadata": {
    "scrolled": false
   },
   "outputs": [
    {
     "name": "stdout",
     "output_type": "stream",
     "text": [
      "25\n"
     ]
    }
   ],
   "source": [
    "# resetoidaan df:n indeksit reset_index -komennolla, ilman parametreja\n",
    "\n",
    "df_i.reset_index()\n",
    "\n",
    "# haetaan ja tulostetaan rivien määrä\n",
    "\n",
    "count_row = df_i.shape[0]\n",
    "print(count_row)"
   ]
  },
  {
   "cell_type": "markdown",
   "metadata": {},
   "source": [
    "#### Tehtävä 9. Tee DataFrame-objektin mittainen aikasarjadata haluamallasi aikavälillä ja tee siitä indeksisarake"
   ]
  },
  {
   "cell_type": "code",
   "execution_count": 173,
   "metadata": {},
   "outputs": [],
   "source": [
    "# luodaan aikasarja-objekti ja määritetään aikaväliksi 2 vuotta ja yksi kuukausi, kuukauden frekvenssillä, jotta saadaan 25 - eli rivien määrä\n",
    "timeserie = pd.date_range(start=\"1/1/2018\", end=\"31/01/2020\", freq='1M')"
   ]
  },
  {
   "cell_type": "code",
   "execution_count": 13,
   "metadata": {
    "scrolled": false
   },
   "outputs": [
    {
     "name": "stdout",
     "output_type": "stream",
     "text": [
      "DatetimeIndex(['2018-01-31', '2018-02-28', '2018-03-31', '2018-04-30',\n",
      "               '2018-05-31', '2018-06-30', '2018-07-31', '2018-08-31',\n",
      "               '2018-09-30', '2018-10-31', '2018-11-30', '2018-12-31',\n",
      "               '2019-01-31', '2019-02-28', '2019-03-31', '2019-04-30',\n",
      "               '2019-05-31', '2019-06-30', '2019-07-31', '2019-08-31',\n",
      "               '2019-09-30', '2019-10-31', '2019-11-30', '2019-12-31',\n",
      "               '2020-01-31'],\n",
      "              dtype='datetime64[ns]', freq='M')\n"
     ]
    }
   ],
   "source": [
    "# printataan aikasarja\n",
    "print(timeserie)"
   ]
  },
  {
   "cell_type": "code",
   "execution_count": 175,
   "metadata": {},
   "outputs": [
    {
     "data": {
      "text/html": [
       "<div>\n",
       "<style scoped>\n",
       "    .dataframe tbody tr th:only-of-type {\n",
       "        vertical-align: middle;\n",
       "    }\n",
       "\n",
       "    .dataframe tbody tr th {\n",
       "        vertical-align: top;\n",
       "    }\n",
       "\n",
       "    .dataframe thead th {\n",
       "        text-align: right;\n",
       "    }\n",
       "</style>\n",
       "<table border=\"1\" class=\"dataframe\">\n",
       "  <thead>\n",
       "    <tr style=\"text-align: right;\">\n",
       "      <th></th>\n",
       "      <th>sarake1</th>\n",
       "      <th>sarake2</th>\n",
       "      <th>sarake3</th>\n",
       "      <th>sarake4</th>\n",
       "    </tr>\n",
       "  </thead>\n",
       "  <tbody>\n",
       "    <tr>\n",
       "      <th>2018-01-31</th>\n",
       "      <td>0.319219</td>\n",
       "      <td>0.380058</td>\n",
       "      <td>0.919389</td>\n",
       "      <td>1.238608</td>\n",
       "    </tr>\n",
       "    <tr>\n",
       "      <th>2018-02-28</th>\n",
       "      <td>0.922251</td>\n",
       "      <td>0.490721</td>\n",
       "      <td>0.133932</td>\n",
       "      <td>1.056182</td>\n",
       "    </tr>\n",
       "    <tr>\n",
       "      <th>2018-03-31</th>\n",
       "      <td>0.073746</td>\n",
       "      <td>0.929162</td>\n",
       "      <td>0.962745</td>\n",
       "      <td>1.036491</td>\n",
       "    </tr>\n",
       "    <tr>\n",
       "      <th>2018-04-30</th>\n",
       "      <td>0.363707</td>\n",
       "      <td>0.878349</td>\n",
       "      <td>0.485700</td>\n",
       "      <td>0.849407</td>\n",
       "    </tr>\n",
       "    <tr>\n",
       "      <th>2018-05-31</th>\n",
       "      <td>0.106903</td>\n",
       "      <td>0.714651</td>\n",
       "      <td>0.039953</td>\n",
       "      <td>0.146856</td>\n",
       "    </tr>\n",
       "    <tr>\n",
       "      <th>2018-06-30</th>\n",
       "      <td>0.196788</td>\n",
       "      <td>0.232740</td>\n",
       "      <td>0.879700</td>\n",
       "      <td>1.076488</td>\n",
       "    </tr>\n",
       "    <tr>\n",
       "      <th>2018-07-31</th>\n",
       "      <td>0.323134</td>\n",
       "      <td>0.036466</td>\n",
       "      <td>0.186775</td>\n",
       "      <td>0.509909</td>\n",
       "    </tr>\n",
       "    <tr>\n",
       "      <th>2018-08-31</th>\n",
       "      <td>0.467610</td>\n",
       "      <td>0.850993</td>\n",
       "      <td>0.377558</td>\n",
       "      <td>0.845168</td>\n",
       "    </tr>\n",
       "    <tr>\n",
       "      <th>2018-09-30</th>\n",
       "      <td>0.303299</td>\n",
       "      <td>0.096971</td>\n",
       "      <td>0.451031</td>\n",
       "      <td>0.754330</td>\n",
       "    </tr>\n",
       "    <tr>\n",
       "      <th>2018-10-31</th>\n",
       "      <td>0.733485</td>\n",
       "      <td>0.591996</td>\n",
       "      <td>0.658924</td>\n",
       "      <td>1.392409</td>\n",
       "    </tr>\n",
       "    <tr>\n",
       "      <th>2018-11-30</th>\n",
       "      <td>0.444084</td>\n",
       "      <td>0.548174</td>\n",
       "      <td>0.608077</td>\n",
       "      <td>1.052161</td>\n",
       "    </tr>\n",
       "    <tr>\n",
       "      <th>2018-12-31</th>\n",
       "      <td>0.154682</td>\n",
       "      <td>0.504352</td>\n",
       "      <td>0.557231</td>\n",
       "      <td>0.711913</td>\n",
       "    </tr>\n",
       "    <tr>\n",
       "      <th>2019-01-31</th>\n",
       "      <td>0.319906</td>\n",
       "      <td>0.489200</td>\n",
       "      <td>0.990319</td>\n",
       "      <td>1.310225</td>\n",
       "    </tr>\n",
       "    <tr>\n",
       "      <th>2019-02-28</th>\n",
       "      <td>0.780267</td>\n",
       "      <td>0.458454</td>\n",
       "      <td>0.053428</td>\n",
       "      <td>0.833695</td>\n",
       "    </tr>\n",
       "    <tr>\n",
       "      <th>2019-03-31</th>\n",
       "      <td>0.023112</td>\n",
       "      <td>0.456483</td>\n",
       "      <td>0.378360</td>\n",
       "      <td>0.401472</td>\n",
       "    </tr>\n",
       "    <tr>\n",
       "      <th>2019-04-30</th>\n",
       "      <td>0.935875</td>\n",
       "      <td>0.698276</td>\n",
       "      <td>0.446885</td>\n",
       "      <td>1.382760</td>\n",
       "    </tr>\n",
       "    <tr>\n",
       "      <th>2019-05-31</th>\n",
       "      <td>0.113171</td>\n",
       "      <td>0.585910</td>\n",
       "      <td>0.026875</td>\n",
       "      <td>0.140045</td>\n",
       "    </tr>\n",
       "    <tr>\n",
       "      <th>2019-06-30</th>\n",
       "      <td>0.273193</td>\n",
       "      <td>0.300307</td>\n",
       "      <td>0.768270</td>\n",
       "      <td>1.041463</td>\n",
       "    </tr>\n",
       "    <tr>\n",
       "      <th>2019-07-31</th>\n",
       "      <td>0.467060</td>\n",
       "      <td>0.225161</td>\n",
       "      <td>0.911570</td>\n",
       "      <td>1.378630</td>\n",
       "    </tr>\n",
       "    <tr>\n",
       "      <th>2019-08-31</th>\n",
       "      <td>0.007302</td>\n",
       "      <td>0.005471</td>\n",
       "      <td>0.790344</td>\n",
       "      <td>0.797646</td>\n",
       "    </tr>\n",
       "    <tr>\n",
       "      <th>2019-09-30</th>\n",
       "      <td>0.300589</td>\n",
       "      <td>0.455980</td>\n",
       "      <td>0.292225</td>\n",
       "      <td>0.592814</td>\n",
       "    </tr>\n",
       "    <tr>\n",
       "      <th>2019-10-31</th>\n",
       "      <td>0.859970</td>\n",
       "      <td>0.346539</td>\n",
       "      <td>0.364629</td>\n",
       "      <td>1.224599</td>\n",
       "    </tr>\n",
       "    <tr>\n",
       "      <th>2019-11-30</th>\n",
       "      <td>0.842364</td>\n",
       "      <td>0.093485</td>\n",
       "      <td>0.662066</td>\n",
       "      <td>1.504430</td>\n",
       "    </tr>\n",
       "    <tr>\n",
       "      <th>2019-12-31</th>\n",
       "      <td>0.781693</td>\n",
       "      <td>0.573344</td>\n",
       "      <td>0.815692</td>\n",
       "      <td>1.597386</td>\n",
       "    </tr>\n",
       "    <tr>\n",
       "      <th>2020-01-31</th>\n",
       "      <td>94.000000</td>\n",
       "      <td>0.945625</td>\n",
       "      <td>45.000000</td>\n",
       "      <td>139.000000</td>\n",
       "    </tr>\n",
       "  </tbody>\n",
       "</table>\n",
       "</div>"
      ],
      "text/plain": [
       "              sarake1   sarake2    sarake3     sarake4\n",
       "2018-01-31   0.319219  0.380058   0.919389    1.238608\n",
       "2018-02-28   0.922251  0.490721   0.133932    1.056182\n",
       "2018-03-31   0.073746  0.929162   0.962745    1.036491\n",
       "2018-04-30   0.363707  0.878349   0.485700    0.849407\n",
       "2018-05-31   0.106903  0.714651   0.039953    0.146856\n",
       "2018-06-30   0.196788  0.232740   0.879700    1.076488\n",
       "2018-07-31   0.323134  0.036466   0.186775    0.509909\n",
       "2018-08-31   0.467610  0.850993   0.377558    0.845168\n",
       "2018-09-30   0.303299  0.096971   0.451031    0.754330\n",
       "2018-10-31   0.733485  0.591996   0.658924    1.392409\n",
       "2018-11-30   0.444084  0.548174   0.608077    1.052161\n",
       "2018-12-31   0.154682  0.504352   0.557231    0.711913\n",
       "2019-01-31   0.319906  0.489200   0.990319    1.310225\n",
       "2019-02-28   0.780267  0.458454   0.053428    0.833695\n",
       "2019-03-31   0.023112  0.456483   0.378360    0.401472\n",
       "2019-04-30   0.935875  0.698276   0.446885    1.382760\n",
       "2019-05-31   0.113171  0.585910   0.026875    0.140045\n",
       "2019-06-30   0.273193  0.300307   0.768270    1.041463\n",
       "2019-07-31   0.467060  0.225161   0.911570    1.378630\n",
       "2019-08-31   0.007302  0.005471   0.790344    0.797646\n",
       "2019-09-30   0.300589  0.455980   0.292225    0.592814\n",
       "2019-10-31   0.859970  0.346539   0.364629    1.224599\n",
       "2019-11-30   0.842364  0.093485   0.662066    1.504430\n",
       "2019-12-31   0.781693  0.573344   0.815692    1.597386\n",
       "2020-01-31  94.000000  0.945625  45.000000  139.000000"
      ]
     },
     "execution_count": 175,
     "metadata": {},
     "output_type": "execute_result"
    }
   ],
   "source": [
    "# asetetaan aikasarja dataframen indeksisarakkeeksi\n",
    "df_i.set_index(timeserie)"
   ]
  },
  {
   "cell_type": "code",
   "execution_count": 91,
   "metadata": {
    "scrolled": true
   },
   "outputs": [
    {
     "data": {
      "image/png": "[encoded data removed]",
      "text/plain": [
       "<Figure size 432x288 with 1 Axes>"
      ]
     },
     "metadata": {
      "needs_background": "light"
     },
     "output_type": "display_data"
    }
   ],
   "source": [
    "# printataan kuvaaja aikasarjadatasta\n",
    "\n",
    "df_i.plot()\n",
    "plt.show()"
   ]
  },
  {
   "cell_type": "markdown",
   "metadata": {},
   "source": [
    "#### Tehtävä 10. Muuta `sarake1` kaikki arvot merkkijonoiksi, joissa jokainen nolla on korvattu isolla 'ND'-kirjainyhdistelmällä."
   ]
  },
  {
   "cell_type": "code",
   "execution_count": 102,
   "metadata": {
    "scrolled": true
   },
   "outputs": [
    {
     "name": "stdout",
     "output_type": "stream",
     "text": [
      "0         ND.31921932271724ND3\n",
      "1        ND.92225ND592ND455354\n",
      "2        ND.ND7374579653552116\n",
      "3         ND.3637ND65716836567\n",
      "4       ND.1ND69ND323388737688\n",
      "5        ND.19678771462ND37192\n",
      "6         ND.32313386814ND7583\n",
      "7       ND.4676ND99556ND15ND96\n",
      "8        ND.3ND3298665751ND818\n",
      "9          ND.7334853147358118\n",
      "10       ND.444ND8365791327764\n",
      "11    ND.154682NDND1ND9ND74348\n",
      "12     ND.3199ND554258ND25ND83\n",
      "13        ND.78ND2672238818178\n",
      "14     ND.ND23112ND11424779144\n",
      "15         ND.9358745961778226\n",
      "16       ND.11317ND5ND44918111\n",
      "17       ND.2731929NDND6731526\n",
      "18     ND.467ND6NDND4ND1299349\n",
      "19    ND.NDND73ND163662796ND35\n",
      "20     ND.3NDND5888788521NDND1\n",
      "21       ND.8599699ND1ND91ND25\n",
      "22        ND.8423644152934ND61\n",
      "23        ND.78169332392ND8187\n",
      "24                       94.ND\n",
      "Name: sarake1, dtype: object\n"
     ]
    }
   ],
   "source": [
    "# kopioidaan aiempi dataframe\n",
    "df1 = df_i.copy()\n",
    "\n",
    "# muutetaan sarake1 merkkijonoksi (str)\n",
    "df1['sarake1'] = df1['sarake1'].astype(str)\n",
    "\n",
    "# korvataan kaikki \"0\"-merkit \"ND\"-merkillä\n",
    "df1['sarake1'] = df1['sarake1'].str.replace(\"0\",\"ND\")\n",
    "\n",
    "print(df1['sarake1'])"
   ]
  },
  {
   "cell_type": "markdown",
   "metadata": {},
   "source": [
    "#### Tehtävä 11. Tee DataFrame-objektista kopio, jonka sarakkeiden nimet on muutettu seuraaviksi : `sarake5`, `sarake6`, `sarake7`, `sarake8`. Tämän jälkeen tee yksi iso DataFrame-objekti, joka koostuu alkuperäisestä DataFramesta sekä kopiosta niin, että ne on lisätty vierekkäin.\n",
    "\n",
    "\n",
    "| sarake1        | sarake2           | sarake3  | sarake4 | sarake5      | sarake6 | sarake7 | sarake8 |\n",
    "| ------------- |:-------------:| -----:| ------------- |:-------------:| -----:|-----:|-----:|\n",
    "| 0.1      | 0.2 | 0.3 | ... | ...  | ... | ... | ... |"
   ]
  },
  {
   "cell_type": "code",
   "execution_count": 93,
   "metadata": {
    "scrolled": true
   },
   "outputs": [
    {
     "data": {
      "text/plain": [
       "Index(['sarake1', 'sarake2', 'sarake3'], dtype='object')"
      ]
     },
     "execution_count": 93,
     "metadata": {},
     "output_type": "execute_result"
    }
   ],
   "source": [
    "# kopioidaan alkuperäinen dataframe uudeksi df:ksi\n",
    "df2 = df.copy()\n",
    "\n",
    "# tulostetaan dataframen sarakkeiden nimet ennen niiden vaihtamista\n",
    "df2.columns"
   ]
  },
  {
   "cell_type": "code",
   "execution_count": 94,
   "metadata": {},
   "outputs": [],
   "source": [
    "# uudelleen nimetään sarakkeiden nimet ohjeiden mukaisiksi\n",
    "df2.rename(columns = {'sarake1':'sarake5','sarake2':'sarake6','sarake3':'sarake7','sarake4':'sarake8'}, inplace = True)"
   ]
  },
  {
   "cell_type": "code",
   "execution_count": 107,
   "metadata": {},
   "outputs": [
    {
     "name": "stdout",
     "output_type": "stream",
     "text": [
      "Index(['sarake5', 'sarake6', 'sarake7'], dtype='object')\n"
     ]
    }
   ],
   "source": [
    "# tulostetaan uudelleen nimetyt sarakkeet\n",
    "print(df2.columns)"
   ]
  },
  {
   "cell_type": "code",
   "execution_count": 103,
   "metadata": {
    "scrolled": true
   },
   "outputs": [],
   "source": [
    "# yhdistetään dataframet keskenään \"vierekkäin\"\n",
    "dataframe_one_two_concat_rows = pd.concat([df_i, df2], axis=1)"
   ]
  },
  {
   "cell_type": "markdown",
   "metadata": {},
   "source": [
    "#### Tehtävä 12. Sijoita `sarake5`:n viimeinen arvo muuttujaan sekä `sarake3`:n viimeinen arvo erilliseen muuttujaan juuri tehdystä DataFrame-objektista merkkijonomuodossa. Yhdistä kyseiset muuttujat merkkijonona ja poista kaksi viimeistä merkkiä lopputuloksesta. Lopuksi poista kaikki pisteet `.`."
   ]
  },
  {
   "cell_type": "code",
   "execution_count": 172,
   "metadata": {},
   "outputs": [],
   "source": [
    "# tehdään tehtävässä mainituista arvoista muuttujat merkkijonomuodoissa\n",
    "df3 = dataframe_one_two_concat_rows.astype('string')\n",
    "\n",
    "x = df3.iloc[-1,4] # sarake5 viimeinen arvo\n",
    "y = df3.iloc[-1,2] # sarake3 viimeinen arvo"
   ]
  },
  {
   "cell_type": "code",
   "execution_count": 179,
   "metadata": {},
   "outputs": [
    {
     "name": "stdout",
     "output_type": "stream",
     "text": [
      "0788948846380632845\n"
     ]
    }
   ],
   "source": [
    "# yhdistetään aiemmin luodut muuttujat merkkijonona ja poistetaan kaksi viimeistä merkkiä lopputuloksesta\n",
    "z = x + y\n",
    "zz = z[:-2]\n",
    "\n",
    "\n",
    "# poistetaan lopputuloksesta pisteet\n",
    "bad = '.'\n",
    "for i in bad:\n",
    "    zz_r = zz_r.replace(i, '')\n",
    "    \n",
    "\n",
    "# tulostetaan lopputulos\n",
    "print(zz_r)"
   ]
  }
 ],
 "metadata": {
  "kernelspec": {
   "display_name": "Python 3",
   "language": "python",
   "name": "python3"
  },
  "language_info": {
   "codemirror_mode": {
    "name": "ipython",
    "version": 3
   },
   "file_extension": ".py",
   "mimetype": "text/x-python",
   "name": "python",
   "nbconvert_exporter": "python",
   "pygments_lexer": "ipython3",
   "version": "3.9.0"
  }
 },
 "nbformat": 4,
 "nbformat_minor": 4
}
