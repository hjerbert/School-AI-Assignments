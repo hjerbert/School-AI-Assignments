{
 "cells": [
  {
   "cell_type": "markdown",
   "metadata": {},
   "source": [
    "## SQLite-tehtävät"
   ]
  },
  {
   "cell_type": "markdown",
   "metadata": {},
   "source": [
    "#### Tehtävä 1. Lisää tarvittavat kirjastot ja tee `testi.db` niminen tietokanta (SQLite3)"
   ]
  },
  {
   "cell_type": "code",
   "execution_count": 14,
   "metadata": {},
   "outputs": [],
   "source": [
    "# tuodaan SQLite3-kirjasto ja Pandas\n",
    "import sqlite3\n",
    "import pandas as pd\n",
    "\n",
    "# tallennetaan testitietokanta muuttujaan\n",
    "db_name = 'testi.db'"
   ]
  },
  {
   "cell_type": "markdown",
   "metadata": {},
   "source": [
    "#### Tehtävä 2. Luo yhteys tietokantaan"
   ]
  },
  {
   "cell_type": "code",
   "execution_count": 36,
   "metadata": {},
   "outputs": [
    {
     "name": "stdout",
     "output_type": "stream",
     "text": [
      "Connected to SQLite\n"
     ]
    }
   ],
   "source": [
    "# luodaan yhteystietokantaan ja tulostetaan konsoliin viesti\n",
    "database_connection = sqlite3.connect(db_name)\n",
    "c = database_connection.cursor()\n",
    "print(\"Connected to SQLite\")"
   ]
  },
  {
   "cell_type": "markdown",
   "metadata": {},
   "source": [
    "#### Tehtävä 3. Tee tietokantaan seuraavanlainen taulu, jonka nimi on `henkilotaulu`:\n",
    "    \n",
    "| Nimi        | Ika           | Kengankoko  |\n",
    "| ------------- |-------------| -----|\n",
    "| Teppo      | 88 | 47 |\n",
    "| Matti      | 34     | 39 |\n",
    "| Ilona | 41      |    36 |\n",
    "| Sonja | 32      |    37 |"
   ]
  },
  {
   "cell_type": "code",
   "execution_count": 16,
   "metadata": {},
   "outputs": [
    {
     "data": {
      "text/plain": [
       "<sqlite3.Cursor at 0x22943993f10>"
      ]
     },
     "execution_count": 16,
     "metadata": {},
     "output_type": "execute_result"
    }
   ],
   "source": [
    "# luodaan taulu, jonka nimi on \"henkilotaulu\"\n",
    "c.execute('''CREATE TABLE henkilotaulu (\n",
    "    Nimi,\n",
    "    Ika integer not null,\n",
    "    Kengankoko integer not null,\n",
    "    unique (Nimi, Ika, Kengankoko)\n",
    ");''')"
   ]
  },
  {
   "cell_type": "code",
   "execution_count": 17,
   "metadata": {},
   "outputs": [],
   "source": [
    "# tehdään esimerkin rivit tietokannan tauluun\n",
    "data_rows = [\n",
    "    (\"Teppo\", 88, 47),\n",
    "    (\"Matti\", 34, 39),\n",
    "    (\"Ilona\", 41, 36),\n",
    "    (\"Sonja\", 32, 37)\n",
    "            ]\n",
    "\n",
    "# ajetaan rivit sisään for-loopin avulla aiemmin luotuun tauluun\n",
    "for data_row in data_rows:\n",
    "    c.execute('''INSERT INTO henkilotaulu VALUES {0}'''.format(data_row))\n",
    "        # saadaan errori, jos yritetään työntää samoja rivejä tauluun\n",
    "\n",
    "database_connection.commit()"
   ]
  },
  {
   "cell_type": "markdown",
   "metadata": {},
   "source": [
    "#### Tehtävä 4. Kun Taulu on tehty, niin hae taulu Pandasin DataFrame-objektiin ja lisää siihen sarake `Hatunkoko`, jonka jälkeen täytä se valitsemillasi arvoilla"
   ]
  },
  {
   "cell_type": "code",
   "execution_count": 18,
   "metadata": {
    "scrolled": true
   },
   "outputs": [
    {
     "data": {
      "text/html": [
       "<div>\n",
       "<style scoped>\n",
       "    .dataframe tbody tr th:only-of-type {\n",
       "        vertical-align: middle;\n",
       "    }\n",
       "\n",
       "    .dataframe tbody tr th {\n",
       "        vertical-align: top;\n",
       "    }\n",
       "\n",
       "    .dataframe thead th {\n",
       "        text-align: right;\n",
       "    }\n",
       "</style>\n",
       "<table border=\"1\" class=\"dataframe\">\n",
       "  <thead>\n",
       "    <tr style=\"text-align: right;\">\n",
       "      <th></th>\n",
       "      <th>Nimi</th>\n",
       "      <th>Ika</th>\n",
       "      <th>Kengankoko</th>\n",
       "      <th>Hatunkoko</th>\n",
       "    </tr>\n",
       "  </thead>\n",
       "  <tbody>\n",
       "    <tr>\n",
       "      <th>0</th>\n",
       "      <td>Teppo</td>\n",
       "      <td>88</td>\n",
       "      <td>47</td>\n",
       "      <td>63</td>\n",
       "    </tr>\n",
       "    <tr>\n",
       "      <th>1</th>\n",
       "      <td>Matti</td>\n",
       "      <td>34</td>\n",
       "      <td>39</td>\n",
       "      <td>55</td>\n",
       "    </tr>\n",
       "    <tr>\n",
       "      <th>2</th>\n",
       "      <td>Ilona</td>\n",
       "      <td>41</td>\n",
       "      <td>36</td>\n",
       "      <td>55</td>\n",
       "    </tr>\n",
       "    <tr>\n",
       "      <th>3</th>\n",
       "      <td>Sonja</td>\n",
       "      <td>32</td>\n",
       "      <td>37</td>\n",
       "      <td>54</td>\n",
       "    </tr>\n",
       "  </tbody>\n",
       "</table>\n",
       "</div>"
      ],
      "text/plain": [
       "    Nimi  Ika  Kengankoko  Hatunkoko\n",
       "0  Teppo   88          47         63\n",
       "1  Matti   34          39         55\n",
       "2  Ilona   41          36         55\n",
       "3  Sonja   32          37         54"
      ]
     },
     "execution_count": 18,
     "metadata": {},
     "output_type": "execute_result"
    }
   ],
   "source": [
    "# haetaan aiemmin luotu taulu\n",
    "sql_query = '''SELECT * FROM henkilotaulu'''\n",
    "\n",
    "\n",
    "# muodostetaan hausta pandasin dataframe\n",
    "dataframe_from_sqlite = pd.read_sql(sql_query, database_connection)\n",
    "\n",
    "\n",
    "# tehdään lista \"hatunkoko\" ja lisätään ne arvot dataframeen\n",
    "hatunkoko = [63, 55, 55, 54]\n",
    "dataframe_from_sqlite['Hatunkoko'] = hatunkoko\n",
    "\n",
    "\n",
    "# tulosetaan dataframe\n",
    "dataframe_from_sqlite\n"
   ]
  },
  {
   "cell_type": "markdown",
   "metadata": {},
   "source": [
    "#### Tehtävä 5. Tee taulusta kopio, jonka nimi on `henkilotaulukopio` ja lisää siihen rivi valitsemillasi arvoilla"
   ]
  },
  {
   "cell_type": "code",
   "execution_count": 21,
   "metadata": {},
   "outputs": [],
   "source": [
    "# tehdään aiempien muutosten perusteella uusi taulu\n",
    "dataframe_from_sqlite.to_sql(name=\"henkilotaulukopio\", con=database_connection, if_exists='fail', index=False)"
   ]
  },
  {
   "cell_type": "code",
   "execution_count": 38,
   "metadata": {},
   "outputs": [
    {
     "data": {
      "text/plain": [
       "<sqlite3.Cursor at 0x229439c0420>"
      ]
     },
     "execution_count": 38,
     "metadata": {},
     "output_type": "execute_result"
    }
   ],
   "source": [
    "# lisätään rivi uuteen tauluun rivi\n",
    "c.execute('''INSERT INTO henkilotaulukopio VALUES ('Ville', '29', '44.5', '59');''')"
   ]
  },
  {
   "cell_type": "code",
   "execution_count": 39,
   "metadata": {},
   "outputs": [],
   "source": [
    "# tehdään uusi haku, haetaan kopiotaulu, joka luotiin\n",
    "sql_query2 = '''SELECT * FROM henkilotaulukopio'''"
   ]
  },
  {
   "cell_type": "code",
   "execution_count": 40,
   "metadata": {},
   "outputs": [
    {
     "data": {
      "text/html": [
       "<div>\n",
       "<style scoped>\n",
       "    .dataframe tbody tr th:only-of-type {\n",
       "        vertical-align: middle;\n",
       "    }\n",
       "\n",
       "    .dataframe tbody tr th {\n",
       "        vertical-align: top;\n",
       "    }\n",
       "\n",
       "    .dataframe thead th {\n",
       "        text-align: right;\n",
       "    }\n",
       "</style>\n",
       "<table border=\"1\" class=\"dataframe\">\n",
       "  <thead>\n",
       "    <tr style=\"text-align: right;\">\n",
       "      <th></th>\n",
       "      <th>Nimi</th>\n",
       "      <th>Ika</th>\n",
       "      <th>Kengankoko</th>\n",
       "      <th>Hatunkoko</th>\n",
       "    </tr>\n",
       "  </thead>\n",
       "  <tbody>\n",
       "    <tr>\n",
       "      <th>0</th>\n",
       "      <td>Teppo</td>\n",
       "      <td>88</td>\n",
       "      <td>47.0</td>\n",
       "      <td>63</td>\n",
       "    </tr>\n",
       "    <tr>\n",
       "      <th>1</th>\n",
       "      <td>Matti</td>\n",
       "      <td>34</td>\n",
       "      <td>39.0</td>\n",
       "      <td>55</td>\n",
       "    </tr>\n",
       "    <tr>\n",
       "      <th>2</th>\n",
       "      <td>Ilona</td>\n",
       "      <td>41</td>\n",
       "      <td>36.0</td>\n",
       "      <td>55</td>\n",
       "    </tr>\n",
       "    <tr>\n",
       "      <th>3</th>\n",
       "      <td>Sonja</td>\n",
       "      <td>32</td>\n",
       "      <td>37.0</td>\n",
       "      <td>54</td>\n",
       "    </tr>\n",
       "    <tr>\n",
       "      <th>4</th>\n",
       "      <td>Ville</td>\n",
       "      <td>29</td>\n",
       "      <td>44.5</td>\n",
       "      <td>59</td>\n",
       "    </tr>\n",
       "  </tbody>\n",
       "</table>\n",
       "</div>"
      ],
      "text/plain": [
       "    Nimi  Ika  Kengankoko  Hatunkoko\n",
       "0  Teppo   88        47.0         63\n",
       "1  Matti   34        39.0         55\n",
       "2  Ilona   41        36.0         55\n",
       "3  Sonja   32        37.0         54\n",
       "4  Ville   29        44.5         59"
      ]
     },
     "execution_count": 40,
     "metadata": {},
     "output_type": "execute_result"
    }
   ],
   "source": [
    "dataframe_from_sqlite2 = pd.read_sql(sql_query2, database_connection)\n",
    "\n",
    "# tulostetaan uusi taulukkokopio alkuperäisestä, jossa on myös hatunkoko ja uusi lisätty rivi\n",
    "dataframe_from_sqlite2"
   ]
  },
  {
   "cell_type": "markdown",
   "metadata": {},
   "source": [
    "#### Tehtävä 6. Tallenna lopuksi tietokannan muutokset ja sulje yhteys"
   ]
  },
  {
   "cell_type": "code",
   "execution_count": 41,
   "metadata": {},
   "outputs": [],
   "source": [
    "# suljetaan yhteys tietokantaan\n",
    "database_connection.close()"
   ]
  }
 ],
 "metadata": {
  "kernelspec": {
   "display_name": "Python 3",
   "language": "python",
   "name": "python3"
  },
  "language_info": {
   "codemirror_mode": {
    "name": "ipython",
    "version": 3
   },
   "file_extension": ".py",
   "mimetype": "text/x-python",
   "name": "python",
   "nbconvert_exporter": "python",
   "pygments_lexer": "ipython3",
   "version": "3.9.0"
  }
 },
 "nbformat": 4,
 "nbformat_minor": 2
}
