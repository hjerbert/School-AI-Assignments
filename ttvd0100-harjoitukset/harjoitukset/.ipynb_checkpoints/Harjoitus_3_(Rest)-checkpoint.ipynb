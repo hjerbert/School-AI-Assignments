{
 "cells": [
  {
   "cell_type": "markdown",
   "metadata": {},
   "source": [
    "## Rest-tehtävät"
   ]
  },
  {
   "cell_type": "markdown",
   "metadata": {},
   "source": [
    "Ensimmäisessä tehtäväosiossa rajapintaa pääkaupunkiseudun palveluista. Tämä rajapinta on myös käytössä esimerkeissä.\n",
    "\n",
    "Tietoa palvelusta löytyy: https://www.hel.fi/palvelukarttaws/restpages/palvelurekisteri.html\n",
    "\n",
    "---\n",
    "\n",
    "Toisessa tehtäväosiossa on käytössä Digitrafficin rest-rajapinta, johon on tarkoitus soveltaa osaamista. \n",
    "\n",
    "Tietoa palvelusta löytyy: https://www.digitraffic.fi/rautatieliikenne/#dataa-tukevat-rajapinnat--ty%C3%B6kalut"
   ]
  },
  {
   "cell_type": "markdown",
   "metadata": {},
   "source": [
    "### Pääkaupunkiseudun palveluiden rajapinnan tehtävät"
   ]
  },
  {
   "cell_type": "markdown",
   "metadata": {},
   "source": [
    "Url-osoite rajapinnalle: http://www.hel.fi/palvelukarttaws/rest/vpalvelurekisteri"
   ]
  },
  {
   "cell_type": "markdown",
   "metadata": {},
   "source": [
    "#### Tehtävä 1. Lisää käytettävät kirjastot ja muodosta rajapinnan url-osoite päätteellä `/description/`"
   ]
  },
  {
   "cell_type": "code",
   "execution_count": 93,
   "metadata": {},
   "outputs": [],
   "source": [
    "# tuodaan kirjasto, jolla voidaan tehdä http-pyyntöjä ja tuodaan json\n",
    "\n",
    "import requests\n",
    "import json\n",
    "import pprint\n",
    "import pandas as pd"
   ]
  },
  {
   "cell_type": "code",
   "execution_count": 3,
   "metadata": {},
   "outputs": [],
   "source": [
    "# muodostetaan yhteys haluttuun rest-rajapintaan\n",
    "\n",
    "url = \"http://www.hel.fi/palvelukarttaws/rest/vpalvelurekisteri/description/\"\n",
    "\n",
    "resp = requests.get(url=url)"
   ]
  },
  {
   "cell_type": "markdown",
   "metadata": {},
   "source": [
    "#### Tehtävä 2. Tee get-pyyntö osoitteeseen ja varmista, että haku onnistuu ja vastauskoodina on 200"
   ]
  },
  {
   "cell_type": "code",
   "execution_count": 4,
   "metadata": {},
   "outputs": [
    {
     "name": "stdout",
     "output_type": "stream",
     "text": [
      "Vastauskoodi: 200\n"
     ]
    }
   ],
   "source": [
    "# varmistetaan, että haku onnistuu vastauskoodista\n",
    "\n",
    "print(\"Vastauskoodi:\", resp.status_code)"
   ]
  },
  {
   "cell_type": "markdown",
   "metadata": {},
   "source": [
    "#### Tehtävä 3. Tallenna vastaus muuttujaan listana, joiden elementit ovat json-muodossa"
   ]
  },
  {
   "cell_type": "code",
   "execution_count": 94,
   "metadata": {},
   "outputs": [
    {
     "name": "stdout",
     "output_type": "stream",
     "text": [
      "<class 'list'>\n"
     ]
    }
   ],
   "source": [
    "# luetaan vastaus ja tehdään siitä muuttuja\n",
    "\n",
    "data = resp.json()\n",
    "print(type(data))"
   ]
  },
  {
   "cell_type": "markdown",
   "metadata": {},
   "source": [
    "#### Tehtävä 4. Valitse list-objektista viimeisin json-tietue, jonka `service_id`-avaimen arvo on 10473 (10473 arvoja on kolme) ja sijoita kyseisen json-tietueen `id`-avaimen arvo muuttujaan."
   ]
  },
  {
   "cell_type": "code",
   "execution_count": 148,
   "metadata": {
    "scrolled": true
   },
   "outputs": [],
   "source": [
    "# tulostetaan data ja etsitään haluttu service_id -avaimen arvo. Haluttu id arvo on 4892\n",
    "\n",
    "# kommentoin tämän pois, että ei ole kilomterin mittainen Gitlabissä\n",
    "# pprint.pprint(data)"
   ]
  },
  {
   "cell_type": "code",
   "execution_count": 7,
   "metadata": {
    "scrolled": false
   },
   "outputs": [],
   "source": [
    "# tehdään kysely rajapintaan halutulla id:llä\n",
    "\n",
    "id_resp = \"http://www.hel.fi/palvelukarttaws/rest/vpalvelurekisteri/description/4892\""
   ]
  },
  {
   "cell_type": "markdown",
   "metadata": {},
   "source": [
    "#### Tehtävä 5. Tee uusi get-pyyntö samaan osoitteeseen kuin aiemmin (myös päätepiste pysyy samana), mutta ota edellisessä kohdassa valittu muuttuja (muuttuja joka sisältää `id`:n arvon) huomioon pyynnössä"
   ]
  },
  {
   "cell_type": "code",
   "execution_count": 8,
   "metadata": {},
   "outputs": [],
   "source": [
    "# tehdään uusi get-pyyntö, että saadaan data json-muodossa\n",
    "\n",
    "resp2 = requests.get(url=id_resp)"
   ]
  },
  {
   "cell_type": "markdown",
   "metadata": {},
   "source": [
    "#### Tehtävä 6. Tulosta vastauksesta `title`-avaimen arvo"
   ]
  },
  {
   "cell_type": "code",
   "execution_count": 9,
   "metadata": {},
   "outputs": [
    {
     "name": "stdout",
     "output_type": "stream",
     "text": [
      "Itämerihaaste\n"
     ]
    }
   ],
   "source": [
    "# tulostetaan json-datasta halutun id:n arvo\n",
    "\n",
    "data2 = resp2.json()\n",
    "print(data2['title'])\n"
   ]
  },
  {
   "cell_type": "markdown",
   "metadata": {},
   "source": [
    "---"
   ]
  },
  {
   "cell_type": "markdown",
   "metadata": {},
   "source": [
    "### Digitrafficin rajapinnan tehtävät"
   ]
  },
  {
   "cell_type": "markdown",
   "metadata": {},
   "source": [
    "#### Tehtävä 7. Hae Digitrafficin rajapinnasta palvelun ohjeiden mukaan tiedot junalle päivältä 06.06.2018, jonka numero on 1"
   ]
  },
  {
   "cell_type": "code",
   "execution_count": 92,
   "metadata": {},
   "outputs": [
    {
     "name": "stdout",
     "output_type": "stream",
     "text": [
      "<Response [200]>\n"
     ]
    }
   ],
   "source": [
    "# hakukysely tietylle junalle tietyltä päivältä ja vastauskoodin tulostus konsoliin\n",
    "\n",
    "train_url = 'https://rata.digitraffic.fi/api/v1/trains/2018-06-06/1'\n",
    "train_r = requests.get(url=train_url)\n",
    "\n",
    "# tulostetaan vastauskoodi konsoliin\n",
    "print(train_r)"
   ]
  },
  {
   "cell_type": "code",
   "execution_count": 91,
   "metadata": {
    "scrolled": true
   },
   "outputs": [],
   "source": [
    "# valmistellaan data python-muotoon ja käsiteltäväksi seuraavaan tehtävään\n",
    "train_info = json.loads(train_r.text)[0]"
   ]
  },
  {
   "cell_type": "markdown",
   "metadata": {},
   "source": [
    "#### Tehtävä 8. Muodosta edellisen tehtävän get-pyynnön tuloksesta DataFrame (koko Junan 1 päivän 06.06.2018 datasta), jos yksikin `scheduledTime`-avaimen arvo on ennen aikaleimaa '2018-06-06T06:00:00.000Z'."
   ]
  },
  {
   "cell_type": "code",
   "execution_count": 90,
   "metadata": {},
   "outputs": [],
   "source": [
    "# lista johon tallennetaan junien aikataulutiedot str-muodossa\n",
    "timetable = []\n",
    "\n",
    "# tehdään funktio, jonka avulla haetaan datasta listaan kaikki junan aikataulutiedot\n",
    "def get_timetable():\n",
    "    station_access = train_info['timeTableRows']\n",
    "    for stations in station_access:\n",
    "        timetable_access = stations['scheduledTime']\n",
    "        timetable.append(timetable_access)\n",
    "get_timetable()\n",
    "\n",
    "# muutetaan junan aikataulu str -> vertailtavaksi aikaformaatiksi pandasin avulla\n",
    "\n",
    "timetable_series = pd.Series(timetable)\n",
    "timetable_series = pd.to_datetime(timetable_series)\n",
    "\n",
    "# tehdään tarkistus löytyykö junan lähtöaikoja ennen annettua aikamäärettä\n",
    "\n",
    "timecheck = timetable_series <= pd.to_datetime('2018-06-06T06:00:00.000Z')\n",
    "\n",
    "# jos löytyy aikoja ennen aikamäärettä muodostetaan DataFrame junan tiedoista\n",
    "\n",
    "if pd.Series.any(timecheck) == True:\n",
    "    df = pd.read_json(train_r.text)\n",
    "else:\n",
    "    print(\"Ei löytynyt yhtään lähtöaikaa ennen annettua aikamäärettä\")"
   ]
  },
  {
   "cell_type": "markdown",
   "metadata": {},
   "source": [
    "#### Tehtävä 9. Tulosta ainoa rivi generoidusta DataFrame-objektista, jos sellainen muodostetaan."
   ]
  },
  {
   "cell_type": "code",
   "execution_count": 87,
   "metadata": {},
   "outputs": [
    {
     "data": {
      "text/html": [
       "<div>\n",
       "<style scoped>\n",
       "    .dataframe tbody tr th:only-of-type {\n",
       "        vertical-align: middle;\n",
       "    }\n",
       "\n",
       "    .dataframe tbody tr th {\n",
       "        vertical-align: top;\n",
       "    }\n",
       "\n",
       "    .dataframe thead th {\n",
       "        text-align: right;\n",
       "    }\n",
       "</style>\n",
       "<table border=\"1\" class=\"dataframe\">\n",
       "  <thead>\n",
       "    <tr style=\"text-align: right;\">\n",
       "      <th></th>\n",
       "      <th>trainNumber</th>\n",
       "      <th>departureDate</th>\n",
       "      <th>operatorUICCode</th>\n",
       "      <th>operatorShortCode</th>\n",
       "      <th>trainType</th>\n",
       "      <th>trainCategory</th>\n",
       "      <th>commuterLineID</th>\n",
       "      <th>runningCurrently</th>\n",
       "      <th>cancelled</th>\n",
       "      <th>version</th>\n",
       "      <th>timetableType</th>\n",
       "      <th>timetableAcceptanceDate</th>\n",
       "      <th>timeTableRows</th>\n",
       "    </tr>\n",
       "  </thead>\n",
       "  <tbody>\n",
       "    <tr>\n",
       "      <th>0</th>\n",
       "      <td>1</td>\n",
       "      <td>2018-06-06</td>\n",
       "      <td>10</td>\n",
       "      <td>vr</td>\n",
       "      <td>IC</td>\n",
       "      <td>Long-distance</td>\n",
       "      <td></td>\n",
       "      <td>False</td>\n",
       "      <td>False</td>\n",
       "      <td>270528660210</td>\n",
       "      <td>REGULAR</td>\n",
       "      <td>2018-03-05T10:02:10.000Z</td>\n",
       "      <td>[{'stationShortCode': 'HKI', 'stationUICCode':...</td>\n",
       "    </tr>\n",
       "  </tbody>\n",
       "</table>\n",
       "</div>"
      ],
      "text/plain": [
       "   trainNumber departureDate  operatorUICCode operatorShortCode trainType  \\\n",
       "0            1    2018-06-06               10                vr        IC   \n",
       "\n",
       "   trainCategory commuterLineID  runningCurrently  cancelled       version  \\\n",
       "0  Long-distance                            False      False  270528660210   \n",
       "\n",
       "  timetableType   timetableAcceptanceDate  \\\n",
       "0       REGULAR  2018-03-05T10:02:10.000Z   \n",
       "\n",
       "                                       timeTableRows  \n",
       "0  [{'stationShortCode': 'HKI', 'stationUICCode':...  "
      ]
     },
     "execution_count": 87,
     "metadata": {},
     "output_type": "execute_result"
    }
   ],
   "source": [
    "# tulostetaan dataframe aiemman tehtävän tuottaman tuloksen perusteella\n",
    "\n",
    "df"
   ]
  }
 ],
 "metadata": {
  "kernelspec": {
   "display_name": "Python 3",
   "language": "python",
   "name": "python3"
  },
  "language_info": {
   "codemirror_mode": {
    "name": "ipython",
    "version": 3
   },
   "file_extension": ".py",
   "mimetype": "text/x-python",
   "name": "python",
   "nbconvert_exporter": "python",
   "pygments_lexer": "ipython3",
   "version": "3.9.0"
  }
 },
 "nbformat": 4,
 "nbformat_minor": 2
}
