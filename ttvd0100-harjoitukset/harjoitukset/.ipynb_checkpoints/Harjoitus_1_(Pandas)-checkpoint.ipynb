{
 "cells": [
  {
   "cell_type": "markdown",
   "metadata": {},
   "source": [
    "## Pandas-tehtävät"
   ]
  },
  {
   "cell_type": "markdown",
   "metadata": {},
   "source": [
    "#### Huom: Koko harjoituksen ajan on tarkoitus käsitellä alkuperäistä dataframea!"
   ]
  },
  {
   "cell_type": "markdown",
   "metadata": {},
   "source": [
    "#### Tehtävä 1. Lisää tarvittavat kirjastot ja lue `testidata.csv` niminen tiedosto DataFrame-objektiin"
   ]
  },
  {
   "cell_type": "code",
   "execution_count": 13,
   "metadata": {},
   "outputs": [],
   "source": [
    "import pandas as pd\n",
    "import numpy as np\n",
    "import matplotlib.pyplot as plt\n",
    "\n",
    "# tuodaan nimellä df (dataframe) testidata\n",
    "df = pd.read_csv('testidata.csv')"
   ]
  },
  {
   "cell_type": "markdown",
   "metadata": {},
   "source": [
    "#### Tehtävä 2. Tulosta DataFrame-objektin viisi viimeistä riviä"
   ]
  },
  {
   "cell_type": "code",
   "execution_count": 2,
   "metadata": {},
   "outputs": [
    {
     "data": {
      "text/html": [
       "<div>\n",
       "<style scoped>\n",
       "    .dataframe tbody tr th:only-of-type {\n",
       "        vertical-align: middle;\n",
       "    }\n",
       "\n",
       "    .dataframe tbody tr th {\n",
       "        vertical-align: top;\n",
       "    }\n",
       "\n",
       "    .dataframe thead th {\n",
       "        text-align: right;\n",
       "    }\n",
       "</style>\n",
       "<table border=\"1\" class=\"dataframe\">\n",
       "  <thead>\n",
       "    <tr style=\"text-align: right;\">\n",
       "      <th></th>\n",
       "      <th>Unnamed: 0</th>\n",
       "      <th>sarake1</th>\n",
       "      <th>sarake2</th>\n",
       "      <th>sarake3</th>\n",
       "    </tr>\n",
       "  </thead>\n",
       "  <tbody>\n",
       "    <tr>\n",
       "      <th>20</th>\n",
       "      <td>20</td>\n",
       "      <td>0.300589</td>\n",
       "      <td>0.455980</td>\n",
       "      <td>0.292225</td>\n",
       "    </tr>\n",
       "    <tr>\n",
       "      <th>21</th>\n",
       "      <td>21</td>\n",
       "      <td>0.859970</td>\n",
       "      <td>0.346539</td>\n",
       "      <td>0.364629</td>\n",
       "    </tr>\n",
       "    <tr>\n",
       "      <th>22</th>\n",
       "      <td>22</td>\n",
       "      <td>0.842364</td>\n",
       "      <td>0.093485</td>\n",
       "      <td>0.662066</td>\n",
       "    </tr>\n",
       "    <tr>\n",
       "      <th>23</th>\n",
       "      <td>23</td>\n",
       "      <td>0.781693</td>\n",
       "      <td>0.573344</td>\n",
       "      <td>0.815692</td>\n",
       "    </tr>\n",
       "    <tr>\n",
       "      <th>24</th>\n",
       "      <td>24</td>\n",
       "      <td>0.788949</td>\n",
       "      <td>0.945625</td>\n",
       "      <td>0.852690</td>\n",
       "    </tr>\n",
       "  </tbody>\n",
       "</table>\n",
       "</div>"
      ],
      "text/plain": [
       "    Unnamed: 0   sarake1   sarake2   sarake3\n",
       "20          20  0.300589  0.455980  0.292225\n",
       "21          21  0.859970  0.346539  0.364629\n",
       "22          22  0.842364  0.093485  0.662066\n",
       "23          23  0.781693  0.573344  0.815692\n",
       "24          24  0.788949  0.945625  0.852690"
      ]
     },
     "execution_count": 2,
     "metadata": {},
     "output_type": "execute_result"
    }
   ],
   "source": [
    "# tulostetaan dataframen \"häntä\" eli viisi viimeistä riviä\n",
    "\n",
    "df.tail()"
   ]
  },
  {
   "cell_type": "markdown",
   "metadata": {},
   "source": [
    "#### Tehtävä 3. Tulosta datan sarakkeiden otsikot list-objektina"
   ]
  },
  {
   "cell_type": "code",
   "execution_count": 3,
   "metadata": {},
   "outputs": [
    {
     "name": "stdout",
     "output_type": "stream",
     "text": [
      "['Unnamed: 0', 'sarake1', 'sarake2', 'sarake3']\n"
     ]
    }
   ],
   "source": [
    "# tulostetaan dataframen sarakkeiden otsikoista\n",
    "\n",
    "print(list(df))"
   ]
  },
  {
   "cell_type": "markdown",
   "metadata": {},
   "source": [
    "#### Tehtävä 4. Tulosta `sarake2`:n pituus"
   ]
  },
  {
   "cell_type": "code",
   "execution_count": 4,
   "metadata": {},
   "outputs": [
    {
     "name": "stdout",
     "output_type": "stream",
     "text": [
      "25\n"
     ]
    }
   ],
   "source": [
    "# valitaan haluttu sarake, tehdään siitä objekti\n",
    "selection = df['sarake2']\n",
    "\n",
    "#tulostetaan halutun sarakkeen pituus len-komennolla ja printataan se\n",
    "print(len(selection))\n"
   ]
  },
  {
   "cell_type": "markdown",
   "metadata": {},
   "source": [
    "#### Tehtävä 5. Tulosta datan ensimmäinen rivin tiedot"
   ]
  },
  {
   "cell_type": "code",
   "execution_count": 5,
   "metadata": {},
   "outputs": [
    {
     "data": {
      "text/html": [
       "<div>\n",
       "<style scoped>\n",
       "    .dataframe tbody tr th:only-of-type {\n",
       "        vertical-align: middle;\n",
       "    }\n",
       "\n",
       "    .dataframe tbody tr th {\n",
       "        vertical-align: top;\n",
       "    }\n",
       "\n",
       "    .dataframe thead th {\n",
       "        text-align: right;\n",
       "    }\n",
       "</style>\n",
       "<table border=\"1\" class=\"dataframe\">\n",
       "  <thead>\n",
       "    <tr style=\"text-align: right;\">\n",
       "      <th></th>\n",
       "      <th>Unnamed: 0</th>\n",
       "      <th>sarake1</th>\n",
       "      <th>sarake2</th>\n",
       "      <th>sarake3</th>\n",
       "    </tr>\n",
       "  </thead>\n",
       "  <tbody>\n",
       "    <tr>\n",
       "      <th>0</th>\n",
       "      <td>0</td>\n",
       "      <td>0.319219</td>\n",
       "      <td>0.380058</td>\n",
       "      <td>0.919389</td>\n",
       "    </tr>\n",
       "  </tbody>\n",
       "</table>\n",
       "</div>"
      ],
      "text/plain": [
       "   Unnamed: 0   sarake1   sarake2   sarake3\n",
       "0           0  0.319219  0.380058  0.919389"
      ]
     },
     "execution_count": 5,
     "metadata": {},
     "output_type": "execute_result"
    }
   ],
   "source": [
    "# tulostetaan dataframen pelkkä ensimmäinen rivi head-komennolla\n",
    "\n",
    "df.head(1)"
   ]
  },
  {
   "cell_type": "markdown",
   "metadata": {},
   "source": [
    "#### Tehtävä 6. Pudota datasta  `Unnamed: 0` niminen sarake ja todenna lopputulos valitsemallasi tavalla"
   ]
  },
  {
   "cell_type": "code",
   "execution_count": 6,
   "metadata": {},
   "outputs": [
    {
     "name": "stdout",
     "output_type": "stream",
     "text": [
      "     sarake1   sarake2   sarake3\n",
      "0   0.319219  0.380058  0.919389\n",
      "1   0.922251  0.490721  0.133932\n",
      "2   0.073746  0.929162  0.962745\n",
      "3   0.363707  0.878349  0.485700\n",
      "4   0.106903  0.714651  0.039953\n",
      "5   0.196788  0.232740  0.879700\n",
      "6   0.323134  0.036466  0.186775\n",
      "7   0.467610  0.850993  0.377558\n",
      "8   0.303299  0.096971  0.451031\n",
      "9   0.733485  0.591996  0.658924\n",
      "10  0.641628  0.251886  0.274987\n",
      "11  0.154682  0.504352  0.557231\n",
      "12  0.319906  0.489200  0.990319\n",
      "13  0.780267  0.458454  0.053428\n",
      "14  0.023112  0.456483  0.378360\n",
      "15  0.935875  0.698276  0.446885\n",
      "16  0.113171  0.585910  0.026875\n",
      "17  0.273193  0.300307  0.768270\n",
      "18  0.467060  0.225161  0.911570\n",
      "19  0.007302  0.005471  0.790344\n",
      "20  0.300589  0.455980  0.292225\n",
      "21  0.859970  0.346539  0.364629\n",
      "22  0.842364  0.093485  0.662066\n",
      "23  0.781693  0.573344  0.815692\n",
      "24  0.788949  0.945625  0.852690\n"
     ]
    }
   ],
   "source": [
    "# pudotetaan pois ensimmäinen sarake dataframesta drop-komennolla\n",
    "\n",
    "df_cleaned = df.drop(['Unnamed: 0'], axis = 1)\n",
    "\n",
    "# todennetaan, että sarake on poistettu ja tulostetaan uusi, puhdistettu dataframe\n",
    "\n",
    "print(df_cleaned)"
   ]
  },
  {
   "cell_type": "markdown",
   "metadata": {},
   "source": [
    "#### Tehtävä 7. Poista rivit, jos sarakkeessa `sarake1` esiintyy arvo 0.2 tai pienempi"
   ]
  },
  {
   "cell_type": "code",
   "execution_count": 11,
   "metadata": {},
   "outputs": [
    {
     "name": "stdout",
     "output_type": "stream",
     "text": [
      "    Unnamed: 0   sarake1   sarake2   sarake3\n",
      "0            0  0.319219  0.380058  0.919389\n",
      "1            1  0.922251  0.490721  0.133932\n",
      "3            3  0.363707  0.878349  0.485700\n",
      "6            6  0.323134  0.036466  0.186775\n",
      "7            7  0.467610  0.850993  0.377558\n",
      "8            8  0.303299  0.096971  0.451031\n",
      "9            9  0.733485  0.591996  0.658924\n",
      "10          10  0.641628  0.251886  0.274987\n",
      "12          12  0.319906  0.489200  0.990319\n",
      "13          13  0.780267  0.458454  0.053428\n",
      "15          15  0.935875  0.698276  0.446885\n",
      "17          17  0.273193  0.300307  0.768270\n",
      "18          18  0.467060  0.225161  0.911570\n",
      "20          20  0.300589  0.455980  0.292225\n",
      "21          21  0.859970  0.346539  0.364629\n",
      "22          22  0.842364  0.093485  0.662066\n",
      "23          23  0.781693  0.573344  0.815692\n",
      "24          24  0.788949  0.945625  0.852690\n"
     ]
    }
   ],
   "source": [
    "# tulostetaan \n",
    "\n",
    "df_cleaned2 = df[df.sarake1 > 0.2]\n",
    "\n",
    "print(df_cleaned2)\n"
   ]
  },
  {
   "cell_type": "markdown",
   "metadata": {},
   "source": [
    "#### Tehtävä 8. Tulosta `sarake1` sarakkeen minimi- ja maksimiarvo"
   ]
  },
  {
   "cell_type": "code",
   "execution_count": 12,
   "metadata": {},
   "outputs": [
    {
     "name": "stdout",
     "output_type": "stream",
     "text": [
      "sarake1 maksimi arvo on:  0.9358745961778226\n",
      "sarake1 minimi arvo on:  0.00730163662796035\n"
     ]
    }
   ],
   "source": [
    "# tulostetaan sarake1 minimi- ja maksiarvot min ja max -komennoilla\n",
    "\n",
    "print('sarake1 maksimi arvo on: ', df.sarake1.max())\n",
    "print('sarake1 minimi arvo on: ', df.sarake1.min())"
   ]
  },
  {
   "cell_type": "markdown",
   "metadata": {},
   "source": [
    "#### Tehtävä 9. Tee ensimmäisen rivin ensimmäisen sarakkeen arvosta nan"
   ]
  },
  {
   "cell_type": "code",
   "execution_count": 9,
   "metadata": {},
   "outputs": [
    {
     "name": "stdout",
     "output_type": "stream",
     "text": [
      "     sarake1   sarake2   sarake3\n",
      "0        NaN  0.380058  0.919389\n",
      "1   0.922251  0.490721  0.133932\n",
      "3   0.363707  0.878349  0.485700\n",
      "6   0.323134  0.036466  0.186775\n",
      "7   0.467610  0.850993  0.377558\n",
      "8   0.303299  0.096971  0.451031\n",
      "9   0.733485  0.591996  0.658924\n",
      "10  0.641628  0.251886  0.274987\n",
      "12  0.319906  0.489200  0.990319\n",
      "13  0.780267  0.458454  0.053428\n",
      "15  0.935875  0.698276  0.446885\n",
      "17  0.273193  0.300307  0.768270\n",
      "18  0.467060  0.225161  0.911570\n",
      "20  0.300589  0.455980  0.292225\n",
      "21  0.859970  0.346539  0.364629\n",
      "22  0.842364  0.093485  0.662066\n",
      "23  0.781693  0.573344  0.815692\n",
      "24  0.788949  0.945625  0.852690\n"
     ]
    }
   ],
   "source": [
    "# käytetään replace-komentoa ja tehdään ensimmäisen rivin ensimmäisestä sarakkeesta iloc:in avulla arvoltaan NaN\n",
    "\n",
    "df3 = df_cleaned2.replace(df_cleaned2.iloc[0,0], value=np.nan)\n",
    "print(df3)"
   ]
  },
  {
   "cell_type": "markdown",
   "metadata": {},
   "source": [
    "#### Tehtävä 10. Tallenna lopputulos data_export.csv-nimiseen tiedostoon (tiedostoa hyödynnetään seuraavassa harjoituksessa)."
   ]
  },
  {
   "cell_type": "code",
   "execution_count": 10,
   "metadata": {},
   "outputs": [],
   "source": [
    "# tallennetaan esikäsitelty data csv-tiedostoksi\n",
    "\n",
    "df3.to_csv('data_export.csv')\n"
   ]
  }
 ],
 "metadata": {
  "kernelspec": {
   "display_name": "Python 3",
   "language": "python",
   "name": "python3"
  },
  "language_info": {
   "codemirror_mode": {
    "name": "ipython",
    "version": 3
   },
   "file_extension": ".py",
   "mimetype": "text/x-python",
   "name": "python",
   "nbconvert_exporter": "python",
   "pygments_lexer": "ipython3",
   "version": "3.9.0"
  }
 },
 "nbformat": 4,
 "nbformat_minor": 2
}
